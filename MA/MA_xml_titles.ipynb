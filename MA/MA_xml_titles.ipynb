{
 "cells": [
  {
   "cell_type": "code",
   "execution_count": 26,
   "metadata": {},
   "outputs": [],
   "source": [
    "import xml, os, pandas as pd\n",
    "import xml.etree.ElementTree as ET\n",
    "from xml.etree.ElementTree import fromstring, ElementTree\n",
    "import requests"
   ]
  },
  {
   "cell_type": "code",
   "execution_count": 11,
   "metadata": {},
   "outputs": [],
   "source": [
    "os.chdir(\"D://Scriptie//Data//csv-metadata\")"
   ]
  },
  {
   "cell_type": "code",
   "execution_count": 13,
   "metadata": {},
   "outputs": [],
   "source": [
    "df = pd.read_csv('prda-metadata.csv', sep = '\\t')"
   ]
  },
  {
   "cell_type": "code",
   "execution_count": 16,
   "metadata": {},
   "outputs": [],
   "source": [
    "url1= \"http://services.kb.nl/mdo/oai?verb=GetRecord&identifier=DDD:\"\n",
    "url2= df.id[0][:-6]\n",
    "url3 = \"&metadataPrefix=didl\""
   ]
  },
  {
   "cell_type": "code",
   "execution_count": 44,
   "metadata": {},
   "outputs": [],
   "source": [
    "import time\n",
    "import requests\n",
    "from bs4 import BeautifulSoup\n",
    "\n",
    "url = url1 + url2 + url3\n",
    "result = requests.get(url)\n",
    "\n",
    "content = result.content\n",
    "soup = BeautifulSoup(content, \"xml\")\n",
    "\n",
    "list_titles = soup.find_all(\"title\")\n",
    "list_titles = [str(i) for i in list_titles]\n",
    "\n",
    "ltc = [i.replace(\"<title>\", \"\") for i in list_titles]\n",
    "ltc = [i.replace(\"</title>\", \"\") for i in ltc]\n"
   ]
  },
  {
   "cell_type": "code",
   "execution_count": 46,
   "metadata": {},
   "outputs": [
    {
     "data": {
      "text/plain": [
       "'http://services.kb.nl/mdo/oai?verb=GetRecord&identifier=DDD:ddd:010783897:mpeg21&metadataPrefix=didl'"
      ]
     },
     "execution_count": 46,
     "metadata": {},
     "output_type": "execute_result"
    }
   ],
   "source": [
    "url\n"
   ]
  },
  {
   "cell_type": "code",
   "execution_count": 41,
   "metadata": {},
   "outputs": [
    {
     "data": {
      "text/plain": [
       "'Provinciale Drentsche en Asser courant</title>'"
      ]
     },
     "execution_count": 41,
     "metadata": {},
     "output_type": "execute_result"
    }
   ],
   "source": [
    "lt[0].replace(\"<title>\", \"\")"
   ]
  },
  {
   "cell_type": "code",
   "execution_count": 47,
   "metadata": {},
   "outputs": [
    {
     "data": {
      "text/plain": [
       "['Provinciale Drentsche en Asser courant',\n",
       " 'WIJ WILLEM, bij de gratie Ge.tfs, Koning der',\n",
       " 'DIRECTE BELASTINGEN.',\n",
       " 'Advertentie',\n",
       " 'NEDERLANDEN.',\n",
       " 'FRANKRIJK.',\n",
       " 'SPANJE.',\n",
       " 'PORTUGAL.',\n",
       " 'Advertentie',\n",
       " 'PORTUGAL.',\n",
       " 'OOSTENRIJK.',\n",
       " 'MENGELWERK.',\n",
       " 'Advertentie',\n",
       " 'Advertentie',\n",
       " 'Advertentie',\n",
       " 'WIJ WILLEM, bij de gratie Ge.tfs, Koning der',\n",
       " 'DIRECTE BELASTINGEN.',\n",
       " 'Advertentie',\n",
       " 'Advertentie',\n",
       " 'Advertentie',\n",
       " 'Advertentie',\n",
       " 'Advertentie',\n",
       " 'NEDERLANDEN.',\n",
       " 'FRANKRIJK.',\n",
       " 'SPANJE.',\n",
       " 'PORTUGAL.',\n",
       " 'OOSTENRIJK.',\n",
       " 'MENGELWERK.']"
      ]
     },
     "execution_count": 47,
     "metadata": {},
     "output_type": "execute_result"
    }
   ],
   "source": [
    "ltc"
   ]
  },
  {
   "cell_type": "code",
   "execution_count": null,
   "metadata": {},
   "outputs": [],
   "source": []
  }
 ],
 "metadata": {
  "kernelspec": {
   "display_name": "Python 3",
   "language": "python",
   "name": "python3"
  },
  "language_info": {
   "codemirror_mode": {
    "name": "ipython",
    "version": 3
   },
   "file_extension": ".py",
   "mimetype": "text/x-python",
   "name": "python",
   "nbconvert_exporter": "python",
   "pygments_lexer": "ipython3",
   "version": "3.6.5"
  }
 },
 "nbformat": 4,
 "nbformat_minor": 2
}
