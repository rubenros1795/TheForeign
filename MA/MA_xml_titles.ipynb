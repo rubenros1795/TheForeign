{
 "cells": [
  {
   "cell_type": "code",
   "execution_count": 1,
   "metadata": {},
   "outputs": [],
   "source": [
    "import xml, os, pandas as pd, glob\n",
    "import xml.etree.ElementTree as ET\n",
    "from xml.etree.ElementTree import fromstring, ElementTree\n",
    "import requests, re\n",
    "import time\n",
    "import requests\n",
    "import string\n",
    "from bs4 import BeautifulSoup\n",
    "from tqdm import tqdm\n",
    "import random"
   ]
  },
  {
   "cell_type": "code",
   "execution_count": 2,
   "metadata": {},
   "outputs": [],
   "source": [
    "os.chdir(\"C://Users//Ruben//Documents//GitHub//TheForeign//SCC//output-data\")\n",
    "npp_ts = pd.read_csv('npp_timespans.csv', sep = ';')"
   ]
  },
  {
   "cell_type": "code",
   "execution_count": 3,
   "metadata": {},
   "outputs": [],
   "source": [
    "os.chdir(\"D://Scriptie//Data//csv-metadata\")\n",
    "list_csv = glob.glob('*.csv')"
   ]
  },
  {
   "cell_type": "code",
   "execution_count": 4,
   "metadata": {},
   "outputs": [],
   "source": [
    "def GetTS(newspaper_title):\n",
    "    sy = npp_ts.loc[npp_ts['npp'] == newspaper_title, 'sy'].iloc[0]\n",
    "    ey = npp_ts.loc[npp_ts['npp'] == newspaper_title, 'ey'].iloc[0]\n",
    "    t = ey - sy\n",
    "    return t"
   ]
  },
  {
   "cell_type": "code",
   "execution_count": 5,
   "metadata": {},
   "outputs": [],
   "source": [
    "def clean_and_split_str(txt):\n",
    "    #strip_special_chars = re.compile(\"[^A-Za-z0-9#]+\")\n",
    "    translator = str.maketrans('', '', string.punctuation)\n",
    "    txt = txt.translate(translator)\n",
    "    txt = re.sub('\\s+', ' ', txt).strip()\n",
    "    txt = txt.lower()\n",
    "    return txt"
   ]
  },
  {
   "cell_type": "code",
   "execution_count": 6,
   "metadata": {},
   "outputs": [],
   "source": [
    "url1= \"http://services.kb.nl/mdo/oai?verb=GetRecord&identifier=DDD:\"\n",
    "url3 = \"&metadataPrefix=didl\""
   ]
  },
  {
   "cell_type": "code",
   "execution_count": 7,
   "metadata": {},
   "outputs": [],
   "source": [
    "def DateXML(soup_element):\n",
    "    t = str(soup_element.find_all(\"date\")[0])[6:10]\n",
    "    return t"
   ]
  },
  {
   "cell_type": "code",
   "execution_count": 8,
   "metadata": {},
   "outputs": [],
   "source": [
    "def OCRXML(soup_element):\n",
    "    t = soup_element.find_all(\"OCRConfidencelevel\")\n",
    "    t = [str(i) for i in t]\n",
    "    t = [i.replace('<OCRConfidencelevel>', '') for i in t]\n",
    "    t = [i.replace('<OCRConfidencelevel/>', '') for i in t]\n",
    "    t = [i.replace('</OCRConfidencelevel>', '') for i in t]\n",
    "    t = [i for i in t if i]\n",
    "    t = [int(i.replace('0.', '')) for i in t]\n",
    "    t = (sum(t) / len(t)) / 1000\n",
    "    return t\n"
   ]
  },
  {
   "cell_type": "code",
   "execution_count": 9,
   "metadata": {},
   "outputs": [],
   "source": [
    "def GetTitleNppYear(newspaper_title, year):\n",
    "    fn = [fn for fn in list_csv if fn[0:4] == newspaper_title][0]\n",
    "    \n",
    "    df = pd.read_csv(fn, sep = '\\t')\n",
    "    df['id'] = df.id.str[:-6]\n",
    "    df['date'] = df.date.str.slice(0,4)\n",
    "    \n",
    "    df = df.drop_duplicates(subset='id', keep=\"first\")\n",
    "    df = df[df['date'] == str(year)]\n",
    "    df = df.sample(n=30)\n",
    "    df = df.reset_index(drop=True)\n",
    "    \n",
    "    titles_list = list()\n",
    "    \n",
    "    for issue in list(df.id):\n",
    "        url = url1 + issue + url3\n",
    "        result = requests.get(url)\n",
    "        content = result.content\n",
    "        soup = BeautifulSoup(content, \"xml\")\n",
    "        list_titles = soup.find_all(\"title\")\n",
    "        list_titles = [str(i) for i in list_titles]\n",
    "        list_titles = [i.replace('<title>', '') for i in list_titles]\n",
    "        list_titles = [i.replace('</title>', '') for i in list_titles]\n",
    "        list_titles = [clean_and_split_str(i) for i in list_titles]\n",
    "\n",
    "        for title in list_titles:\n",
    "            t = [title, OCRXML(soup)]\n",
    "            titles_list.append(t)\n",
    "    \n",
    "    return titles_list\n",
    "        \n",
    "    "
   ]
  },
  {
   "cell_type": "code",
   "execution_count": 10,
   "metadata": {},
   "outputs": [
    {
     "name": "stderr",
     "output_type": "stream",
     "text": [
      "\r",
      "  0%|                                                                                           | 0/21 [00:00<?, ?it/s]"
     ]
    },
    {
     "ename": "ValueError",
     "evalue": "invalid literal for int() with base 10: 'date'",
     "output_type": "error",
     "traceback": [
      "\u001b[1;31m---------------------------------------------------------------------------\u001b[0m",
      "\u001b[1;31mValueError\u001b[0m                                Traceback (most recent call last)",
      "\u001b[1;32m<ipython-input-10-a4dd7dde5784>\u001b[0m in \u001b[0;36m<module>\u001b[1;34m()\u001b[0m\n\u001b[0;32m      8\u001b[0m     \u001b[0mdict_npp\u001b[0m \u001b[1;33m=\u001b[0m \u001b[0mdict\u001b[0m\u001b[1;33m(\u001b[0m\u001b[1;33m)\u001b[0m\u001b[1;33m\u001b[0m\u001b[0m\n\u001b[0;32m      9\u001b[0m     \u001b[1;32mfor\u001b[0m \u001b[0myear\u001b[0m \u001b[1;32min\u001b[0m \u001b[0mlist\u001b[0m\u001b[1;33m(\u001b[0m\u001b[0mset\u001b[0m\u001b[1;33m(\u001b[0m\u001b[1;33m[\u001b[0m\u001b[0ml\u001b[0m\u001b[1;33m[\u001b[0m\u001b[1;36m0\u001b[0m\u001b[1;33m:\u001b[0m\u001b[1;36m4\u001b[0m\u001b[1;33m]\u001b[0m \u001b[1;32mfor\u001b[0m \u001b[0ml\u001b[0m \u001b[1;32min\u001b[0m \u001b[0mlist\u001b[0m\u001b[1;33m(\u001b[0m\u001b[0mdfnpp\u001b[0m\u001b[1;33m.\u001b[0m\u001b[0mdate\u001b[0m\u001b[1;33m)\u001b[0m\u001b[1;33m]\u001b[0m\u001b[1;33m)\u001b[0m\u001b[1;33m)\u001b[0m\u001b[1;33m:\u001b[0m\u001b[1;33m\u001b[0m\u001b[0m\n\u001b[1;32m---> 10\u001b[1;33m         \u001b[0mltnppy\u001b[0m \u001b[1;33m=\u001b[0m \u001b[0mGetTitleNppYear\u001b[0m\u001b[1;33m(\u001b[0m\u001b[0mnpp\u001b[0m\u001b[1;33m,\u001b[0m \u001b[0mint\u001b[0m\u001b[1;33m(\u001b[0m\u001b[0myear\u001b[0m\u001b[1;33m)\u001b[0m\u001b[1;33m)\u001b[0m\u001b[1;33m\u001b[0m\u001b[0m\n\u001b[0m\u001b[0;32m     11\u001b[0m         \u001b[0mdict_npp\u001b[0m\u001b[1;33m.\u001b[0m\u001b[0mupdate\u001b[0m\u001b[1;33m(\u001b[0m\u001b[1;33m{\u001b[0m\u001b[1;34m\"_\"\u001b[0m\u001b[1;33m.\u001b[0m\u001b[0mjoin\u001b[0m\u001b[1;33m(\u001b[0m\u001b[1;33m[\u001b[0m\u001b[0mnpp\u001b[0m\u001b[1;33m,\u001b[0m \u001b[0mstr\u001b[0m\u001b[1;33m(\u001b[0m\u001b[0myear\u001b[0m\u001b[1;33m)\u001b[0m\u001b[1;33m]\u001b[0m\u001b[1;33m)\u001b[0m\u001b[1;33m:\u001b[0m \u001b[0mltnppy\u001b[0m\u001b[1;33m}\u001b[0m\u001b[1;33m)\u001b[0m\u001b[1;33m\u001b[0m\u001b[0m\n\u001b[0;32m     12\u001b[0m     \u001b[0mlist_dics\u001b[0m\u001b[1;33m.\u001b[0m\u001b[0mappend\u001b[0m\u001b[1;33m(\u001b[0m\u001b[0mdict_npp\u001b[0m\u001b[1;33m)\u001b[0m\u001b[1;33m\u001b[0m\u001b[0m\n",
      "\u001b[1;31mValueError\u001b[0m: invalid literal for int() with base 10: 'date'"
     ]
    }
   ],
   "source": [
    "from tqdm import tqdm\n",
    "\n",
    "list_dics = list()\n",
    "\n",
    "for npp in tqdm(list(npp_ts.npp)):\n",
    "    dfnpp = pd.read_csv(npp + \"-1815-1914.csv-metadata.csv\", sep = \"\\t\")\n",
    "\n",
    "    dict_npp = dict()\n",
    "    for year in list(set([l[0:4] for l in list(dfnpp.date)])):\n",
    "        ltnppy = GetTitleNppYear(npp, int(year))\n",
    "        dict_npp.update({\"_\".join([npp, str(year)]): ltnppy})\n",
    "    list_dics.append(dict_npp)"
   ]
  },
  {
   "cell_type": "code",
   "execution_count": null,
   "metadata": {},
   "outputs": [],
   "source": []
  }
 ],
 "metadata": {
  "kernelspec": {
   "display_name": "Python 3",
   "language": "python",
   "name": "python3"
  },
  "language_info": {
   "codemirror_mode": {
    "name": "ipython",
    "version": 3
   },
   "file_extension": ".py",
   "mimetype": "text/x-python",
   "name": "python",
   "nbconvert_exporter": "python",
   "pygments_lexer": "ipython3",
   "version": "3.6.5"
  }
 },
 "nbformat": 4,
 "nbformat_minor": 2
}
