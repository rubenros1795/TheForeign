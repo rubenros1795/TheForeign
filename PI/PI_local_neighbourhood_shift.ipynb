{
 "cells": [
  {
   "cell_type": "code",
   "execution_count": 1,
   "metadata": {},
   "outputs": [
    {
     "name": "stderr",
     "output_type": "stream",
     "text": [
      "C:\\ProgramData\\Anaconda3\\lib\\site-packages\\gensim\\utils.py:1212: UserWarning: detected Windows; aliasing chunkize to chunkize_serial\n",
      "  warnings.warn(\"detected Windows; aliasing chunkize to chunkize_serial\")\n"
     ]
    }
   ],
   "source": [
    "from nltk.tokenize import sent_tokenize\n",
    "from gensim.models import Word2Vec\n",
    "import nltk\n",
    "from nltk.tokenize import sent_tokenize\n",
    "from nltk.corpus import stopwords\n",
    "import glob\n",
    "import os\n",
    "from os import path\n",
    "import string\n",
    "import numpy\n",
    "import re\n",
    "from __future__ import absolute_import, division, print_function\n",
    "import pandas as pd\n",
    "import multiprocessing\n",
    "import gensim\n",
    "import random\n",
    "from tqdm import tqdm\n",
    "import pandas as pd\n",
    "from gensim.models import KeyedVectors\n",
    "from numpy import array\n",
    "import matplotlib.pyplot as plt\n",
    "import numpy as np"
   ]
  },
  {
   "cell_type": "code",
   "execution_count": 87,
   "metadata": {},
   "outputs": [],
   "source": [
    "def measure_semantic_shift_by_neighborhood(model1,model2,word, neg_word,k=10,verbose=False):\n",
    "\t\"\"\"\n",
    "\tBasic implementation of William Hamilton (@williamleif) et al's measure of semantic change\n",
    "\tproposed in their paper \"Cultural Shift or Linguistic Drift?\" (https://arxiv.org/abs/1606.02821),\n",
    "\twhich they call the \"local neighborhood measure.\" They find this measure better suited to understand\n",
    "\tthe semantic change of nouns owing to \"cultural shift,\" or changes in meaning \"local\" to that word,\n",
    "\trather than global changes in language (\"linguistic drift\") use that are better suited to a\n",
    "\tProcrustes-alignment method (also described in the same paper.)\n",
    "\t\n",
    "\tArguments are:\n",
    "\t- `model1`, `model2`: Are gensim word2vec models.\n",
    "\t- `word` is a sting representation of a given word.\n",
    "\t- `k` is the size of the word's neighborhood (# of its closest words in its vector space).\n",
    "\t\"\"\"\n",
    "\t# Import function for cosine distance\n",
    "\tfrom scipy.spatial.distance import cosine\n",
    "\t\n",
    "\t# Check that this word is present in both models\n",
    "\tif not word in model1.vocab or not word in model2.vocab:\n",
    "\t\tprint(\"!! Word %s not present in both models.\" % word)\n",
    "\t\treturn None\n",
    "\t\n",
    "\t# Get the two neighborhoods\n",
    "\tneighborhood1 = [w for w,c in model1.most_similar(positive = [word],topn=k, negative = [neg_word])]\n",
    "\tneighborhood2 = [w for w,c in model2.most_similar(positive = [word],topn=k, negative = [neg_word])]\n",
    "\t\n",
    "\t# Print?\n",
    "\tif verbose:\n",
    "\t\tprint( '>> Neighborhood of associations of the word \"%s\" in model1:' % word)\n",
    "\t\tprint( ', '.join(neighborhood1))\n",
    "\t\tprint('')\n",
    "\t\tprint( '>> Neighborhood of associations of the word \"%s\" in model2:' % word)\n",
    "\t\tprint( ', '.join(neighborhood2))\n",
    "\t\tprint('')\n",
    "\t\n",
    "\t# Get the 'meta' neighborhood (both combined)\n",
    "\tmeta_neighborhood = list(set(neighborhood1)|set(neighborhood2))\n",
    "\t\n",
    "\t# Filter the meta neighborhood so that it contains only words present in both models\n",
    "\tmeta_neighborhood = [w for w in meta_neighborhood if w in model1.vocab and w in model2.vocab]\n",
    "\t\n",
    "\t# For both models, get a similarity vector between the focus word and all of the words in the meta neighborhood\n",
    "\tvector1 = [model1.similarity(word,w) for w in meta_neighborhood]\n",
    "\tvector2 = [model2.similarity(word,w) for w in meta_neighborhood]\n",
    "\t\n",
    "\t# Compute the cosine distance *between* those similarity vectors\n",
    "\tdist=cosine(vector1,vector2)\n",
    "\t\n",
    "\t# Return this cosine distance -- a measure of the relative semantic shift for this word between these two models\n",
    "\treturn dist"
   ]
  },
  {
   "cell_type": "code",
   "execution_count": 88,
   "metadata": {},
   "outputs": [
    {
     "data": {
      "text/plain": [
       "['1830_s175_5yp_model.bin',\n",
       " '1835_s175_5yp_model.bin',\n",
       " '1840_s175_5yp_model.bin',\n",
       " '1845_s175_5yp_model.bin',\n",
       " '1850_s175_5yp_model.bin',\n",
       " '1855_s175_5yp_model.bin',\n",
       " '1860_s175_5yp_model.bin',\n",
       " '1865_s175_5yp_model.bin',\n",
       " '1870_s175_5yp_model.bin',\n",
       " '1875_s175_5yp_model.bin',\n",
       " '1880_s175_5yp_model.bin',\n",
       " '1885_s175_5yp_model.bin',\n",
       " '1890_s175_5yp_model.bin',\n",
       " '1895_s175_5yp_model.bin',\n",
       " '1900_s175_5yp_model.bin',\n",
       " '1905_s175_5yp_model.bin',\n",
       " '1910_s175_5yp_model.bin']"
      ]
     },
     "execution_count": 88,
     "metadata": {},
     "output_type": "execute_result"
    }
   ],
   "source": [
    "dr = \"D://Scriptie//Data//models//5yp_s175\" \n",
    "os.chdir(dr)\n",
    "list_mod = sorted(glob.glob('*.bin'))\n",
    "list_mod"
   ]
  },
  {
   "cell_type": "code",
   "execution_count": 94,
   "metadata": {},
   "outputs": [
    {
     "name": "stdout",
     "output_type": "stream",
     "text": [
      "1830\n"
     ]
    },
    {
     "name": "stderr",
     "output_type": "stream",
     "text": [
      "C:\\ProgramData\\Anaconda3\\lib\\site-packages\\gensim\\matutils.py:737: FutureWarning: Conversion of the second argument of issubdtype from `int` to `np.signedinteger` is deprecated. In future, it will be treated as `np.int32 == np.dtype(int).type`.\n",
      "  if np.issubdtype(vec.dtype, np.int):\n"
     ]
    },
    {
     "name": "stdout",
     "output_type": "stream",
     "text": [
      ">> Neighborhood of associations of the word \"buitenland\" in model1:\n",
      "nederland, duitschland, amerika, binnenland, voornaamste, noordamerika, land, industrieele, engeland, europa\n",
      "\n",
      ">> Neighborhood of associations of the word \"buitenland\" in model2:\n",
      "binnenland, buitenlandsche, binnenlandsche, landsche, oostersche, oosten, inwendige, vasteland, uitwendige, stilstand\n",
      "\n",
      "1840\n",
      ">> Neighborhood of associations of the word \"buitenland\" in model1:\n",
      "binnenland, handelsberigten, —», buitenlandsche, zeit, nieuwstijdingen, particuliere, correspondentien, vasteland, duitsche\n",
      "\n",
      ">> Neighborhood of associations of the word \"buitenland\" in model2:\n",
      "binnenland, buitenlandsche, nieuwstijdingen, grootbrittannie, vasteland, oosten, duitschland, lusteloos, gedaald, handelsberigten\n",
      "\n",
      "1850\n",
      ">> Neighborhood of associations of the word \"buitenland\" in model1:\n",
      "buitenlandsche, binnenland, vasteland, vreemde, binnenlandsche, europa, europesche, gedaald, rijzende, flaauwe\n",
      "\n",
      ">> Neighborhood of associations of the word \"buitenland\" in model2:\n",
      "buitenlandsche, binnenland, binnenlandsche, binneni, vreemde, binn, flaauwe, vooruitgegaan, politieke, vasteland\n",
      "\n",
      "1860\n",
      ">> Neighborhood of associations of the word \"buitenland\" in model1:\n",
      "buitenlandsche, binnenland, binnenlandsche, binneni, voornaamste, bedroegen, binn, europeesche, buitenlands, levendiger\n",
      "\n",
      ">> Neighborhood of associations of the word \"buitenland\" in model2:\n",
      "buitenlandsche, binnenland, binneni, voornaamste, europa, europeesche, vreemde, europesche, amerika, onze\n",
      "\n",
      "1870\n",
      ">> Neighborhood of associations of the word \"buitenland\" in model1:\n",
      "buitenlandsche, europa, binnenland, europesche, europeesche, diplomatieke, ongunstige, binneni, onrustbarende, gezegende\n",
      "\n",
      ">> Neighborhood of associations of the word \"buitenland\" in model2:\n",
      "buitenlandsche, bnitenl, europeesche, vooruitgaande, europesche, spanje, vooruitgegaan, europa, binneni, gezegende\n",
      "\n",
      "1880\n",
      ">> Neighborhood of associations of the word \"buitenland\" in model1:\n",
      "buitenlandsche, amerika, bnitenl, europa, gezegende, bedroevende, europesche, vooruitgegaan, europeesche, werelddeel\n",
      "\n",
      ">> Neighborhood of associations of the word \"buitenland\" in model2:\n",
      "europa, buitenlandsche, belangrijkste, binnenland, voornaamste, europesche, amerika, duitschland, werelddeel, nederland\n",
      "\n",
      "1890\n",
      ">> Neighborhood of associations of the word \"buitenland\" in model1:\n",
      "europa, europeesche, voornaamste, nederland, frankrijk, buitenlandsche, binnenland, duitschland, amerika, gezegende\n",
      "\n",
      ">> Neighborhood of associations of the word \"buitenland\" in model2:\n",
      "voornaamste, nederland, buitenlandsche, europa, argentinië, europeesche, binnenland, amerika, frankrijk, werelddeel\n",
      "\n",
      "1900\n",
      ">> Neighborhood of associations of the word \"buitenland\" in model1:\n",
      "europa, nederland, frankrijk, werelddeel, oostazië, duitschland, noordamerika, land, amerika, buitenlandsche\n",
      "\n",
      ">> Neighborhood of associations of the word \"buitenland\" in model2:\n",
      "nederland, duitschland, verre, amerika, noordamerika, frankrijk, europa, buitenlandsche, land, oostazië\n",
      "\n"
     ]
    }
   ],
   "source": [
    "ry = list(range(1830,1911,5))\n",
    "\n",
    "sems_list = list()\n",
    "for c in list(range(0,16,2)):\n",
    "    \n",
    "    fn1 = list_mod[c-1]\n",
    "    fn2 = list_mod[c]\n",
    "    \n",
    "    m1 = KeyedVectors.load_word2vec_format(fn1, binary = True)\n",
    "    m2 = KeyedVectors.load_word2vec_format(fn2, binary = True)\n",
    "    \n",
    "    print(ry[c])\n",
    "    sems = measure_semantic_shift_by_neighborhood(m1,m2, 'buitenland', '', k = 10, verbose = True)\n",
    "    sems_list.append(sems)"
   ]
  },
  {
   "cell_type": "code",
   "execution_count": 92,
   "metadata": {},
   "outputs": [],
   "source": [
    "dfr = pd.DataFrame([sems_list, list(range(3,16,2))]).T\n",
    "dfr.columns = ['ss', 'y']"
   ]
  },
  {
   "cell_type": "code",
   "execution_count": 93,
   "metadata": {},
   "outputs": [
    {
     "data": {
      "text/plain": [
       "<matplotlib.axes._subplots.AxesSubplot at 0x1fa30953f98>"
      ]
     },
     "execution_count": 93,
     "metadata": {},
     "output_type": "execute_result"
    },
    {
     "data": {
      "image/png": "[encoded data removed]",
      "text/plain": [
       "<Figure size 432x288 with 1 Axes>"
      ]
     },
     "metadata": {},
     "output_type": "display_data"
    }
   ],
   "source": [
    "dfr.plot(x=\"y\", y=[\"ss\"], kind=\"line\")"
   ]
  },
  {
   "cell_type": "code",
   "execution_count": 76,
   "metadata": {},
   "outputs": [
    {
     "name": "stderr",
     "output_type": "stream",
     "text": [
      "C:\\ProgramData\\Anaconda3\\lib\\site-packages\\gensim\\matutils.py:737: FutureWarning: Conversion of the second argument of issubdtype from `int` to `np.signedinteger` is deprecated. In future, it will be treated as `np.int32 == np.dtype(int).type`.\n",
      "  if np.issubdtype(vec.dtype, np.int):\n"
     ]
    },
    {
     "name": "stdout",
     "output_type": "stream",
     "text": [
      ">> Neighborhood of associations of the word \"buitenland\" in model1:\n",
      "binnenland, handelsberigten, —», buitenlandsche, zeit, nieuwstijdingen, particuliere, correspondentien, vasteland, duitsche, augsb, grootbrittannie, duitschland, turkye, klimmende, drukke, italie, oosten, allgemeine, binnenlandsche, bankact, 12j, allg, ongewone, 2504, oostersche, metalliek, 17j, 10j, bankaktien\n",
      ">> Neighborhood of associations of the word \"buitenland\" in model2:\n",
      "buitenlandsche, binnenland, binnenlandsche, binneni, voornaamste, bedroegen, binn, europeesche, buitenlands, levendiger, gezegende, beliepen, flaauwe, builenl, vooruitgegaan, toegenomen, grootbrittanje, duitsche, vasteland, bestuurt, totale, bekrompen, ongunstiger, gunstiger, vreemde, ongehoorde, hoogere, duitschland, ongunstige, europa\n"
     ]
    },
    {
     "data": {
      "text/plain": [
       "0.1286379098892212"
      ]
     },
     "execution_count": 76,
     "metadata": {},
     "output_type": "execute_result"
    }
   ],
   "source": [
    "m1 = KeyedVectors.load_word2vec_format(list_mod[1], binary = True)\n",
    "m2 = KeyedVectors.load_word2vec_format(list_mod[5], binary = True)\n",
    "measure_semantic_shift_by_neighborhood(m1,m2, 'buitenland','', k = 30, verbose = True)"
   ]
  },
  {
   "cell_type": "code",
   "execution_count": 72,
   "metadata": {},
   "outputs": [
    {
     "name": "stderr",
     "output_type": "stream",
     "text": [
      "C:\\ProgramData\\Anaconda3\\lib\\site-packages\\gensim\\matutils.py:737: FutureWarning: Conversion of the second argument of issubdtype from `int` to `np.signedinteger` is deprecated. In future, it will be treated as `np.int32 == np.dtype(int).type`.\n",
      "  if np.issubdtype(vec.dtype, np.int):\n"
     ]
    },
    {
     "data": {
      "text/plain": [
       "[('buitenlandsche', 0.4625668525695801),\n",
       " ('officieele', 0.40066057443618774),\n",
       " ('binnenland', 0.3995678126811981),\n",
       " ('boireau', 0.39126667380332947),\n",
       " ('bnitenl', 0.38337722420692444),\n",
       " ('binnenlandsche', 0.35152870416641235),\n",
       " ('amsterdam', 0.3507334589958191),\n",
       " ('crehen', 0.3486859202384949),\n",
       " ('aangeteekende', 0.3434913754463196),\n",
       " ('mondelinge', 0.3419615924358368),\n",
       " ('beleeningen', 0.34158462285995483),\n",
       " ('commissionair', 0.3380923867225647),\n",
       " ('commissionnair', 0.33654001355171204),\n",
       " ('rotterdam', 0.3330592215061188),\n",
       " ('2ft', 0.33010298013687134),\n",
       " ('comm', 0.3287237882614136),\n",
       " ('berlgn', 0.3282638192176819),\n",
       " ('turin', 0.3282214403152466),\n",
       " ('peltzer', 0.3254780173301697),\n",
       " ('beknopte', 0.3236433267593384)]"
      ]
     },
     "execution_count": 72,
     "metadata": {},
     "output_type": "execute_result"
    }
   ],
   "source": [
    "m1.most_similar(positive=['buitenland'], negative=['land'], topn=20)"
   ]
  },
  {
   "cell_type": "code",
   "execution_count": null,
   "metadata": {},
   "outputs": [],
   "source": []
  }
 ],
 "metadata": {
  "kernelspec": {
   "display_name": "Python 3",
   "language": "python",
   "name": "python3"
  },
  "language_info": {
   "codemirror_mode": {
    "name": "ipython",
    "version": 3
   },
   "file_extension": ".py",
   "mimetype": "text/x-python",
   "name": "python",
   "nbconvert_exporter": "python",
   "pygments_lexer": "ipython3",
   "version": "3.6.5"
  }
 },
 "nbformat": 4,
 "nbformat_minor": 2
}
