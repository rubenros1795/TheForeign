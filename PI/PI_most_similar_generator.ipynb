{
 "cells": [
  {
   "cell_type": "code",
   "execution_count": 1,
   "metadata": {},
   "outputs": [
    {
     "name": "stderr",
     "output_type": "stream",
     "text": [
      "C:\\ProgramData\\Anaconda3\\lib\\site-packages\\gensim\\utils.py:1212: UserWarning: detected Windows; aliasing chunkize to chunkize_serial\n",
      "  warnings.warn(\"detected Windows; aliasing chunkize to chunkize_serial\")\n"
     ]
    }
   ],
   "source": [
    "from nltk.tokenize import sent_tokenize\n",
    "from gensim.models import Word2Vec\n",
    "import nltk\n",
    "from nltk.tokenize import sent_tokenize\n",
    "from nltk.corpus import stopwords\n",
    "import glob\n",
    "import os\n",
    "from os import path\n",
    "import string\n",
    "import numpy\n",
    "import re\n",
    "from __future__ import absolute_import, division, print_function\n",
    "import pandas as pd\n",
    "import multiprocessing\n",
    "import gensim\n",
    "import random\n",
    "from tqdm import tqdm\n"
   ]
  },
  {
   "cell_type": "code",
   "execution_count": 9,
   "metadata": {},
   "outputs": [
    {
     "name": "stderr",
     "output_type": "stream",
     "text": [
      "C:\\ProgramData\\Anaconda3\\lib\\site-packages\\ipykernel_launcher.py:7: DeprecationWarning: Call to deprecated `most_similar` (Method will be removed in 4.0.0, use self.wv.most_similar() instead).\n",
      "  import sys\n",
      "C:\\ProgramData\\Anaconda3\\lib\\site-packages\\gensim\\matutils.py:737: FutureWarning: Conversion of the second argument of issubdtype from `int` to `np.signedinteger` is deprecated. In future, it will be treated as `np.int32 == np.dtype(int).type`.\n",
      "  if np.issubdtype(vec.dtype, np.int):\n"
     ]
    },
    {
     "name": "stdout",
     "output_type": "stream",
     "text": [
      "1815: handelaar | handel | fiscus | vreemdeling | buitenlanders | vertier | voordeel | fabrijkant | buitenlandschen | huurder\n",
      "1825: handelaar | vreemdeling | fabrijkant | fabrikant | handel | fiscus | verbruiker | zeehandel | bandel | smokkelhandel\n",
      "1835: handelaar | verbruiker | graanbouw | graanhandel | vreemdeling | zeehandel | sluikhandel | smokkelhandel | fabrijkant | inlander\n",
      "1845: verbruiker | handelaar | vreemdeling | fabrijkant | graanbouw | kleinhandel | smokkelhandel | veehouder | fiscus | kapitalist\n",
      "1855: verbruiker | handelaar | geldschieter | fabrijkant | fiscus | kapitalist | burgerman | europeaan | inlander | kleinhandel\n",
      "1865: verbruiker | geldschieter | europeaan | kapitalist | vreemdeling | slaaf | fiscus | landverhuizer | fabrijkant | schuldenaar\n",
      "1875: verbruiker | geldschieter | kapitalist | fiscus | europeaan | fabrijkant | schuldeischer | planter | trekker | landverhuizer\n",
      "1885: verbruiker | geldschieter | landverhuizer | planter | europeaan | consument | fabrijkant | burgerman | fiscus | inlander\n",
      "1895: verbruiker | burgerman | fabrijkant | consument | planter | landverhuizer | ambachtsman | kapitalist | staatsburger | geldschieter\n",
      "1905: verbruiker | planter | handelsman | burgerman | vreemdeling | consument | inboorling | mededinger | artist | nieuweling\n"
     ]
    }
   ],
   "source": [
    "os.chdir(\"D://Scriptie//Data//models\")\n",
    "list_mod = glob.glob('*.w2v')\n",
    "\n",
    "for i in list(range(1815,1906,10)):\n",
    "    mfn = [m for m in list_mod if int(m[0:4]) == i]\n",
    "    model = Word2Vec.load(mfn[0])\n",
    "    print(str(i) + \": \" + \" | \".join(list(dict(model.most_similar(\"buitenlander\")))))"
   ]
  },
  {
   "cell_type": "code",
   "execution_count": 34,
   "metadata": {},
   "outputs": [
    {
     "name": "stderr",
     "output_type": "stream",
     "text": [
      "C:\\ProgramData\\Anaconda3\\lib\\site-packages\\ipykernel_launcher.py:6: DeprecationWarning: Call to deprecated `similarity` (Method will be removed in 4.0.0, use self.wv.similarity() instead).\n",
      "  \n",
      "C:\\ProgramData\\Anaconda3\\lib\\site-packages\\gensim\\matutils.py:737: FutureWarning: Conversion of the second argument of issubdtype from `int` to `np.signedinteger` is deprecated. In future, it will be treated as `np.int32 == np.dtype(int).type`.\n",
      "  if np.issubdtype(vec.dtype, np.int):\n"
     ]
    },
    {
     "name": "stdout",
     "output_type": "stream",
     "text": [
      "1815 | 0.30990615\n",
      "1825 | 0.2768644\n",
      "1835 | 0.40612268\n",
      "1845 | 0.39999768\n",
      "1855 | 0.42438474\n",
      "1865 | 0.48978323\n",
      "1875 | 0.46328232\n",
      "1885 | 0.45654786\n",
      "1895 | 0.4170223\n",
      "1905 | 0.37728736\n"
     ]
    }
   ],
   "source": [
    "list_mod = glob.glob('*.w2v')\n",
    "\n",
    "for i in list(range(1815,1906,10)):\n",
    "    mfn = [m for m in list_mod if int(m[0:4]) == i]\n",
    "    model = Word2Vec.load(mfn[0])\n",
    "    print(str(i) + \" | \" +  str(model.similarity('buitenlander', 'staat')))# + \" | \" + str(model.similarity('binnenlandsche', 'vaderlandsche')))"
   ]
  },
  {
   "cell_type": "code",
   "execution_count": 57,
   "metadata": {},
   "outputs": [
    {
     "name": "stderr",
     "output_type": "stream",
     "text": [
      "C:\\ProgramData\\Anaconda3\\lib\\site-packages\\ipykernel_launcher.py:7: DeprecationWarning: Call to deprecated `most_similar` (Method will be removed in 4.0.0, use self.wv.most_similar() instead).\n",
      "  import sys\n",
      "C:\\ProgramData\\Anaconda3\\lib\\site-packages\\gensim\\matutils.py:737: FutureWarning: Conversion of the second argument of issubdtype from `int` to `np.signedinteger` is deprecated. In future, it will be treated as `np.int32 == np.dtype(int).type`.\n",
      "  if np.issubdtype(vec.dtype, np.int):\n",
      "C:\\ProgramData\\Anaconda3\\lib\\site-packages\\ipykernel_launcher.py:9: DeprecationWarning: Call to deprecated `most_similar` (Method will be removed in 4.0.0, use self.wv.most_similar() instead).\n",
      "  if __name__ == '__main__':\n",
      "C:\\ProgramData\\Anaconda3\\lib\\site-packages\\ipykernel_launcher.py:14: DeprecationWarning: Call to deprecated `most_similar` (Method will be removed in 4.0.0, use self.wv.most_similar() instead).\n",
      "  \n",
      "C:\\ProgramData\\Anaconda3\\lib\\site-packages\\ipykernel_launcher.py:24: SettingWithCopyWarning: \n",
      "A value is trying to be set on a copy of a slice from a DataFrame\n",
      "\n",
      "See the caveats in the documentation: http://pandas.pydata.org/pandas-docs/stable/indexing.html#indexing-view-versus-copy\n"
     ]
    }
   ],
   "source": [
    "dftt = pd.DataFrame()\n",
    "\n",
    "for i in list(range(1815,1906,10)):\n",
    "    mfn = [m for m in list_mod if int(m[0:4]) == i]\n",
    "    model = Word2Vec.load(mfn[0])\n",
    "    dft = pd.DataFrame()\n",
    "    for ms in list(dict(model.most_similar('buitenland', topn=15)).keys()):\n",
    "\n",
    "        first_list = list(dict(model.most_similar(ms, topn=15)).keys())\n",
    "\n",
    "        first_df = pd.DataFrame()\n",
    "\n",
    "        for term in first_list:\n",
    "            tmp_df = pd.DataFrame([[key,value] for key,value in dict(model.most_similar(term, topn=15)).items()], columns = ['target', 'weight'])\n",
    "            tmp_df['source'] = term\n",
    "            first_df = first_df.append(tmp_df)\n",
    "\n",
    "        dft = dft.append(first_df)\n",
    "    dft['clust_year'] = i\n",
    "    dft['word_count'] = \"\"\n",
    "    \n",
    "    for count,word in enumerate(list(dft.target)):\n",
    "        c = len(dft[dft.target == word])\n",
    "        dft['word_count'][count] = c\n",
    "    \n",
    "    \n",
    "    dftt = dftt.append(dft)"
   ]
  },
  {
   "cell_type": "code",
   "execution_count": 65,
   "metadata": {},
   "outputs": [],
   "source": [
    "dftt.to_csv('testnw.csv', index=False)"
   ]
  },
  {
   "cell_type": "code",
   "execution_count": 64,
   "metadata": {},
   "outputs": [],
   "source": [
    "dftt = dftt[dftt.word_count > 16]"
   ]
  },
  {
   "cell_type": "code",
   "execution_count": null,
   "metadata": {},
   "outputs": [],
   "source": []
  }
 ],
 "metadata": {
  "kernelspec": {
   "display_name": "Python 3",
   "language": "python",
   "name": "python3"
  },
  "language_info": {
   "codemirror_mode": {
    "name": "ipython",
    "version": 3
   },
   "file_extension": ".py",
   "mimetype": "text/x-python",
   "name": "python",
   "nbconvert_exporter": "python",
   "pygments_lexer": "ipython3",
   "version": "3.6.5"
  }
 },
 "nbformat": 4,
 "nbformat_minor": 2
}
