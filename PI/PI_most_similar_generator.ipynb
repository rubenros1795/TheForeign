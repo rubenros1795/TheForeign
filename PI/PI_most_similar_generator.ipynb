{
 "cells": [
  {
   "cell_type": "code",
   "execution_count": 1,
   "metadata": {},
   "outputs": [
    {
     "name": "stderr",
     "output_type": "stream",
     "text": [
      "C:\\ProgramData\\Anaconda3\\lib\\site-packages\\gensim\\utils.py:1212: UserWarning: detected Windows; aliasing chunkize to chunkize_serial\n",
      "  warnings.warn(\"detected Windows; aliasing chunkize to chunkize_serial\")\n"
     ]
    }
   ],
   "source": [
    "from nltk.tokenize import sent_tokenize\n",
    "from gensim.models import Word2Vec\n",
    "import nltk\n",
    "from nltk.tokenize import sent_tokenize\n",
    "from nltk.corpus import stopwords\n",
    "import glob\n",
    "import os\n",
    "from os import path\n",
    "import string\n",
    "import numpy\n",
    "import re\n",
    "from __future__ import absolute_import, division, print_function\n",
    "import pandas as pd\n",
    "import multiprocessing\n",
    "import gensim\n",
    "import random\n",
    "from tqdm import tqdm\n",
    "import pandas as pd\n",
    "from gensim.models import KeyedVectors\n",
    "from numpy import array\n",
    "import matplotlib.pyplot as plt\n",
    "import numpy as np"
   ]
  },
  {
   "cell_type": "code",
   "execution_count": 2,
   "metadata": {},
   "outputs": [
    {
     "data": {
      "text/plain": [
       "['1830_s120_5yp_model.bin',\n",
       " '1835_s120_5yp_model.bin',\n",
       " '1840_s120_5yp_model.bin',\n",
       " '1845_s120_5yp_model.bin',\n",
       " '1850_s120_5yp_model.bin',\n",
       " '1855_s120_5yp_model.bin',\n",
       " '1860_s120_5yp_model.bin',\n",
       " '1865_s120_5yp_model.bin',\n",
       " '1870_s120_5yp_model.bin',\n",
       " '1875_s120_5yp_model.bin',\n",
       " '1880_s120_5yp_model.bin',\n",
       " '1885_s120_5yp_model.bin',\n",
       " '1890_s120_5yp_model.bin',\n",
       " '1895_s120_5yp_model.bin',\n",
       " '1900_s120_5yp_model.bin',\n",
       " '1905_s120_5yp_model.bin',\n",
       " '1910_s120_5yp_model.bin']"
      ]
     },
     "execution_count": 2,
     "metadata": {},
     "output_type": "execute_result"
    }
   ],
   "source": [
    "os.chdir(\"D://Scriptie//Data//models//5yp_s120\")\n",
    "list_mod = glob.glob('*bin')\n",
    "list_mod"
   ]
  },
  {
   "cell_type": "code",
   "execution_count": 3,
   "metadata": {},
   "outputs": [
    {
     "name": "stderr",
     "output_type": "stream",
     "text": [
      "C:\\ProgramData\\Anaconda3\\lib\\site-packages\\gensim\\matutils.py:737: FutureWarning: Conversion of the second argument of issubdtype from `int` to `np.signedinteger` is deprecated. In future, it will be treated as `np.int32 == np.dtype(int).type`.\n",
      "  if np.issubdtype(vec.dtype, np.int):\n"
     ]
    },
    {
     "name": "stdout",
     "output_type": "stream",
     "text": [
      "1830: bezitters | noordnederlanders | fabrijken | handelaren | handelaars | grondstoffen | dezulken | veelal | mededinging | weinigen\n",
      "1835: handwerkslieden | fabrikanten | produkten | mededinging | vreemdelingen | handelaren | dezulken | concurrentie | premiën | voortbrengselen\n",
      "1840: duitschers | nederlanders | handwerkslieden | handelaars | fabrijkanten | produkten | buitenslands | particulieren | vreemden | fabrikaten\n",
      "1845: handwerkslieden | nederlanders | vreemdelingen | fabrijkanten | dezulken | duitschers | ambachtslieden | fabrikanten | vreemden | produkten\n",
      "1850: vreemdelingen | handwerkslieden | nederlanders | fabrijkanten | ambachtslieden | duitschers | dezulken | kooplieden | fabrikaten | landbouwers\n",
      "1855: vreemdelingen | handwerkslieden | nederlanders | duitschers | kooplieden | ambachtslieden | vreemden | fabrijkanten | koopvaarders | inboorlingen\n",
      "1860: vreemdelingen | nederlanders | europeanen | inboorlingen | chinezen | duitschers | amerikanen | inlanders | zendelingen | handwerkslieden\n",
      "1865: vreemdelingen | europeanen | chinezen | japannezen | inboorlingen | zendelingen | japanners | emigranten | mandarijnen | kolonisten\n",
      "1870: vreemdelingen | japanners | inboorlingen | japannezen | chinezen | europeanen | zendelingen | mandarijnen | kolonisten | nederlanders\n",
      "1875: vreemdelingen | japanners | japannezen | emigranten | inboorlingen | chinezen | nederlanders | zendelingen | europeanen | kolonisten\n",
      "1880: vreemdelingen | japanners | japannezen | emigranten | kolonisten | nederlanders | inboorlingen | chineezen | zendelingen | chinezen\n",
      "1885: vreemdelingen | duitschers | japanners | japannezen | nederlanders | emigranten | kolonisten | hollanders | zendelingen | consuls\n",
      "1890: vreemdelingen | nederlanders | handelaars | japannezen | kooplieden | emigranten | koopvaarders | consuls | chinezen | duitschers\n",
      "1895: vreemdelingen | nederlanders | hollanders | handelaars | kooplieden | japannezen | emigranten | duitschers | handelaren | industriëlen\n",
      "1900: nederlanders | vreemdelingen | kooplieden | hollanders | duitschers | belgen | handelaars | japannezen | fabrikanten | uitgewekenen\n",
      "1905: nederlanders | vreemdelingen | duitschers | kooplieden | handelaars | hollanders | belgen | inzenders | industriëlen | journalisten\n",
      "1910: nederlanders | vreemdelingen | kooplieden | handelaars | amerikanen | consuls | hollanders | kapitalisten | journalisten | inzenders\n"
     ]
    }
   ],
   "source": [
    "for i in list(range(1830,1911,5)):\n",
    "    mfn = [m for m in list_mod if int(m[0:4]) == i]\n",
    "    model = KeyedVectors.load_word2vec_format(mfn[0], binary = True)\n",
    "    print(str(i) + \": \" + \" | \".join(list(dict(model.most_similar(\"buitenlanders\")))))"
   ]
  },
  {
   "cell_type": "code",
   "execution_count": 15,
   "metadata": {},
   "outputs": [
    {
     "name": "stderr",
     "output_type": "stream",
     "text": [
      "C:\\ProgramData\\Anaconda3\\lib\\site-packages\\gensim\\matutils.py:737: FutureWarning: Conversion of the second argument of issubdtype from `int` to `np.signedinteger` is deprecated. In future, it will be treated as `np.int32 == np.dtype(int).type`.\n",
      "  if np.issubdtype(vec.dtype, np.int):\n"
     ]
    },
    {
     "name": "stdout",
     "output_type": "stream",
     "text": [
      "1830 | 0.4414671\n",
      "1835 | 0.49363732\n",
      "1840 | 0.51942486\n",
      "1845 | 0.53733957\n",
      "1850 | 0.5652598\n",
      "1855 | 0.61594266\n",
      "1860 | 0.59166425\n",
      "1865 | 0.5735038\n",
      "1870 | 0.55257225\n",
      "1875 | 0.5198351\n",
      "1880 | 0.5478813\n",
      "1885 | 0.563742\n",
      "1890 | 0.60609436\n",
      "1895 | 0.62136036\n",
      "1900 | 0.63160896\n",
      "1905 | 0.6176877\n",
      "1910 | 0.63292044\n"
     ]
    }
   ],
   "source": [
    "for i in list(range(1830,1911,5)):\n",
    "    mfn = [m for m in list_mod if int(m[0:4]) == i]\n",
    "    model = KeyedVectors.load_word2vec_format(mfn[0], binary = True)\n",
    "    print(str(i) + \" | \" +  str(model.similarity('buitenlanders', 'kooplieden')))# + \" | \" + str(model.similarity('binnenlandsche', 'vaderlandsche')))"
   ]
  },
  {
   "cell_type": "code",
   "execution_count": 17,
   "metadata": {},
   "outputs": [
    {
     "name": "stderr",
     "output_type": "stream",
     "text": [
      "C:\\ProgramData\\Anaconda3\\lib\\site-packages\\gensim\\matutils.py:737: FutureWarning: Conversion of the second argument of issubdtype from `int` to `np.signedinteger` is deprecated. In future, it will be treated as `np.int32 == np.dtype(int).type`.\n",
      "  if np.issubdtype(vec.dtype, np.int):\n"
     ]
    }
   ],
   "source": [
    "dftt = pd.DataFrame()\n",
    "\n",
    "for i in list(range(1830,1911,5)):\n",
    "    mfn = [m for m in list_mod if int(m[0:4]) == i][0]\n",
    "    model = KeyedVectors.load_word2vec_format(mfn, binary = True)\n",
    "    dft = pd.DataFrame()\n",
    "    for ms in list(dict(model.most_similar('buitenland', topn=10)).keys()):\n",
    "\n",
    "        first_list = list(dict(model.most_similar(ms, topn=10)).keys())\n",
    "\n",
    "        first_df = pd.DataFrame()\n",
    "\n",
    "        for term in first_list:\n",
    "            tmp_df = pd.DataFrame([[key,value] for key,value in dict(model.most_similar(term, topn=10)).items()], columns = ['target', 'weight'])\n",
    "            tmp_df['source'] = term\n",
    "            first_df = first_df.append(tmp_df)\n",
    "\n",
    "        dft = dft.append(first_df)\n",
    "    dft['clust_year'] = i\n",
    "    degree_ref = pd.DataFrame([dft['target'].value_counts()]).T\n",
    "\n",
    "    odf = pd.DataFrame()\n",
    "\n",
    "    for x in range(0,len(dft)-1):\n",
    "        source = dft.iloc[x,2]\n",
    "        weight = dft.iloc[x,1]\n",
    "        target = dft.iloc[x,0]\n",
    "        oc = int(degree_ref[degree_ref.index == target]['target'][0])\n",
    "\n",
    "        tmp = pd.DataFrame([source, target, weight, oc]).T\n",
    "        tmp.columns = ['source', 'target', 'weight', 'degree']\n",
    "        odf = odf.append(tmp)\n",
    "    \n",
    "    \n",
    "    odf['clust_year'] = i\n",
    "    dftt = dftt.append(odf)"
   ]
  },
  {
   "cell_type": "code",
   "execution_count": 115,
   "metadata": {},
   "outputs": [
    {
     "name": "stderr",
     "output_type": "stream",
     "text": [
      "C:\\ProgramData\\Anaconda3\\lib\\site-packages\\ipykernel_launcher.py:6: DeprecationWarning: Call to deprecated `most_similar` (Method will be removed in 4.0.0, use self.wv.most_similar() instead).\n",
      "  \n",
      "C:\\ProgramData\\Anaconda3\\lib\\site-packages\\gensim\\matutils.py:737: FutureWarning: Conversion of the second argument of issubdtype from `int` to `np.signedinteger` is deprecated. In future, it will be treated as `np.int32 == np.dtype(int).type`.\n",
      "  if np.issubdtype(vec.dtype, np.int):\n",
      "C:\\ProgramData\\Anaconda3\\lib\\site-packages\\ipykernel_launcher.py:8: DeprecationWarning: Call to deprecated `most_similar` (Method will be removed in 4.0.0, use self.wv.most_similar() instead).\n",
      "  \n",
      "C:\\ProgramData\\Anaconda3\\lib\\site-packages\\ipykernel_launcher.py:13: DeprecationWarning: Call to deprecated `most_similar` (Method will be removed in 4.0.0, use self.wv.most_similar() instead).\n",
      "  del sys.path[0]\n"
     ]
    }
   ],
   "source": [
    "dftt = pd.DataFrame()\n",
    "model = Word2Vec.load('1905_5yp_model.w2v')\n",
    "\n",
    "for wt in ['buitenland']: #['buitenlandsche', 'nationale', 'internationale', 'vaderlandsche', 'binnenlandsche']:\n",
    "    dft = pd.DataFrame()\n",
    "    for ms in list(dict(model.most_similar(wt, topn=15)).keys()):\n",
    "\n",
    "        first_list = list(dict(model.most_similar(ms, topn=15)).keys())\n",
    "\n",
    "        first_df = pd.DataFrame()\n",
    "\n",
    "        for term in first_list:\n",
    "            tmp_df = pd.DataFrame([[key,value] for key,value in dict(model.most_similar(term, topn=15)).items()], columns = ['target', 'weight'])\n",
    "            tmp_df['source'] = term\n",
    "            first_df = first_df.append(tmp_df)\n",
    "\n",
    "        dft = dft.append(first_df)\n",
    "    dftt = dftt.append(dft)"
   ]
  },
  {
   "cell_type": "code",
   "execution_count": 18,
   "metadata": {},
   "outputs": [],
   "source": [
    "os.chdir(\"D://Scriptie//Data//models\")\n",
    "\n",
    "dftt= dftt[dftt.degree > 5]\n",
    "dftt.to_csv('testnwi.csv', index=False)\n",
    "\n",
    "os.chdir(\"D://Scriptie//Data//models//5yp_s120\")\n"
   ]
  },
  {
   "cell_type": "code",
   "execution_count": null,
   "metadata": {},
   "outputs": [],
   "source": [
    "dftt"
   ]
  },
  {
   "cell_type": "code",
   "execution_count": 23,
   "metadata": {},
   "outputs": [
    {
     "name": "stderr",
     "output_type": "stream",
     "text": [
      "C:\\ProgramData\\Anaconda3\\lib\\site-packages\\gensim\\matutils.py:737: FutureWarning: Conversion of the second argument of issubdtype from `int` to `np.signedinteger` is deprecated. In future, it will be treated as `np.int32 == np.dtype(int).type`.\n",
      "  if np.issubdtype(vec.dtype, np.int):\n"
     ]
    }
   ],
   "source": [
    "tls = dict(model.most_similar(positive = ['latere'], topn=100))"
   ]
  },
  {
   "cell_type": "code",
   "execution_count": 24,
   "metadata": {},
   "outputs": [
    {
     "data": {
      "text/plain": [
       "['vroegere',\n",
       " 'laatste',\n",
       " 'laatsto',\n",
       " 'voorgaande',\n",
       " 'betere',\n",
       " 'enkele',\n",
       " 'weinige',\n",
       " 'vorige',\n",
       " 'vorigo',\n",
       " 'voorafgaande',\n",
       " 'gunstige',\n",
       " 'eenlge']"
      ]
     },
     "execution_count": 24,
     "metadata": {},
     "output_type": "execute_result"
    }
   ],
   "source": [
    "[key for key, value in tls.items() if value > 0.45]"
   ]
  },
  {
   "cell_type": "code",
   "execution_count": null,
   "metadata": {},
   "outputs": [],
   "source": []
  }
 ],
 "metadata": {
  "kernelspec": {
   "display_name": "Python 3",
   "language": "python",
   "name": "python3"
  },
  "language_info": {
   "codemirror_mode": {
    "name": "ipython",
    "version": 3
   },
   "file_extension": ".py",
   "mimetype": "text/x-python",
   "name": "python",
   "nbconvert_exporter": "python",
   "pygments_lexer": "ipython3",
   "version": "3.6.5"
  }
 },
 "nbformat": 4,
 "nbformat_minor": 2
}
