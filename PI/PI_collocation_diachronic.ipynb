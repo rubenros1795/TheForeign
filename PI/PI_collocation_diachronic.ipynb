{
 "cells": [
  {
   "cell_type": "code",
   "execution_count": 1,
   "metadata": {},
   "outputs": [],
   "source": [
    "import os, re, glob, pandas as pd, math, random"
   ]
  },
  {
   "cell_type": "code",
   "execution_count": 2,
   "metadata": {},
   "outputs": [],
   "source": [
    "os.chdir(\"D://Scriptie//Data//lines//cleaned\")\n",
    "list_txt = glob.glob('*.txt')\n",
    "list_txt = [f for f in list_txt if f[5:12] == \"cleaned\"]"
   ]
  },
  {
   "cell_type": "code",
   "execution_count": 3,
   "metadata": {},
   "outputs": [],
   "source": [
    "def get_context(list_of_lines, word1):\n",
    "    lines = [l for l in list_of_lines if word1 in l]\n",
    "    \n",
    "    output_lines = list()\n",
    "    \n",
    "    for el in lines:\n",
    "        line_tok = el.split(\" \")\n",
    "        positions = [idx for idx, s in enumerate(line_tok) if word1 in s]\n",
    "            \n",
    "        for pos in positions:\n",
    "            p = int(pos)\n",
    "            s = p - 24\n",
    "            e = p + 24\n",
    "\n",
    "            if s < 0:\n",
    "                s = 0\n",
    "            if e > (len(line_tok) - 1):\n",
    "                e = (len(line_tok) - 1)\n",
    "\n",
    "            selection = \" \".join(line_tok[s:e])\n",
    "            output_lines.append(selection)\n",
    "            \n",
    "    return output_lines"
   ]
  },
  {
   "cell_type": "code",
   "execution_count": 4,
   "metadata": {},
   "outputs": [],
   "source": [
    "# log [probability(number of times both words appears in a document together)/probability(word1)*probability(word2)]\n",
    "\n",
    "def file_len(fname):\n",
    "    with open(fname, encoding = 'utf-8') as f:\n",
    "        for i, l in enumerate(f):\n",
    "            pass\n",
    "    return i + 1\n",
    "\n",
    "def pmi_year(year, word1, word2):\n",
    "    fn = [f for f in list_txt if int(f[0:4]) == year][0]\n",
    "    \n",
    "\n",
    "    filesize = int(os.stat(fn).st_size) / 1000000\n",
    "    filelen = file_len(fn)\n",
    "    \n",
    "    \n",
    "    if filesize > 100:\n",
    "        samplesize = round(100 * filelen / filesize)\n",
    "        with open(fn, encoding = 'utf-8') as f:\n",
    "            lines_year = random.sample(f.read().split('\\n'),samplesize)    \n",
    "    \n",
    "    else:\n",
    "        with open(fn, encoding = 'utf-8') as f:\n",
    "            lines_year = f.read().split('\\n')\n",
    "    \n",
    "    n_w1 = len([line for line in lines_year if word1 in line]) / len(lines_year)\n",
    "    n_w2 = len([line for line in lines_year if word2 in line]) / len(lines_year)\n",
    "    \n",
    "    lines_selection = get_context(lines_year, word1)\n",
    "    n_w1_w2 = len([line for line in lines_selection if word2 in line]) / len(lines_year)\n",
    "    print(str(year) + \" | \" + word1 + ' and ' + word2 + ' occur ' + str(len([line for line in lines_selection if word2 in line])) + ' times together in window')\n",
    "    \n",
    "    if n_w1 == 0:\n",
    "        col = 0\n",
    "        \n",
    "        \n",
    "    if n_w2 == 0:\n",
    "        col = 0\n",
    "        \n",
    "    if n_w1_w2 == 0:\n",
    "        col = 0\n",
    "    \n",
    "    else:\n",
    "        col = math.log(n_w1_w2 / (n_w1 * n_w2))\n",
    "    return col\n",
    "\n",
    "def dpmi(start_year, end_year, word1, word2):\n",
    "    list_pmi = list()\n",
    "    \n",
    "    for year in range(start_year,(end_year + 1)):\n",
    "        list_pmi.append(pmi_year(year, word1, word2))\n",
    "        \n",
    "    df = pd.DataFrame(list_pmi, columns = ['pmi'])\n",
    "    \n",
    "    df['year'] = list(range(start_year,(end_year+1)))\n",
    "    \n",
    "    return df"
   ]
  },
  {
   "cell_type": "code",
   "execution_count": 5,
   "metadata": {},
   "outputs": [
    {
     "name": "stdout",
     "output_type": "stream",
     "text": [
      "1855 | buitenland and wereld occur 60 times together in window\n",
      "1856 | buitenland and wereld occur 30 times together in window\n",
      "1857 | buitenland and wereld occur 17 times together in window\n",
      "1858 | buitenland and wereld occur 28 times together in window\n",
      "1859 | buitenland and wereld occur 32 times together in window\n",
      "1860 | buitenland and wereld occur 23 times together in window\n",
      "1861 | buitenland and wereld occur 45 times together in window\n",
      "1862 | buitenland and wereld occur 55 times together in window\n",
      "1863 | buitenland and wereld occur 22 times together in window\n",
      "1864 | buitenland and wereld occur 45 times together in window\n",
      "1865 | buitenland and wereld occur 31 times together in window\n",
      "1866 | buitenland and wereld occur 29 times together in window\n",
      "1867 | buitenland and wereld occur 61 times together in window\n",
      "1868 | buitenland and wereld occur 33 times together in window\n",
      "1869 | buitenland and wereld occur 25 times together in window\n",
      "1870 | buitenland and wereld occur 33 times together in window\n",
      "1871 | buitenland and wereld occur 49 times together in window\n",
      "1872 | buitenland and wereld occur 18 times together in window\n",
      "1873 | buitenland and wereld occur 31 times together in window\n",
      "1874 | buitenland and wereld occur 25 times together in window\n",
      "1875 | buitenland and wereld occur 38 times together in window\n",
      "1876 | buitenland and wereld occur 36 times together in window\n",
      "1877 | buitenland and wereld occur 31 times together in window\n",
      "1878 | buitenland and wereld occur 57 times together in window\n",
      "1879 | buitenland and wereld occur 44 times together in window\n",
      "1880 | buitenland and wereld occur 35 times together in window\n",
      "1881 | buitenland and wereld occur 34 times together in window\n",
      "1882 | buitenland and wereld occur 36 times together in window\n",
      "1883 | buitenland and wereld occur 30 times together in window\n",
      "1884 | buitenland and wereld occur 46 times together in window\n",
      "1885 | buitenland and wereld occur 39 times together in window\n",
      "1886 | buitenland and wereld occur 34 times together in window\n",
      "1887 | buitenland and wereld occur 41 times together in window\n",
      "1888 | buitenland and wereld occur 51 times together in window\n",
      "1889 | buitenland and wereld occur 52 times together in window\n",
      "1890 | buitenland and wereld occur 63 times together in window\n",
      "1891 | buitenland and wereld occur 46 times together in window\n",
      "1892 | buitenland and wereld occur 68 times together in window\n",
      "1893 | buitenland and wereld occur 59 times together in window\n",
      "1894 | buitenland and wereld occur 50 times together in window\n",
      "1895 | buitenland and wereld occur 48 times together in window\n",
      "1896 | buitenland and wereld occur 54 times together in window\n",
      "1897 | buitenland and wereld occur 50 times together in window\n",
      "1898 | buitenland and wereld occur 49 times together in window\n",
      "1899 | buitenland and wereld occur 60 times together in window\n",
      "1900 | buitenland and wereld occur 63 times together in window\n",
      "1901 | buitenland and wereld occur 54 times together in window\n",
      "1902 | buitenland and wereld occur 60 times together in window\n",
      "1903 | buitenland and wereld occur 52 times together in window\n",
      "1904 | buitenland and wereld occur 41 times together in window\n",
      "1905 | buitenland and wereld occur 43 times together in window\n",
      "1906 | buitenland and wereld occur 45 times together in window\n",
      "1907 | buitenland and wereld occur 52 times together in window\n",
      "1908 | buitenland and wereld occur 49 times together in window\n",
      "1909 | buitenland and wereld occur 44 times together in window\n",
      "1910 | buitenland and wereld occur 68 times together in window\n",
      "1911 | buitenland and wereld occur 57 times together in window\n",
      "1912 | buitenland and wereld occur 47 times together in window\n",
      "1913 | buitenland and wereld occur 40 times together in window\n",
      "1914 | buitenland and wereld occur 40 times together in window\n"
     ]
    }
   ],
   "source": [
    "df = dpmi(1855, 1914, 'buitenland', 'wereld')\n",
    "w = df.plot.line(x='year', y='pmi')"
   ]
  },
  {
   "cell_type": "code",
   "execution_count": 7,
   "metadata": {},
   "outputs": [
    {
     "data": {
      "image/png": "[encoded data removed]",
      "text/plain": [
       "<Figure size 432x288 with 1 Axes>"
      ]
     },
     "metadata": {},
     "output_type": "display_data"
    }
   ],
   "source": [
    "w = df.plot.line(x='year', y='pmi')"
   ]
  },
  {
   "cell_type": "code",
   "execution_count": 8,
   "metadata": {},
   "outputs": [],
   "source": [
    "os.chdir(\"C:\\\\Users\\\\Ruben\\\\Documents\\\\Scriptie\\\\Data\\\\pmi_dfs\")\n",
    "\n",
    "df.to_csv('pmi_buitenlandsche_onze_1815-1914.csv', index = True)"
   ]
  },
  {
   "cell_type": "code",
   "execution_count": null,
   "metadata": {},
   "outputs": [],
   "source": []
  }
 ],
 "metadata": {
  "kernelspec": {
   "display_name": "Python 3",
   "language": "python",
   "name": "python3"
  },
  "language_info": {
   "codemirror_mode": {
    "name": "ipython",
    "version": 3
   },
   "file_extension": ".py",
   "mimetype": "text/x-python",
   "name": "python",
   "nbconvert_exporter": "python",
   "pygments_lexer": "ipython3",
   "version": "3.6.5"
  }
 },
 "nbformat": 4,
 "nbformat_minor": 2
}
