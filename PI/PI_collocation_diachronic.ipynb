{
 "cells": [
  {
   "cell_type": "code",
   "execution_count": 1,
   "metadata": {},
   "outputs": [],
   "source": [
    "import os, re, glob, pandas as pd, math, random"
   ]
  },
  {
   "cell_type": "code",
   "execution_count": 2,
   "metadata": {},
   "outputs": [],
   "source": [
    "os.chdir(\"D://Scriptie//Data//lines//cleaned\")\n",
    "list_txt = glob.glob('*.txt')\n",
    "list_txt = [f for f in list_txt if f[5:12] == \"cleaned\"]"
   ]
  },
  {
   "cell_type": "code",
   "execution_count": 3,
   "metadata": {},
   "outputs": [],
   "source": [
    "def get_context(list_of_lines, word1):\n",
    "    lines = [l for l in list_of_lines if word1 in l]\n",
    "    \n",
    "    output_lines = list()\n",
    "    \n",
    "    for el in lines:\n",
    "        line_tok = el.split(\" \")\n",
    "        positions = [idx for idx, s in enumerate(line_tok) if word1 in s]\n",
    "            \n",
    "        for pos in positions:\n",
    "            p = int(pos)\n",
    "            s = p - 24\n",
    "            e = p + 24\n",
    "\n",
    "            if s < 0:\n",
    "                s = 0\n",
    "            if e > (len(line_tok) - 1):\n",
    "                e = (len(line_tok) - 1)\n",
    "\n",
    "            selection = \" \".join(line_tok[s:e])\n",
    "            output_lines.append(selection)\n",
    "            \n",
    "    return output_lines"
   ]
  },
  {
   "cell_type": "code",
   "execution_count": 4,
   "metadata": {},
   "outputs": [],
   "source": [
    "# log [probability(number of times both words appears in a document together)/probability(word1)*probability(word2)]\n",
    "\n",
    "def file_len(fname):\n",
    "    with open(fname, encoding = 'utf-8') as f:\n",
    "        for i, l in enumerate(f):\n",
    "            pass\n",
    "    return i + 1\n",
    "\n",
    "def pmi_year(year, word1, word2):\n",
    "    fn = [f for f in list_txt if int(f[0:4]) == year][0]\n",
    "    \n",
    "\n",
    "    filesize = int(os.stat(fn).st_size) / 1000000\n",
    "    filelen = file_len(fn)\n",
    "    \n",
    "    \n",
    "    if filesize > 100:\n",
    "        samplesize = round(100 * filelen / filesize)\n",
    "        with open(fn, encoding = 'utf-8') as f:\n",
    "            lines_year = random.sample(f.read().split('\\n'),samplesize)    \n",
    "    \n",
    "    else:\n",
    "        with open(fn, encoding = 'utf-8') as f:\n",
    "            lines_year = f.read().split('\\n')\n",
    "    \n",
    "    n_w1 = len([line for line in lines_year if word1 in line]) / len(lines_year)\n",
    "    n_w2 = len([line for line in lines_year if word2 in line]) / len(lines_year)\n",
    "    \n",
    "    lines_selection = get_context(lines_year, word1)\n",
    "    n_w1_w2 = len([line for line in lines_selection if word2 in line]) / len(lines_year)\n",
    "    print(str(year) + \" | \" + word1 + ' and ' + word2 + ' occur ' + str(len([line for line in lines_selection if word2 in line])) + ' times together in window')\n",
    "    \n",
    "    if n_w1 == 0:\n",
    "        col = 0\n",
    "        \n",
    "        \n",
    "    if n_w2 == 0:\n",
    "        col = 0\n",
    "        \n",
    "    if n_w1_w2 == 0:\n",
    "        col = 0\n",
    "    \n",
    "    else:\n",
    "        col = math.log(n_w1_w2 / (n_w1 * n_w2))\n",
    "    return col\n",
    "\n",
    "def dpmi(start_year, end_year, word1, word2):\n",
    "    list_pmi = list()\n",
    "    \n",
    "    for year in range(start_year,(end_year + 1)):\n",
    "        list_pmi.append(pmi_year(year, word1, word2))\n",
    "        \n",
    "    df = pd.DataFrame(list_pmi, columns = ['pmi'])\n",
    "    \n",
    "    df['year'] = list(range(start_year,(end_year+1)))\n",
    "    \n",
    "    return df"
   ]
  },
  {
   "cell_type": "code",
   "execution_count": 5,
   "metadata": {},
   "outputs": [
    {
     "name": "stdout",
     "output_type": "stream",
     "text": [
      "1815 | buitenlandsche and bevolking occur 0 times together in window\n",
      "1816 | buitenlandsche and bevolking occur 1 times together in window\n",
      "1817 | buitenlandsche and bevolking occur 3 times together in window\n",
      "1818 | buitenlandsche and bevolking occur 1 times together in window\n",
      "1819 | buitenlandsche and bevolking occur 2 times together in window\n",
      "1820 | buitenlandsche and bevolking occur 0 times together in window\n",
      "1821 | buitenlandsche and bevolking occur 2 times together in window\n",
      "1822 | buitenlandsche and bevolking occur 0 times together in window\n",
      "1823 | buitenlandsche and bevolking occur 4 times together in window\n",
      "1824 | buitenlandsche and bevolking occur 3 times together in window\n",
      "1825 | buitenlandsche and bevolking occur 0 times together in window\n",
      "1826 | buitenlandsche and bevolking occur 4 times together in window\n",
      "1827 | buitenlandsche and bevolking occur 1 times together in window\n",
      "1828 | buitenlandsche and bevolking occur 4 times together in window\n",
      "1829 | buitenlandsche and bevolking occur 5 times together in window\n",
      "1830 | buitenlandsche and bevolking occur 4 times together in window\n",
      "1831 | buitenlandsche and bevolking occur 6 times together in window\n",
      "1832 | buitenlandsche and bevolking occur 3 times together in window\n",
      "1833 | buitenlandsche and bevolking occur 10 times together in window\n",
      "1834 | buitenlandsche and bevolking occur 6 times together in window\n",
      "1835 | buitenlandsche and bevolking occur 5 times together in window\n",
      "1836 | buitenlandsche and bevolking occur 9 times together in window\n",
      "1837 | buitenlandsche and bevolking occur 4 times together in window\n",
      "1838 | buitenlandsche and bevolking occur 6 times together in window\n",
      "1839 | buitenlandsche and bevolking occur 11 times together in window\n",
      "1840 | buitenlandsche and bevolking occur 12 times together in window\n",
      "1841 | buitenlandsche and bevolking occur 14 times together in window\n",
      "1842 | buitenlandsche and bevolking occur 5 times together in window\n",
      "1843 | buitenlandsche and bevolking occur 10 times together in window\n",
      "1844 | buitenlandsche and bevolking occur 14 times together in window\n",
      "1845 | buitenlandsche and bevolking occur 11 times together in window\n",
      "1846 | buitenlandsche and bevolking occur 10 times together in window\n",
      "1847 | buitenlandsche and bevolking occur 14 times together in window\n",
      "1848 | buitenlandsche and bevolking occur 19 times together in window\n",
      "1849 | buitenlandsche and bevolking occur 14 times together in window\n",
      "1850 | buitenlandsche and bevolking occur 13 times together in window\n",
      "1851 | buitenlandsche and bevolking occur 16 times together in window\n",
      "1852 | buitenlandsche and bevolking occur 9 times together in window\n",
      "1853 | buitenlandsche and bevolking occur 23 times together in window\n",
      "1854 | buitenlandsche and bevolking occur 14 times together in window\n",
      "1855 | buitenlandsche and bevolking occur 17 times together in window\n",
      "1856 | buitenlandsche and bevolking occur 31 times together in window\n",
      "1857 | buitenlandsche and bevolking occur 27 times together in window\n",
      "1858 | buitenlandsche and bevolking occur 20 times together in window\n",
      "1859 | buitenlandsche and bevolking occur 21 times together in window\n",
      "1860 | buitenlandsche and bevolking occur 43 times together in window\n",
      "1861 | buitenlandsche and bevolking occur 26 times together in window\n",
      "1862 | buitenlandsche and bevolking occur 19 times together in window\n",
      "1863 | buitenlandsche and bevolking occur 22 times together in window\n",
      "1864 | buitenlandsche and bevolking occur 23 times together in window\n",
      "1865 | buitenlandsche and bevolking occur 18 times together in window\n",
      "1866 | buitenlandsche and bevolking occur 32 times together in window\n",
      "1867 | buitenlandsche and bevolking occur 28 times together in window\n",
      "1868 | buitenlandsche and bevolking occur 21 times together in window\n",
      "1869 | buitenlandsche and bevolking occur 10 times together in window\n",
      "1870 | buitenlandsche and bevolking occur 21 times together in window\n",
      "1871 | buitenlandsche and bevolking occur 6 times together in window\n",
      "1872 | buitenlandsche and bevolking occur 11 times together in window\n",
      "1873 | buitenlandsche and bevolking occur 6 times together in window\n",
      "1874 | buitenlandsche and bevolking occur 9 times together in window\n",
      "1875 | buitenlandsche and bevolking occur 11 times together in window\n",
      "1876 | buitenlandsche and bevolking occur 14 times together in window\n",
      "1877 | buitenlandsche and bevolking occur 9 times together in window\n",
      "1878 | buitenlandsche and bevolking occur 10 times together in window\n",
      "1879 | buitenlandsche and bevolking occur 14 times together in window\n",
      "1880 | buitenlandsche and bevolking occur 10 times together in window\n",
      "1881 | buitenlandsche and bevolking occur 4 times together in window\n",
      "1882 | buitenlandsche and bevolking occur 7 times together in window\n",
      "1883 | buitenlandsche and bevolking occur 11 times together in window\n",
      "1884 | buitenlandsche and bevolking occur 3 times together in window\n",
      "1885 | buitenlandsche and bevolking occur 5 times together in window\n",
      "1886 | buitenlandsche and bevolking occur 3 times together in window\n",
      "1887 | buitenlandsche and bevolking occur 6 times together in window\n",
      "1888 | buitenlandsche and bevolking occur 5 times together in window\n",
      "1889 | buitenlandsche and bevolking occur 6 times together in window\n",
      "1890 | buitenlandsche and bevolking occur 3 times together in window\n",
      "1891 | buitenlandsche and bevolking occur 15 times together in window\n",
      "1892 | buitenlandsche and bevolking occur 6 times together in window\n",
      "1893 | buitenlandsche and bevolking occur 5 times together in window\n",
      "1894 | buitenlandsche and bevolking occur 8 times together in window\n",
      "1895 | buitenlandsche and bevolking occur 11 times together in window\n",
      "1896 | buitenlandsche and bevolking occur 15 times together in window\n",
      "1897 | buitenlandsche and bevolking occur 8 times together in window\n",
      "1898 | buitenlandsche and bevolking occur 7 times together in window\n",
      "1899 | buitenlandsche and bevolking occur 5 times together in window\n",
      "1900 | buitenlandsche and bevolking occur 10 times together in window\n",
      "1901 | buitenlandsche and bevolking occur 5 times together in window\n",
      "1902 | buitenlandsche and bevolking occur 6 times together in window\n",
      "1903 | buitenlandsche and bevolking occur 20 times together in window\n",
      "1904 | buitenlandsche and bevolking occur 6 times together in window\n",
      "1905 | buitenlandsche and bevolking occur 5 times together in window\n",
      "1906 | buitenlandsche and bevolking occur 11 times together in window\n",
      "1907 | buitenlandsche and bevolking occur 7 times together in window\n",
      "1908 | buitenlandsche and bevolking occur 9 times together in window\n",
      "1909 | buitenlandsche and bevolking occur 13 times together in window\n",
      "1910 | buitenlandsche and bevolking occur 6 times together in window\n",
      "1911 | buitenlandsche and bevolking occur 9 times together in window\n",
      "1912 | buitenlandsche and bevolking occur 10 times together in window\n",
      "1913 | buitenlandsche and bevolking occur 7 times together in window\n",
      "1914 | buitenlandsche and bevolking occur 11 times together in window\n"
     ]
    }
   ],
   "source": [
    "df = dpmi(1815, 1914, 'buitenlandsche', 'bevolking')\n",
    "w = df.plot.line(x='year', y='pmi')"
   ]
  },
  {
   "cell_type": "code",
   "execution_count": 13,
   "metadata": {},
   "outputs": [
    {
     "data": {
      "text/plain": [
       "<matplotlib.axes._subplots.AxesSubplot at 0x1c0911e5a20>"
      ]
     },
     "execution_count": 13,
     "metadata": {},
     "output_type": "execute_result"
    },
    {
     "data": {
      "image/png": "[encoded data removed]",
      "text/plain": [
       "<Figure size 432x288 with 1 Axes>"
      ]
     },
     "metadata": {},
     "output_type": "display_data"
    }
   ],
   "source": [
    "df.plot.line(x='year', y='pmi')"
   ]
  },
  {
   "cell_type": "code",
   "execution_count": null,
   "metadata": {},
   "outputs": [],
   "source": []
  }
 ],
 "metadata": {
  "kernelspec": {
   "display_name": "Python 3",
   "language": "python",
   "name": "python3"
  },
  "language_info": {
   "codemirror_mode": {
    "name": "ipython",
    "version": 3
   },
   "file_extension": ".py",
   "mimetype": "text/x-python",
   "name": "python",
   "nbconvert_exporter": "python",
   "pygments_lexer": "ipython3",
   "version": "3.6.5"
  }
 },
 "nbformat": 4,
 "nbformat_minor": 2
}
