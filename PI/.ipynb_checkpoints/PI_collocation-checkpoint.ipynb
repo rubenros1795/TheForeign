{
 "cells": [
  {
   "cell_type": "code",
   "execution_count": 1,
   "metadata": {},
   "outputs": [],
   "source": [
    "import os, re, glob, pandas as pd, math, random"
   ]
  },
  {
   "cell_type": "code",
   "execution_count": 2,
   "metadata": {},
   "outputs": [],
   "source": [
    "os.chdir(\"D://Scriptie//Data//lines//cleaned\")\n",
    "list_txt = glob.glob('*.txt')\n",
    "list_txt = [f for f in list_txt if f[5:12] == \"cleaned\"]"
   ]
  },
  {
   "cell_type": "code",
   "execution_count": 3,
   "metadata": {},
   "outputs": [],
   "source": [
    "def get_context(list_of_lines, word1):\n",
    "    lines = [l for l in list_of_lines if word1 in l]\n",
    "    \n",
    "    output_lines = list()\n",
    "    \n",
    "    for el in lines:\n",
    "        line_tok = el.split(\" \")\n",
    "        positions = [idx for idx, s in enumerate(line_tok) if word1 in s]\n",
    "            \n",
    "        for pos in positions:\n",
    "            p = int(pos)\n",
    "            s = p - 24\n",
    "            e = p + 24\n",
    "\n",
    "            if s < 0:\n",
    "                s = 0\n",
    "            if e > (len(line_tok) - 1):\n",
    "                e = (len(line_tok) - 1)\n",
    "\n",
    "            selection = \" \".join(line_tok[s:e])\n",
    "            output_lines.append(selection)\n",
    "            \n",
    "    return output_lines"
   ]
  },
  {
   "cell_type": "code",
   "execution_count": 4,
   "metadata": {},
   "outputs": [],
   "source": [
    "# log [probability(number of times both words appears in a document together)/probability(word1)*probability(word2)]\n",
    "\n",
    "def file_len(fname):\n",
    "    with open(fname, encoding = 'utf-8') as f:\n",
    "        for i, l in enumerate(f):\n",
    "            pass\n",
    "    return i + 1\n",
    "\n",
    "def pmi_year(year, word1, word2):\n",
    "    fn = [f for f in list_txt if int(f[0:4]) == year][0]\n",
    "    \n",
    "\n",
    "    filesize = int(os.stat(fn).st_size) / 1000000\n",
    "    filelen = file_len(fn)\n",
    "    \n",
    "    \n",
    "    if filesize > 100:\n",
    "        samplesize = round(100 * filelen / filesize)\n",
    "        with open(fn, encoding = 'utf-8') as f:\n",
    "            lines_year = random.sample(f.read().split('\\n'),samplesize)    \n",
    "    \n",
    "    else:\n",
    "        with open(fn, encoding = 'utf-8') as f:\n",
    "            lines_year = f.read().split('\\n')\n",
    "    \n",
    "    n_w1 = len([line for line in lines_year if word1 in line]) / len(lines_year)\n",
    "    n_w2 = len([line for line in lines_year if word2 in line]) / len(lines_year)\n",
    "    \n",
    "    lines_selection = get_context(lines_year, word1)\n",
    "    n_w1_w2 = len([line for line in lines_selection if word2 in line]) / len(lines_year)\n",
    "    print(word1 + ' and ' + word2 + ' occur ' + str(len([line for line in lines_selection if word2 in line])) + ' times together in window')\n",
    "\n",
    "    col = math.log(n_w1_w2 / (n_w1 * n_w2))\n",
    "    return col\n",
    "\n",
    "def dpmi(start_year, end_year, word1, word2):\n",
    "    list_pmi = list()\n",
    "    \n",
    "    for year in range(start_year,(end_year + 1)):\n",
    "        list_pmi.append(pmi_year(year, word1, word2))\n",
    "        \n",
    "    df = pd.DataFrame(list_pmi, columns = ['pmi'])\n",
    "    \n",
    "    df['year'] = list(range(start_year,(end_year+1)))\n",
    "    \n",
    "    return df"
   ]
  },
  {
   "cell_type": "code",
   "execution_count": 5,
   "metadata": {},
   "outputs": [
    {
     "name": "stdout",
     "output_type": "stream",
     "text": [
      "buitenlandsche and  buitenland  occur 19 times together in window\n",
      "buitenlandsche and  buitenland  occur 15 times together in window\n",
      "buitenlandsche and  buitenland  occur 11 times together in window\n",
      "buitenlandsche and  buitenland  occur 41 times together in window\n",
      "buitenlandsche and  buitenland  occur 58 times together in window\n",
      "buitenlandsche and  buitenland  occur 35 times together in window\n",
      "buitenlandsche and  buitenland  occur 29 times together in window\n",
      "buitenlandsche and  buitenland  occur 40 times together in window\n",
      "buitenlandsche and  buitenland  occur 29 times together in window\n",
      "buitenlandsche and  buitenland  occur 57 times together in window\n",
      "buitenlandsche and  buitenland  occur 44 times together in window\n",
      "buitenlandsche and  buitenland  occur 31 times together in window\n",
      "buitenlandsche and  buitenland  occur 40 times together in window\n",
      "buitenlandsche and  buitenland  occur 39 times together in window\n",
      "buitenlandsche and  buitenland  occur 53 times together in window\n",
      "buitenlandsche and  buitenland  occur 30 times together in window\n",
      "buitenlandsche and  buitenland  occur 59 times together in window\n",
      "buitenlandsche and  buitenland  occur 68 times together in window\n",
      "buitenlandsche and  buitenland  occur 43 times together in window\n",
      "buitenlandsche and  buitenland  occur 54 times together in window\n",
      "buitenlandsche and  buitenland  occur 47 times together in window\n",
      "buitenlandsche and  buitenland  occur 70 times together in window\n",
      "buitenlandsche and  buitenland  occur 125 times together in window\n",
      "buitenlandsche and  buitenland  occur 118 times together in window\n",
      "buitenlandsche and  buitenland  occur 69 times together in window\n",
      "buitenlandsche and  buitenland  occur 58 times together in window\n",
      "buitenlandsche and  buitenland  occur 42 times together in window\n",
      "buitenlandsche and  buitenland  occur 38 times together in window\n",
      "buitenlandsche and  buitenland  occur 55 times together in window\n",
      "buitenlandsche and  buitenland  occur 61 times together in window\n",
      "buitenlandsche and  buitenland  occur 62 times together in window\n",
      "buitenlandsche and  buitenland  occur 54 times together in window\n",
      "buitenlandsche and  buitenland  occur 82 times together in window\n",
      "buitenlandsche and  buitenland  occur 70 times together in window\n",
      "buitenlandsche and  buitenland  occur 33 times together in window\n",
      "buitenlandsche and  buitenland  occur 62 times together in window\n",
      "buitenlandsche and  buitenland  occur 50 times together in window\n",
      "buitenlandsche and  buitenland  occur 63 times together in window\n",
      "buitenlandsche and  buitenland  occur 41 times together in window\n",
      "buitenlandsche and  buitenland  occur 44 times together in window\n",
      "buitenlandsche and  buitenland  occur 23 times together in window\n",
      "buitenlandsche and  buitenland  occur 56 times together in window\n",
      "buitenlandsche and  buitenland  occur 55 times together in window\n",
      "buitenlandsche and  buitenland  occur 49 times together in window\n",
      "buitenlandsche and  buitenland  occur 27 times together in window\n",
      "buitenlandsche and  buitenland  occur 37 times together in window\n",
      "buitenlandsche and  buitenland  occur 36 times together in window\n",
      "buitenlandsche and  buitenland  occur 57 times together in window\n",
      "buitenlandsche and  buitenland  occur 46 times together in window\n",
      "buitenlandsche and  buitenland  occur 37 times together in window\n",
      "buitenlandsche and  buitenland  occur 43 times together in window\n"
     ]
    }
   ],
   "source": [
    "df = dpmi(1845, 1895, 'buitenlandsche', ' buitenland ')\n",
    "v = df.plot.line(x='year', y='pmi')"
   ]
  },
  {
   "cell_type": "code",
   "execution_count": 11,
   "metadata": {},
   "outputs": [
    {
     "data": {
      "text/plain": [
       "<matplotlib.axes._subplots.AxesSubplot at 0x1ca8b8d96a0>"
      ]
     },
     "execution_count": 11,
     "metadata": {},
     "output_type": "execute_result"
    },
    {
     "data": {
      "image/png": "[encoded data removed]",
      "text/plain": [
       "<Figure size 432x288 with 1 Axes>"
      ]
     },
     "metadata": {},
     "output_type": "display_data"
    }
   ],
   "source": [
    "df.plot.line(x='year', y='pmi')"
   ]
  },
  {
   "cell_type": "code",
   "execution_count": null,
   "metadata": {},
   "outputs": [],
   "source": []
  }
 ],
 "metadata": {
  "kernelspec": {
   "display_name": "Python 3",
   "language": "python",
   "name": "python3"
  },
  "language_info": {
   "codemirror_mode": {
    "name": "ipython",
    "version": 3
   },
   "file_extension": ".py",
   "mimetype": "text/x-python",
   "name": "python",
   "nbconvert_exporter": "python",
   "pygments_lexer": "ipython3",
   "version": "3.6.5"
  }
 },
 "nbformat": 4,
 "nbformat_minor": 2
}
