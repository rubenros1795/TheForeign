{
 "cells": [
  {
   "cell_type": "code",
   "execution_count": 1,
   "metadata": {},
   "outputs": [],
   "source": [
    "import os, re, glob, pandas as pd, math, random\n",
    "import nltk\n",
    "from nltk.collocations import *\n"
   ]
  },
  {
   "cell_type": "code",
   "execution_count": 2,
   "metadata": {},
   "outputs": [],
   "source": [
    "os.chdir(\"D://Scriptie//Data//lines//cleaned\")\n",
    "list_txt = glob.glob('*.txt')\n",
    "list_txt = [f for f in list_txt if f[5:12] == \"cleaned\"]"
   ]
  },
  {
   "cell_type": "code",
   "execution_count": 3,
   "metadata": {},
   "outputs": [],
   "source": [
    "def file_len(fname):\n",
    "    with open(fname, encoding = 'utf-8') as f:\n",
    "        for i, l in enumerate(f):\n",
    "            pass\n",
    "    return i + 1\n",
    "\n",
    "def pmi_year(year, keyword):\n",
    "    fn = [f for f in list_txt if int(f[0:4]) == year][0]\n",
    "    \n",
    "    filesize = int(os.stat(fn).st_size) / 1000000\n",
    "    filelen = file_len(fn)\n",
    "    \n",
    "    \n",
    "    if filesize > 75:\n",
    "        print('too large bro, sample is taken')\n",
    "        samplesize = round(75 * filelen / filesize)\n",
    "        with open(fn, encoding = 'utf-8') as f:\n",
    "            lines_year = random.sample(f.read().split('\\n'),samplesize)    \n",
    "    \n",
    "    else:\n",
    "        with open(fn, encoding = 'utf-8') as f:\n",
    "            lines_year = f.read().split('\\n')\n",
    "        \n",
    "    tokens_year = list()\n",
    "    for line in lines_year:\n",
    "        tmp = line.split(' ')\n",
    "        for i in tmp:\n",
    "            tokens_year.append(i)\n",
    "    \n",
    "    output = generate_collocations(tokens_year, keyword)\n",
    "    \n",
    "    return(output)"
   ]
  },
  {
   "cell_type": "code",
   "execution_count": 4,
   "metadata": {},
   "outputs": [],
   "source": [
    "def generate_collocations(tokens,keyword):\n",
    "    '''\n",
    "    Given list of tokens, return collocations.\n",
    "    '''\n",
    "\n",
    "    bigram_measures = nltk.collocations.BigramAssocMeasures()\n",
    "    word_filter = creature_filter = lambda *w: keyword not in w\n",
    "\n",
    "    # Best results with window_size, freq_filter of: (2,1) (2,2) (5,1)\n",
    "    finder = BigramCollocationFinder.from_words(tokens, window_size = 12)\n",
    "    finder.apply_ngram_filter(word_filter)\n",
    "    colls = finder.nbest(bigram_measures.likelihood_ratio, 20)\n",
    "\n",
    "    return colls "
   ]
  },
  {
   "cell_type": "code",
   "execution_count": 5,
   "metadata": {},
   "outputs": [
    {
     "name": "stdout",
     "output_type": "stream",
     "text": [
      "too large bro, sample is taken\n"
     ]
    },
    {
     "data": {
      "text/plain": [
       "[('man', 'troepen'),\n",
       " ('troepen', 'krim'),\n",
       " ('turksche', 'troepen'),\n",
       " ('fransche', 'troepen'),\n",
       " ('russische', 'troepen'),\n",
       " ('de', 'troepen'),\n",
       " ('troepen', 'naar'),\n",
       " ('sardinische', 'troepen'),\n",
       " ('geallieerde', 'troepen'),\n",
       " ('ongeregelde', 'troepen'),\n",
       " ('troepen', 'eupatoria'),\n",
       " ('krim', 'troepen'),\n",
       " ('generaal', 'troepen'),\n",
       " ('onze', 'troepen'),\n",
       " ('troepen', 'man'),\n",
       " ('der', 'troepen'),\n",
       " ('troepen', 'waren'),\n",
       " ('eupatoria', 'troepen'),\n",
       " ('inscheping', 'troepen'),\n",
       " ('troepen', 'ingescheept')]"
      ]
     },
     "execution_count": 5,
     "metadata": {},
     "output_type": "execute_result"
    }
   ],
   "source": [
    "pmi_year(1855, 'troepen')"
   ]
  },
  {
   "cell_type": "code",
   "execution_count": null,
   "metadata": {},
   "outputs": [],
   "source": []
  },
  {
   "cell_type": "code",
   "execution_count": null,
   "metadata": {},
   "outputs": [],
   "source": []
  }
 ],
 "metadata": {
  "kernelspec": {
   "display_name": "Python 3",
   "language": "python",
   "name": "python3"
  },
  "language_info": {
   "codemirror_mode": {
    "name": "ipython",
    "version": 3
   },
   "file_extension": ".py",
   "mimetype": "text/x-python",
   "name": "python",
   "nbconvert_exporter": "python",
   "pygments_lexer": "ipython3",
   "version": "3.6.5"
  }
 },
 "nbformat": 4,
 "nbformat_minor": 2
}
