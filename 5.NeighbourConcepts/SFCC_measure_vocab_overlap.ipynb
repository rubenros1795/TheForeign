{
 "cells": [
  {
   "cell_type": "code",
   "execution_count": 49,
   "metadata": {},
   "outputs": [],
   "source": [
    "from nltk.tokenize import sent_tokenize\n",
    "from gensim.models import Word2Vec\n",
    "import nltk\n",
    "from nltk.tokenize import sent_tokenize\n",
    "from nltk.corpus import stopwords\n",
    "import glob\n",
    "import os\n",
    "from os import path\n",
    "import string\n",
    "import numpy\n",
    "import re\n",
    "from __future__ import absolute_import, division, print_function\n",
    "import pandas as pd\n",
    "import multiprocessing\n",
    "import gensim\n",
    "import random\n",
    "from tqdm import tqdm\n",
    "import pandas as pd\n",
    "from gensim.models import KeyedVectors\n",
    "from numpy import array\n",
    "import matplotlib.pyplot as plt\n",
    "import numpy as np\n",
    "from collections import Counter"
   ]
  },
  {
   "cell_type": "code",
   "execution_count": 45,
   "metadata": {},
   "outputs": [],
   "source": [
    "os.chdir('C://Users//Ruben//Documents//GitHub//TheForeign//SCC//output-data')\n",
    "\n",
    "def GetVocab(vocab_name):\n",
    "    fn = \"bigrams_\" + vocab_name + \".csv\"\n",
    "    df = pd.read_csv(fn)\n",
    "    return df\n",
    "\n",
    "def GetVocabYear(vocab_name, year):\n",
    "    df = GetVocab(vocab_name)\n",
    "    df = df[['ngram',str(year)]]\n",
    "    df = df[df[str(year)] > 0]\n",
    "    \n",
    "    return list(df['ngram'])"
   ]
  },
  {
   "cell_type": "code",
   "execution_count": 38,
   "metadata": {},
   "outputs": [],
   "source": [
    "# THREE OPTIONS:\n",
    "#What percentage the overlap is if compared to the first list? I.e. how big is the common part in comparison to the first list?\n",
    "#The same thing for the second list.\n",
    "#What percentage the overlap is if compared to the \"universe\" (i.e. the union of both lists)?"
   ]
  },
  {
   "cell_type": "code",
   "execution_count": 39,
   "metadata": {},
   "outputs": [],
   "source": [
    "def GetOverlapVocab1(vocab_1, vocab_2, year):\n",
    "    vocab_1 = set(GetVocabYear(vocab_1, year))\n",
    "    vocab_2 = set(GetVocabYear(vocab_2, year))\n",
    "    overlap = vocab_1 & vocab_2\n",
    "    result1 = float(len(overlap)) / len(vocab_1) * 100\n",
    "    return result1\n",
    "\n",
    "def GetOverlapVocab2(vocab_1, vocab_2, year):\n",
    "    vocab_1 = set(GetVocabYear(vocab_1, year))\n",
    "    vocab_2 = set(GetVocabYear(vocab_2, year))\n",
    "    overlap = vocab_1 & vocab_2\n",
    "    result2 = float(len(overlap)) / len(vocab_2) * 100\n",
    "    return result2\n",
    "\n",
    "def GetOverlapCommon(vocab_1, vocab_2, year):\n",
    "    vocab_1 = set(GetVocabYear(vocab_1, year))\n",
    "    vocab_2 = set(GetVocabYear(vocab_2, year))\n",
    "    overlap = vocab_1 & vocab_2\n",
    "    universe = vocab_1 | vocab_2\n",
    "    result3 = float(len(overlap)) / len(universe) * 100\n",
    "    return result3"
   ]
  },
  {
   "cell_type": "code",
   "execution_count": 40,
   "metadata": {},
   "outputs": [],
   "source": [
    "def DiaOverlapAll(vocab_1, vocab_2, start_year, end_year):\n",
    "    list_overlap_vocab_1 = []\n",
    "    list_overlap_vocab_2 = []\n",
    "    list_overlap_common = []\n",
    "\n",
    "    for y in range(start_year,end_year + 1,1):\n",
    "        r = GetOverlapVocab1(vocab_1, vocab_2, y)\n",
    "        list_overlap_vocab_1.append(r)\n",
    "\n",
    "    for y in range(start_year,end_year + 1,1):\n",
    "        r = GetOverlapVocab2(vocab_1, vocab_2, y)\n",
    "        list_overlap_vocab_2.append(r)\n",
    "\n",
    "    for y in range(start_year,end_year + 1,1):\n",
    "        r = GetOverlapCommon(vocab_1, vocab_2, y)\n",
    "        list_overlap_common.append(r)\n",
    "        \n",
    "    dfr = pd.DataFrame([list_overlap_vocab_1,list_overlap_vocab_2,list_overlap_common]).T\n",
    "    dfr.columns = ['v1', 'v2', 'common']\n",
    "    dfr['year'] = list(range(start_year ,end_year + 1,1))\n",
    "    return dfr "
   ]
  },
  {
   "cell_type": "code",
   "execution_count": 47,
   "metadata": {},
   "outputs": [],
   "source": [
    "d = DiaOverlapAll('internationale', 'buitenlandsche', 1845,1914)"
   ]
  },
  {
   "cell_type": "code",
   "execution_count": 48,
   "metadata": {},
   "outputs": [],
   "source": [
    "os.chdir(\"C://Users//Ruben//Documents//GitHub//TheForeign//Visualizations//CH2//source-files\")\n",
    "d.to_csv('internationale_buiten_overlap.csv', index=False)"
   ]
  },
  {
   "cell_type": "code",
   "execution_count": null,
   "metadata": {},
   "outputs": [],
   "source": []
  }
 ],
 "metadata": {
  "kernelspec": {
   "display_name": "Python 3",
   "language": "python",
   "name": "python3"
  },
  "language_info": {
   "codemirror_mode": {
    "name": "ipython",
    "version": 3
   },
   "file_extension": ".py",
   "mimetype": "text/x-python",
   "name": "python",
   "nbconvert_exporter": "python",
   "pygments_lexer": "ipython3",
   "version": "3.6.5"
  }
 },
 "nbformat": 4,
 "nbformat_minor": 2
}
