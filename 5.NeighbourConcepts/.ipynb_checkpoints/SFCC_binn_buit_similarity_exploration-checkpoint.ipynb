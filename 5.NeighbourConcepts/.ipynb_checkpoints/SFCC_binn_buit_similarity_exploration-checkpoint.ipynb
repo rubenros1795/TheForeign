{
 "cells": [
  {
   "cell_type": "code",
   "execution_count": 1,
   "metadata": {},
   "outputs": [
    {
     "name": "stderr",
     "output_type": "stream",
     "text": [
      "C:\\ProgramData\\Anaconda3\\lib\\site-packages\\gensim\\utils.py:1212: UserWarning: detected Windows; aliasing chunkize to chunkize_serial\n",
      "  warnings.warn(\"detected Windows; aliasing chunkize to chunkize_serial\")\n"
     ]
    }
   ],
   "source": [
    "from nltk.tokenize import sent_tokenize\n",
    "from gensim.models import Word2Vec\n",
    "import nltk\n",
    "from nltk.tokenize import sent_tokenize\n",
    "from nltk.corpus import stopwords\n",
    "import glob\n",
    "import os\n",
    "from os import path\n",
    "import string\n",
    "import numpy\n",
    "import re\n",
    "from __future__ import absolute_import, division, print_function\n",
    "import pandas as pd\n",
    "import multiprocessing\n",
    "import gensim\n",
    "import random\n",
    "from tqdm import tqdm\n",
    "import pandas as pd\n",
    "from gensim.models import KeyedVectors\n",
    "from numpy import array\n",
    "import matplotlib.pyplot as plt\n",
    "import numpy as np"
   ]
  },
  {
   "cell_type": "code",
   "execution_count": 2,
   "metadata": {},
   "outputs": [
    {
     "ename": "FileNotFoundError",
     "evalue": "[WinError 3] The system cannot find the path specified: 'D://Scriptie//Data//models//10yp_s150'",
     "output_type": "error",
     "traceback": [
      "\u001b[1;31m---------------------------------------------------------------------------\u001b[0m",
      "\u001b[1;31mFileNotFoundError\u001b[0m                         Traceback (most recent call last)",
      "\u001b[1;32m<ipython-input-2-8141cf690519>\u001b[0m in \u001b[0;36m<module>\u001b[1;34m()\u001b[0m\n\u001b[1;32m----> 1\u001b[1;33m \u001b[0mos\u001b[0m\u001b[1;33m.\u001b[0m\u001b[0mchdir\u001b[0m\u001b[1;33m(\u001b[0m\u001b[1;34m\"D://Scriptie//Data//models//10yp_s150\"\u001b[0m\u001b[1;33m)\u001b[0m\u001b[1;33m\u001b[0m\u001b[0m\n\u001b[0m\u001b[0;32m      2\u001b[0m \u001b[0mlist_mod\u001b[0m \u001b[1;33m=\u001b[0m \u001b[0mglob\u001b[0m\u001b[1;33m.\u001b[0m\u001b[0mglob\u001b[0m\u001b[1;33m(\u001b[0m\u001b[1;34m'*bin'\u001b[0m\u001b[1;33m)\u001b[0m\u001b[1;33m\u001b[0m\u001b[0m\n\u001b[0;32m      3\u001b[0m \u001b[0mlist_mod\u001b[0m\u001b[1;33m\u001b[0m\u001b[0m\n",
      "\u001b[1;31mFileNotFoundError\u001b[0m: [WinError 3] The system cannot find the path specified: 'D://Scriptie//Data//models//10yp_s150'"
     ]
    }
   ],
   "source": [
    "os.chdir(\"D://Scriptie//Data//models//10yp_s150\")\n",
    "list_mod = glob.glob('*bin')\n",
    "list_mod"
   ]
  },
  {
   "cell_type": "code",
   "execution_count": 55,
   "metadata": {},
   "outputs": [],
   "source": [
    "mfn = [m for m in list_mod if int(m[0:4]) == 1835][0]\n",
    "model = KeyedVectors.load_word2vec_format(mfn, binary = True)"
   ]
  },
  {
   "cell_type": "code",
   "execution_count": 71,
   "metadata": {},
   "outputs": [],
   "source": [
    "def GetOverlap(year):\n",
    "    \n",
    "    mfn = [m for m in list_mod if int(m[0:4]) == year][0]\n",
    "    model = KeyedVectors.load_word2vec_format(mfn, binary = True)\n",
    "\n",
    "    df = pd.DataFrame([list(dict(model.most_similar('binnenlandsche', topn = 1000)).keys()), list(dict(model.most_similar('binnenland', topn = 1000)).values())]).T\n",
    "    df.columns = ['word', 'score_bin']\n",
    "\n",
    "    dfo=pd.DataFrame()\n",
    "\n",
    "    for c,word in enumerate(list(df.word)):\n",
    "        if not re.search('\\d+', word):\n",
    "            t = pd.DataFrame([word, df.score_bin[c]]).T\n",
    "            dfo = dfo.append(t)\n",
    "    dfo.columns = ['word', 'score_bin']\n",
    "\n",
    "    scores_buit = list()\n",
    "\n",
    "    for c,i in enumerate(list(dfo.word)):\n",
    "        t = model.similarity('buitenlandsche', i)\n",
    "        scores_buit.append(t)\n",
    "\n",
    "    dfo['score_buit'] = scores_buit\n",
    "    \n",
    "    return dfo"
   ]
  },
  {
   "cell_type": "code",
   "execution_count": 72,
   "metadata": {},
   "outputs": [
    {
     "name": "stderr",
     "output_type": "stream",
     "text": [
      "C:\\ProgramData\\Anaconda3\\lib\\site-packages\\gensim\\matutils.py:737: FutureWarning: Conversion of the second argument of issubdtype from `int` to `np.signedinteger` is deprecated. In future, it will be treated as `np.int32 == np.dtype(int).type`.\n",
      "  if np.issubdtype(vec.dtype, np.int):\n"
     ]
    },
    {
     "name": "stdout",
     "output_type": "stream",
     "text": [
      "1815\n",
      "buitenlandsche | commissarisgeneraal | gemengde | ministervan | landsche | exc | finantien | betreffende | eeredienst | minider | falck | bevind | miniftcr | exe | staatsraden | publieke | betrekkelijk | miniseer | buitenland | minisier\n",
      "\n",
      "1825\n",
      "buitenlandsche | buitenland | landsche | finantien | finantiën | financien | eeredienst | referendaris | gemengde | binnenland | beigische | financiën | betrekkelijk | betreffende | bevind | ministervan | koloniën | oostersche | minider | exe\n",
      "\n",
      "1835\n",
      "buitenlandsche | landsche | binnenland | adviseur | hoofdcommissie | financien | eeredienst | bevind | finantien | finantiën | finanlien | buitenland | referendaris | justitiekosten | betreffende | beigische | koophandel | betrekkelijk | spaansche | oostersche\n",
      "\n",
      "1845\n",
      "buitenlandsche | binnenland | builenl | buitenland | landsche | adviseur | binneni | hoofdcommissie | eeredienst | ommekeer | binn | bevind | financiën | betreffende | beigische | hollandschbelgische | koloniale | platarivier | verstolk | luxemburgsche\n",
      "\n",
      "1855\n",
      "binnenland | buitenlandsche | binneni | landsche | binn | builenl | buitenland | adviseur | telegraphische | eeredienst | eindregeling | koloniale | bevind | telegrafische | ommekeer | binnenlands | betreffende | beigische | hollandschbelgische\n",
      "\n",
      "1865\n",
      "binnenland | buitenlandsche | binn | binneni | landsche | builenl | adviseur | gemengde | telegraphische | finantiële | binnl | buitenland | bin | eeredienst | bevind | rakende | binnenlands | financiën | betreffende | telegrafische\n",
      "\n",
      "1875\n",
      "buitenlandsche | binnenland | binn | binneni | landsche | builenl | binnenlands | adviseur | rakende | bevind | crimineele | finantiële | gemengde | eeredienst | buitenland | financien | binnonl | bin | betreffende | justicie\n",
      "\n",
      "1885\n",
      "buitenlandsche | binnenland | binneni | binn | binnenlands | builenl | landsche | financiën | finantiële | financien | binnonl | betreffende | eeredienst | zexc | financieele | buitenland | finantieele | aanverwante | bnitenl | pahud\n",
      "\n",
      "1895\n",
      "buitenlandsche | binnenland | binneni | binn | builenl | landsche | binnenlands | financiën | betreffende | financien | eland | rakende | finantiële | bevind | binnonl | eeredienst | marine | delcassé | aanverwante | buitenlandsch\n",
      "\n",
      "1905\n",
      "buitenlandsche | binnenland | binneni | builenl | binnenlands | financiën | binn | binnonl | landsche | huishoudelijke | rakende | bevind | betreffende | spoedeischende | financien | finantiële | aanverwante | marine | bnitenl | afwikkeling\n",
      "\n"
     ]
    }
   ],
   "source": [
    "for year in range(1815, 1906, 10):\n",
    "    df = GetOverlap(year)\n",
    "    df = df[df['score_buit'] > 0.3]\n",
    "    df = df[df['score_bin'] > 0.3]\n",
    "    \n",
    "    print(year)\n",
    "    print(' | '.join(list(df.word)[0:20]))\n",
    "    print('')"
   ]
  },
  {
   "cell_type": "code",
   "execution_count": 82,
   "metadata": {},
   "outputs": [
    {
     "name": "stderr",
     "output_type": "stream",
     "text": [
      "C:\\ProgramData\\Anaconda3\\lib\\site-packages\\gensim\\matutils.py:737: FutureWarning: Conversion of the second argument of issubdtype from `int` to `np.signedinteger` is deprecated. In future, it will be treated as `np.int32 == np.dtype(int).type`.\n",
      "  if np.issubdtype(vec.dtype, np.int):\n"
     ]
    },
    {
     "data": {
      "text/plain": [
       "[('rnst', 0.5712036490440369),\n",
       " ('vrede', 0.5421381592750549),\n",
       " ('kalmte', 0.5226343274116516),\n",
       " ('veiligheid', 0.46997514367103577),\n",
       " ('vreedzaam', 0.46690356731414795),\n",
       " ('rustige', 0.45560088753700256),\n",
       " ('vreedzame', 0.453390896320343),\n",
       " ('verstandhouding', 0.4409615099430084),\n",
       " ('rast', 0.42592212557792664),\n",
       " ('onafhankelijkheid', 0.4239296317100525)]"
      ]
     },
     "execution_count": 82,
     "metadata": {},
     "output_type": "execute_result"
    }
   ],
   "source": [
    "mfn = [m for m in list_mod if int(m[0:4]) == 1875][0]\n",
    "model = KeyedVectors.load_word2vec_format(mfn, binary = True)\n",
    "model.most_similar(positive=['buitenlandsche', 'rust'], negative= ['binnenlandsche'])"
   ]
  },
  {
   "cell_type": "code",
   "execution_count": null,
   "metadata": {},
   "outputs": [],
   "source": [
    "mod"
   ]
  }
 ],
 "metadata": {
  "kernelspec": {
   "display_name": "Python 3",
   "language": "python",
   "name": "python3"
  },
  "language_info": {
   "codemirror_mode": {
    "name": "ipython",
    "version": 3
   },
   "file_extension": ".py",
   "mimetype": "text/x-python",
   "name": "python",
   "nbconvert_exporter": "python",
   "pygments_lexer": "ipython3",
   "version": "3.6.5"
  }
 },
 "nbformat": 4,
 "nbformat_minor": 2
}
