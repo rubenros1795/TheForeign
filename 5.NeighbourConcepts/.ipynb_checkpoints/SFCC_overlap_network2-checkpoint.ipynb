{
 "cells": [
  {
   "cell_type": "code",
   "execution_count": 1,
   "metadata": {},
   "outputs": [
    {
     "name": "stderr",
     "output_type": "stream",
     "text": [
      "C:\\ProgramData\\Anaconda3\\lib\\site-packages\\gensim\\utils.py:1212: UserWarning: detected Windows; aliasing chunkize to chunkize_serial\n",
      "  warnings.warn(\"detected Windows; aliasing chunkize to chunkize_serial\")\n"
     ]
    }
   ],
   "source": [
    "from nltk.tokenize import sent_tokenize\n",
    "from gensim.models import Word2Vec\n",
    "import nltk\n",
    "from nltk.tokenize import sent_tokenize\n",
    "from nltk.corpus import stopwords\n",
    "import glob\n",
    "import os\n",
    "from os import path\n",
    "import string\n",
    "import numpy\n",
    "import re\n",
    "from __future__ import absolute_import, division, print_function\n",
    "import pandas as pd\n",
    "import multiprocessing\n",
    "import gensim\n",
    "import random\n",
    "from tqdm import tqdm\n",
    "import pandas as pd\n",
    "from gensim.models import KeyedVectors\n",
    "from numpy import array\n",
    "import matplotlib.pyplot as plt\n",
    "import numpy as np"
   ]
  },
  {
   "cell_type": "code",
   "execution_count": null,
   "metadata": {},
   "outputs": [],
   "source": []
  },
  {
   "cell_type": "code",
   "execution_count": 2,
   "metadata": {},
   "outputs": [],
   "source": [
    "os.chdir('C://Users//Ruben//Documents//GitHub//TheForeign//SCC//output-data')\n",
    "dfo = pd.DataFrame()\n",
    "\n",
    "for vocab in ['vreemde', 'buitenlandsche', 'binnenlandsche', 'vaderlandsche', 'europeesche', 'nationale', 'internationale']:\n",
    "    fn = \"bigrams_\" + vocab + \".csv\"\n",
    "    df = pd.read_csv(fn)\n",
    "    df = df[['ngram', '1895']]\n",
    "    df = df[df['1895'] > 0]\n",
    "    \n",
    "    df = df.reset_index(drop=True)\n",
    "    for c,i in enumerate(df.ngram):\n",
    "    \n",
    "        target = i\n",
    "        source = vocab\n",
    "        weight = df['1895'][c]\n",
    "        \n",
    "        t = pd.DataFrame([source, target, weight]).T\n",
    "        dfo = dfo.append(t)"
   ]
  },
  {
   "cell_type": "code",
   "execution_count": 3,
   "metadata": {},
   "outputs": [],
   "source": [
    "dfo.columns = ['source', 'target', 'weight']"
   ]
  },
  {
   "cell_type": "code",
   "execution_count": 4,
   "metadata": {},
   "outputs": [],
   "source": [
    "os.chdir('C://Users//Ruben//Desktop')\n",
    "\n",
    "dfo = dfo[~dfo.source.str.contains(r'\\d')]\n",
    "dfo = dfo[~dfo.target.str.contains(r'\\d')]\n",
    "\n",
    "dgr = dict(dfo.target.value_counts())\n",
    "dgrl = [k for k,v in dgr.items() if v > 1]\n",
    "\n",
    "dfo = dfo[dfo.target.isin(dgrl)]\n",
    "\n",
    "dfo.to_csv('test.csv', index=False)"
   ]
  },
  {
   "cell_type": "code",
   "execution_count": 11,
   "metadata": {},
   "outputs": [
    {
     "data": {
      "text/html": [
       "<div>\n",
       "<style scoped>\n",
       "    .dataframe tbody tr th:only-of-type {\n",
       "        vertical-align: middle;\n",
       "    }\n",
       "\n",
       "    .dataframe tbody tr th {\n",
       "        vertical-align: top;\n",
       "    }\n",
       "\n",
       "    .dataframe thead th {\n",
       "        text-align: right;\n",
       "    }\n",
       "</style>\n",
       "<table border=\"1\" class=\"dataframe\">\n",
       "  <thead>\n",
       "    <tr style=\"text-align: right;\">\n",
       "      <th></th>\n",
       "      <th>source</th>\n",
       "      <th>target</th>\n",
       "      <th>weight</th>\n",
       "    </tr>\n",
       "  </thead>\n",
       "  <tbody>\n",
       "    <tr>\n",
       "      <th>0</th>\n",
       "      <td>nationale</td>\n",
       "      <td>leger</td>\n",
       "      <td>3</td>\n",
       "    </tr>\n",
       "    <tr>\n",
       "      <th>0</th>\n",
       "      <td>nationale</td>\n",
       "      <td>parlement</td>\n",
       "      <td>24</td>\n",
       "    </tr>\n",
       "    <tr>\n",
       "      <th>0</th>\n",
       "      <td>nationale</td>\n",
       "      <td>teeken</td>\n",
       "      <td>8</td>\n",
       "    </tr>\n",
       "    <tr>\n",
       "      <th>0</th>\n",
       "      <td>nationale</td>\n",
       "      <td>en</td>\n",
       "      <td>13</td>\n",
       "    </tr>\n",
       "    <tr>\n",
       "      <th>0</th>\n",
       "      <td>nationale</td>\n",
       "      <td>goederen</td>\n",
       "      <td>43</td>\n",
       "    </tr>\n",
       "    <tr>\n",
       "      <th>0</th>\n",
       "      <td>nationale</td>\n",
       "      <td>leger</td>\n",
       "      <td>8</td>\n",
       "    </tr>\n",
       "    <tr>\n",
       "      <th>0</th>\n",
       "      <td>nationale</td>\n",
       "      <td>legers</td>\n",
       "      <td>3</td>\n",
       "    </tr>\n",
       "    <tr>\n",
       "      <th>0</th>\n",
       "      <td>nationale</td>\n",
       "      <td>parlement</td>\n",
       "      <td>5</td>\n",
       "    </tr>\n",
       "    <tr>\n",
       "      <th>0</th>\n",
       "      <td>nationale</td>\n",
       "      <td>teeken</td>\n",
       "      <td>2</td>\n",
       "    </tr>\n",
       "    <tr>\n",
       "      <th>0</th>\n",
       "      <td>nationale</td>\n",
       "      <td>troepen</td>\n",
       "      <td>2</td>\n",
       "    </tr>\n",
       "  </tbody>\n",
       "</table>\n",
       "</div>"
      ],
      "text/plain": [
       "      source     target weight\n",
       "0  nationale      leger      3\n",
       "0  nationale  parlement     24\n",
       "0  nationale     teeken      8\n",
       "0  nationale         en     13\n",
       "0  nationale   goederen     43\n",
       "0  nationale      leger      8\n",
       "0  nationale     legers      3\n",
       "0  nationale  parlement      5\n",
       "0  nationale     teeken      2\n",
       "0  nationale    troepen      2"
      ]
     },
     "execution_count": 11,
     "metadata": {},
     "output_type": "execute_result"
    }
   ],
   "source": [
    "dfo[dfo.source == 'nationale']"
   ]
  },
  {
   "cell_type": "code",
   "execution_count": null,
   "metadata": {},
   "outputs": [],
   "source": []
  }
 ],
 "metadata": {
  "kernelspec": {
   "display_name": "Python 3",
   "language": "python",
   "name": "python3"
  },
  "language_info": {
   "codemirror_mode": {
    "name": "ipython",
    "version": 3
   },
   "file_extension": ".py",
   "mimetype": "text/x-python",
   "name": "python",
   "nbconvert_exporter": "python",
   "pygments_lexer": "ipython3",
   "version": "3.6.5"
  }
 },
 "nbformat": 4,
 "nbformat_minor": 2
}
