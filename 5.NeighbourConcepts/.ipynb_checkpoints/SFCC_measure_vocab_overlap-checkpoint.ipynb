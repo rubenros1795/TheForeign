{
 "cells": [
  {
   "cell_type": "code",
   "execution_count": 2,
   "metadata": {},
   "outputs": [
    {
     "name": "stderr",
     "output_type": "stream",
     "text": [
      "C:\\ProgramData\\Anaconda3\\lib\\site-packages\\gensim\\utils.py:1212: UserWarning: detected Windows; aliasing chunkize to chunkize_serial\n",
      "  warnings.warn(\"detected Windows; aliasing chunkize to chunkize_serial\")\n"
     ]
    }
   ],
   "source": [
    "from nltk.tokenize import sent_tokenize\n",
    "from gensim.models import Word2Vec\n",
    "import nltk\n",
    "from nltk.tokenize import sent_tokenize\n",
    "from nltk.corpus import stopwords\n",
    "import glob\n",
    "import os\n",
    "from os import path\n",
    "import string\n",
    "import numpy\n",
    "import re\n",
    "from __future__ import absolute_import, division, print_function\n",
    "import pandas as pd\n",
    "import multiprocessing\n",
    "import gensim\n",
    "import random\n",
    "from tqdm import tqdm\n",
    "import pandas as pd\n",
    "from gensim.models import KeyedVectors\n",
    "from numpy import array\n",
    "import matplotlib.pyplot as plt\n",
    "import numpy as np\n",
    "from collections import Counter"
   ]
  },
  {
   "cell_type": "code",
   "execution_count": 9,
   "metadata": {},
   "outputs": [],
   "source": [
    "os.chdir('C://Users//Ruben//Documents//GitHub//TheForeign//SCC//output-data')\n",
    "\n",
    "list_vocab_names = ['vreemde', 'buitenlandsche', 'binnenlandsche', 'vaderlandsche', 'europeesche', 'nationale']\n",
    "\n",
    "dfop = pd.DataFrame()\n",
    "for year in list(range(1820,1911,10)):\n",
    "    \n",
    "    year = str(year)\n",
    "    \n",
    "    os.chdir('C://Users//Ruben//Documents//GitHub//TheForeign//SCC//output-data')\n",
    "    dfo = pd.DataFrame()\n",
    "\n",
    "    for vocab_name in list_vocab_names:\n",
    "        fn = \"bigrams_\" + vocab_name + \".csv\"\n",
    "        df = pd.read_csv(fn)\n",
    "        df = df.melt(id_vars=['ngram'])\n",
    "        df['variable'] = [x - x % 10 for x in list(df.variable.astype(int))]\n",
    "        df = pd.pivot_table(df, index=['ngram'], columns=['variable'], aggfunc=sum, fill_value=0)\n",
    "        df.columns = df.columns.get_level_values(1)\n",
    "        df.columns = df.columns.astype(str)\n",
    "        df['ngram'] = list(df.index)\n",
    "        df = df[['ngram', year]]\n",
    "        df = df[df[year] > 0]\n",
    "\n",
    "        list_vocabulary = list(df.ngram)\n",
    "\n",
    "\n",
    "        list_other_vocab_names = [x for x in list_vocab_names if x != vocab_name]\n",
    "\n",
    "        for other_vocab_name in list_other_vocab_names:\n",
    "            fn = \"bigrams_\" + other_vocab_name + \".csv\"\n",
    "            df = pd.read_csv(fn)\n",
    "            df = df[['ngram', year]]\n",
    "            df = df[df[year] > 0]\n",
    "\n",
    "            list_other_vocabulary = list(df.ngram)\n",
    "\n",
    "            combined_list = list_other_vocabulary + list_vocabulary\n",
    "\n",
    "            shared_list = list([item for item, count in Counter(combined_list).items() if count > 1])\n",
    "\n",
    "            non_overlap_list = len(combined_list) - (len(shared_list) * 2)\n",
    "\n",
    "\n",
    "\n",
    "            overlap = len(shared_list) / (len(shared_list) + non_overlap_list) * 100\n",
    "\n",
    "            tmp = pd.DataFrame([vocab_name, other_vocab_name, overlap]).T\n",
    "            tmp.columns = ['source', 'target', 'weight']\n",
    "            dfo = dfo.append(tmp)\n",
    "\n",
    "    dfo = dfo.drop_duplicates(subset=['weight'])\n",
    "    dfo['year'] = year\n",
    "    dfop = dfop.append(dfo)"
   ]
  },
  {
   "cell_type": "code",
   "execution_count": 11,
   "metadata": {},
   "outputs": [
    {
     "data": {
      "text/plain": [
       "<matplotlib.axes._subplots.AxesSubplot at 0x1c3dfc146a0>"
      ]
     },
     "execution_count": 11,
     "metadata": {},
     "output_type": "execute_result"
    },
    {
     "data": {
      "image/png": "[encoded data removed]",
      "text/plain": [
       "<Figure size 432x288 with 1 Axes>"
      ]
     },
     "metadata": {},
     "output_type": "display_data"
    }
   ],
   "source": [
    "d = dfop[(dfop.source == \"vreemde\") & (dfop.target == 'buitenlandsche')]\n",
    "d.plot(x=\"year\", y=\"weight\")"
   ]
  },
  {
   "cell_type": "code",
   "execution_count": null,
   "metadata": {},
   "outputs": [],
   "source": [
    "os.chdir('C://Users//Ruben//Desktop')\n",
    "dfo.to_csv('ntw_' + year + \".csv\", index = False)"
   ]
  }
 ],
 "metadata": {
  "kernelspec": {
   "display_name": "Python 3",
   "language": "python",
   "name": "python3"
  },
  "language_info": {
   "codemirror_mode": {
    "name": "ipython",
    "version": 3
   },
   "file_extension": ".py",
   "mimetype": "text/x-python",
   "name": "python",
   "nbconvert_exporter": "python",
   "pygments_lexer": "ipython3",
   "version": "3.6.5"
  }
 },
 "nbformat": 4,
 "nbformat_minor": 2
}
