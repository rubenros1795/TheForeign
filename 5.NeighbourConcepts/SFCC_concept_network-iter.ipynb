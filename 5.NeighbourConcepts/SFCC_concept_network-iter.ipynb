{
 "cells": [
  {
   "cell_type": "code",
   "execution_count": 1,
   "metadata": {},
   "outputs": [
    {
     "name": "stderr",
     "output_type": "stream",
     "text": [
      "C:\\ProgramData\\Anaconda3\\lib\\site-packages\\gensim\\utils.py:1212: UserWarning: detected Windows; aliasing chunkize to chunkize_serial\n",
      "  warnings.warn(\"detected Windows; aliasing chunkize to chunkize_serial\")\n"
     ]
    }
   ],
   "source": [
    "from nltk.tokenize import sent_tokenize\n",
    "from gensim.models import Word2Vec\n",
    "import nltk\n",
    "from nltk.tokenize import sent_tokenize\n",
    "from nltk.corpus import stopwords\n",
    "import glob\n",
    "import os\n",
    "from os import path\n",
    "import string\n",
    "import numpy\n",
    "import re\n",
    "from __future__ import absolute_import, division, print_function\n",
    "import pandas as pd\n",
    "import multiprocessing\n",
    "import gensim\n",
    "import random\n",
    "from tqdm import tqdm\n",
    "import pandas as pd\n",
    "from gensim.models import KeyedVectors\n",
    "from numpy import array\n",
    "import matplotlib.pyplot as plt\n",
    "import numpy as np\n",
    "from collections import Counter"
   ]
  },
  {
   "cell_type": "code",
   "execution_count": 2,
   "metadata": {},
   "outputs": [],
   "source": [
    "os.chdir(\"C://Users//Ruben//Documents//GitHub//TheForeign//SCC//output-data\")\n",
    "tt = pd.read_csv('tokens_year.csv')"
   ]
  },
  {
   "cell_type": "code",
   "execution_count": 33,
   "metadata": {},
   "outputs": [],
   "source": [
    "os.chdir(\"D://Scriptie//Data//models\")\n",
    "list_mod = glob.glob('*w2v')"
   ]
  },
  {
   "cell_type": "code",
   "execution_count": 49,
   "metadata": {},
   "outputs": [],
   "source": [
    "def GetNetwork(word, year, similarity_cutoff, freq_threshold, n):\n",
    "    mfn = [m for m in list_mod if int(m[0:4]) == year]\n",
    "    \n",
    "    #model = KeyedVectors.load_word2vec_format(mfn, binary = True)\n",
    "    model = KeyedVectors.load(mfn[0], mmap='r')\n",
    "    \n",
    "    \n",
    "    ttp = tt[(tt.year >= year) & (tt.year < (year + 10))]\n",
    "    ttp = ttp['tokens'].sum()\n",
    "    \n",
    "    dft = pd.DataFrame()\n",
    "    \n",
    "    for ms in list(dict(model.most_similar(word, topn=n)).keys()):\n",
    "        \n",
    "        level_1_list = list(dict(model.most_similar(ms, topn=n)).keys())\n",
    "        \n",
    "        level_1_df = pd.DataFrame()\n",
    "        \n",
    "        for ms2 in level_1_list:\n",
    "            level_2_list = list(dict(model.most_similar(ms2, topn=n)).keys())\n",
    "\n",
    "            level2_df = pd.DataFrame()\n",
    "\n",
    "            for term in level_2_list:\n",
    "                tmp_df = pd.DataFrame([[key,value] for key,value in dict(model.most_similar(term, topn=n)).items()], columns = ['target', 'weight'])\n",
    "                tmp_df['source'] = term\n",
    "                level2_df = level2_df.append(tmp_df)\n",
    "\n",
    "            level_1_df = level_1_df.append(level2_df)\n",
    "            \n",
    "        dft = dft.append(level_1_df)\n",
    "    \n",
    "    dft['count'] = [model.wv.vocab[w].count for w in list(dft.target)]\n",
    "    dft['count'] = dft['count'] / ttp\n",
    "    \n",
    "    dft = dft[dft['count'] > freq_threshold]\n",
    "    dft = dft[dft.weight > similarity_cutoff]\n",
    "    \n",
    "    dgc = Counter(list(dft.target))\n",
    "    dgc = [k for k,v in dict(dgc).items() if v >= 10]\n",
    "    \n",
    "    dft['degree'] = 1\n",
    "    \n",
    "    dft = dft[dft.target.isin(dgc)]\n",
    "    \n",
    "    return dft"
   ]
  },
  {
   "cell_type": "code",
   "execution_count": 60,
   "metadata": {},
   "outputs": [
    {
     "name": "stderr",
     "output_type": "stream",
     "text": [
      "C:\\ProgramData\\Anaconda3\\lib\\site-packages\\ipykernel_launcher.py:13: DeprecationWarning: Call to deprecated `most_similar` (Method will be removed in 4.0.0, use self.wv.most_similar() instead).\n",
      "  del sys.path[0]\n",
      "C:\\ProgramData\\Anaconda3\\lib\\site-packages\\gensim\\matutils.py:737: FutureWarning: Conversion of the second argument of issubdtype from `int` to `np.signedinteger` is deprecated. In future, it will be treated as `np.int32 == np.dtype(int).type`.\n",
      "  if np.issubdtype(vec.dtype, np.int):\n",
      "C:\\ProgramData\\Anaconda3\\lib\\site-packages\\ipykernel_launcher.py:15: DeprecationWarning: Call to deprecated `most_similar` (Method will be removed in 4.0.0, use self.wv.most_similar() instead).\n",
      "  from ipykernel import kernelapp as app\n",
      "C:\\ProgramData\\Anaconda3\\lib\\site-packages\\ipykernel_launcher.py:20: DeprecationWarning: Call to deprecated `most_similar` (Method will be removed in 4.0.0, use self.wv.most_similar() instead).\n",
      "C:\\ProgramData\\Anaconda3\\lib\\site-packages\\ipykernel_launcher.py:25: DeprecationWarning: Call to deprecated `most_similar` (Method will be removed in 4.0.0, use self.wv.most_similar() instead).\n"
     ]
    }
   ],
   "source": [
    "os.chdir(\"D://Scriptie//Data//models\")\n",
    "df = pd.DataFrame()\n",
    "\n",
    "for i in range(1875,1915,10):\n",
    "    x = GetNetwork(\"verre_landen\", i,0.3,0,15)\n",
    "    x['year'] = i\n",
    "    df = df.append(x)\n",
    "    \n",
    "os.chdir('C://Users//Ruben//Desktop')\n",
    "df.to_csv('verre_landen_dia.csv', index=False)\n",
    "\n"
   ]
  },
  {
   "cell_type": "code",
   "execution_count": null,
   "metadata": {},
   "outputs": [],
   "source": []
  }
 ],
 "metadata": {
  "kernelspec": {
   "display_name": "Python 3",
   "language": "python",
   "name": "python3"
  },
  "language_info": {
   "codemirror_mode": {
    "name": "ipython",
    "version": 3
   },
   "file_extension": ".py",
   "mimetype": "text/x-python",
   "name": "python",
   "nbconvert_exporter": "python",
   "pygments_lexer": "ipython3",
   "version": "3.6.5"
  }
 },
 "nbformat": 4,
 "nbformat_minor": 2
}
