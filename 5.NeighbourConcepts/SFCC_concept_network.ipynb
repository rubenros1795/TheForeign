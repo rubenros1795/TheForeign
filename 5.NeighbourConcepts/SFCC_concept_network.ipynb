{
 "cells": [
  {
   "cell_type": "code",
   "execution_count": 10,
   "metadata": {},
   "outputs": [],
   "source": [
    "from gensim.models import Word2Vec\n",
    "import nltk\n",
    "import glob\n",
    "import os\n",
    "import string\n",
    "import numpy\n",
    "import re\n",
    "import gensim\n",
    "import random\n",
    "from tqdm import tqdm\n",
    "from gensim.models import KeyedVectors\n",
    "from numpy import array\n",
    "import matplotlib.pyplot as plt\n",
    "import pandas as pd\n",
    "from collections import Counter"
   ]
  },
  {
   "cell_type": "code",
   "execution_count": 11,
   "metadata": {},
   "outputs": [],
   "source": [
    "os.chdir(\"C://Users//Ruben//Documents//GitHub//TheForeign//SCC//output-data\")\n",
    "tt = pd.read_csv('tokens_year.csv')"
   ]
  },
  {
   "cell_type": "code",
   "execution_count": 12,
   "metadata": {},
   "outputs": [
    {
     "data": {
      "text/plain": [
       "['1815_10yp_bigrams_model.w2v',\n",
       " '1825_10yp_bigrams_model.w2v',\n",
       " '1835_10yp_bigrams_model.w2v',\n",
       " '1845_10yp_bigrams_model.w2v',\n",
       " '1855_10yp_bigrams_model.w2v',\n",
       " '1865_10yp_bigrams_model.w2v',\n",
       " '1875_10yp_bigrams_model.w2v',\n",
       " '1885_10yp_bigrams_model.w2v',\n",
       " '1895_10yp_bigrams_model.w2v',\n",
       " '1905_10yp_bigrams_model.w2v']"
      ]
     },
     "execution_count": 12,
     "metadata": {},
     "output_type": "execute_result"
    }
   ],
   "source": [
    "os.chdir(\"D://Scriptie//Data//models\")   #//10yp_s150\n",
    "list_mod = glob.glob('*w2v') \n",
    "list_mod"
   ]
  },
  {
   "cell_type": "code",
   "execution_count": 13,
   "metadata": {},
   "outputs": [],
   "source": [
    "def GetNetwork(word, year):\n",
    "    mfn = [m for m in list_mod if int(m[0:4]) == year]\n",
    "    \n",
    "    #model = KeyedVectors.load_word2vec_format(mfn[0], binary = True)\n",
    "    model = KeyedVectors.load(mfn[0], mmap='r')\n",
    "    \n",
    "    \n",
    "    ttp = tt[(tt.year >= year) & (tt.year < (year + 10))]\n",
    "    ttp = ttp['tokens'].sum()\n",
    "    \n",
    "    dft = pd.DataFrame()\n",
    "    \n",
    "    for wl1 in list(dict(model.most_similar(word, topn=8)).keys()):\n",
    "\n",
    "        for wl2 in list(dict(model.most_similar(wl1, topn=8)).keys()):\n",
    "            \n",
    "            for wl3 in list(dict(model.most_similar(wl2, topn=8)).keys()):\n",
    "                \n",
    "                for wl4 in list(dict(model.most_similar(wl3, topn=8)).keys()):\n",
    "                    source = wl3\n",
    "                    target = wl4\n",
    "                    t = pd.DataFrame([source, target]).T\n",
    "                    dft = dft.append(t)\n",
    "    \n",
    "    dft.columns = ['source', 'target']\n",
    "    dft['count'] = [model.wv.vocab[w].count for w in list(dft.target)]\n",
    "    dft['count'] = dft['count'] / ttp\n",
    "    \n",
    "    \n",
    "    #dgc = Counter(list(dft.target))\n",
    "    #dgc = [k for k,v in dict(dgc).items() if v >= 100]\n",
    "    \n",
    "    dft['degree'] = 1\n",
    "    \n",
    "    #dft = dft[dft.target.isin(dgc)]\n",
    "    \n",
    "    return dft"
   ]
  },
  {
   "cell_type": "code",
   "execution_count": 14,
   "metadata": {},
   "outputs": [
    {
     "name": "stderr",
     "output_type": "stream",
     "text": [
      "C:\\ProgramData\\Anaconda3\\lib\\site-packages\\ipykernel_launcher.py:13: DeprecationWarning: Call to deprecated `most_similar` (Method will be removed in 4.0.0, use self.wv.most_similar() instead).\n",
      "  del sys.path[0]\n",
      "C:\\ProgramData\\Anaconda3\\lib\\site-packages\\gensim\\matutils.py:737: FutureWarning: Conversion of the second argument of issubdtype from `int` to `np.signedinteger` is deprecated. In future, it will be treated as `np.int32 == np.dtype(int).type`.\n",
      "  if np.issubdtype(vec.dtype, np.int):\n",
      "C:\\ProgramData\\Anaconda3\\lib\\site-packages\\ipykernel_launcher.py:15: DeprecationWarning: Call to deprecated `most_similar` (Method will be removed in 4.0.0, use self.wv.most_similar() instead).\n",
      "  from ipykernel import kernelapp as app\n",
      "C:\\ProgramData\\Anaconda3\\lib\\site-packages\\ipykernel_launcher.py:17: DeprecationWarning: Call to deprecated `most_similar` (Method will be removed in 4.0.0, use self.wv.most_similar() instead).\n",
      "C:\\ProgramData\\Anaconda3\\lib\\site-packages\\ipykernel_launcher.py:19: DeprecationWarning: Call to deprecated `most_similar` (Method will be removed in 4.0.0, use self.wv.most_similar() instead).\n"
     ]
    }
   ],
   "source": [
    "d = GetNetwork(\"het_buitenland\", 1905)"
   ]
  },
  {
   "cell_type": "code",
   "execution_count": 6,
   "metadata": {},
   "outputs": [],
   "source": [
    "d['degree'] = d.groupby('target')['target'].transform('count')"
   ]
  },
  {
   "cell_type": "code",
   "execution_count": 7,
   "metadata": {},
   "outputs": [],
   "source": [
    "d = d[d['degree'] > 10]"
   ]
  },
  {
   "cell_type": "code",
   "execution_count": 15,
   "metadata": {},
   "outputs": [],
   "source": [
    "os.chdir(\"C://Users//Ruben//Documents//GitHub//TheForeign//Visualizations//Poster\")\n",
    "d.to_csv('network_het_buitenland.csv', index=False)"
   ]
  },
  {
   "cell_type": "code",
   "execution_count": 47,
   "metadata": {},
   "outputs": [
    {
     "name": "stderr",
     "output_type": "stream",
     "text": [
      "C:\\ProgramData\\Anaconda3\\lib\\site-packages\\gensim\\matutils.py:737: FutureWarning: Conversion of the second argument of issubdtype from `int` to `np.signedinteger` is deprecated. In future, it will be treated as `np.int32 == np.dtype(int).type`.\n",
      "  if np.issubdtype(vec.dtype, np.int):\n",
      "C:\\ProgramData\\Anaconda3\\lib\\site-packages\\ipykernel_launcher.py:26: DeprecationWarning: Call to deprecated `wv` (Attribute will be removed in 4.0.0, use self instead).\n"
     ]
    }
   ],
   "source": [
    "op = pd.DataFrame()\n",
    "\n",
    "for i in range(1825,1906,10):\n",
    "    d = GetNetwork(\"buitenlanders\", i)\n",
    "    dc = Counter(d['target']).most_common(12)\n",
    "    list_values = [round(v/len(d), 3) for k,v in dc]\n",
    "    list_values = [\" (\" + str(v) + \")\" for v in list_values]\n",
    "    list_values = list(zip([k for k,v in dc], list_values))\n",
    "    t = pd.DataFrame([\" \".join([k,v]) for k,v in list_values])\n",
    "    t.columns = [str(i)]\n",
    "    df_c = pd.concat([op.reset_index(drop=True), t], axis=1)\n",
    "    op = df_c\n"
   ]
  },
  {
   "cell_type": "code",
   "execution_count": 70,
   "metadata": {},
   "outputs": [
    {
     "name": "stderr",
     "output_type": "stream",
     "text": [
      "C:\\ProgramData\\Anaconda3\\lib\\site-packages\\ipykernel_launcher.py:7: DeprecationWarning: Call to deprecated `most_similar` (Method will be removed in 4.0.0, use self.wv.most_similar() instead).\n",
      "  import sys\n",
      "C:\\ProgramData\\Anaconda3\\lib\\site-packages\\gensim\\matutils.py:737: FutureWarning: Conversion of the second argument of issubdtype from `int` to `np.signedinteger` is deprecated. In future, it will be treated as `np.int32 == np.dtype(int).type`.\n",
      "  if np.issubdtype(vec.dtype, np.int):\n"
     ]
    }
   ],
   "source": [
    "op = pd.DataFrame()\n",
    "\n",
    "for i in range(1815,1906,20):\n",
    "    mfn = [m for m in list_mod if int(m[0:4]) == i]\n",
    "    m = KeyedVectors.load(mfn[0], mmap='r')\n",
    "    #m = KeyedVectors.load_word2vec_format(mfn[0], binary = True)\n",
    "    t = pd.DataFrame(list(dict(m.most_similar(\"werelddeel\", topn=15))))\n",
    "    t.columns = [str(i)]\n",
    "    df_c = pd.concat([op.reset_index(drop=True), t], axis=1)\n",
    "    op = df_c"
   ]
  },
  {
   "cell_type": "code",
   "execution_count": 75,
   "metadata": {},
   "outputs": [
    {
     "name": "stderr",
     "output_type": "stream",
     "text": [
      "C:\\ProgramData\\Anaconda3\\lib\\site-packages\\ipykernel_launcher.py:1: DeprecationWarning: Call to deprecated `most_similar` (Method will be removed in 4.0.0, use self.wv.most_similar() instead).\n",
      "  \"\"\"Entry point for launching an IPython kernel.\n",
      "C:\\ProgramData\\Anaconda3\\lib\\site-packages\\gensim\\matutils.py:737: FutureWarning: Conversion of the second argument of issubdtype from `int` to `np.signedinteger` is deprecated. In future, it will be treated as `np.int32 == np.dtype(int).type`.\n",
      "  if np.issubdtype(vec.dtype, np.int):\n"
     ]
    },
    {
     "data": {
      "text/plain": [
       "[('veroveringspolitiek', 0.6817159652709961),\n",
       " ('politieke_macht', 0.6632646322250366),\n",
       " ('wereldheerschappij', 0.6603294610977173),\n",
       " ('hegemonie', 0.6540054082870483),\n",
       " ('staatkundo', 0.6362661123275757),\n",
       " ('europesche_staatkunde', 0.6300525665283203),\n",
       " ('eilandenrijk', 0.6280711889266968),\n",
       " ('politieke_verhoudingen', 0.6139512062072754),\n",
       " ('russificatie', 0.6111616492271423),\n",
       " ('duitsche_politiek', 0.6099926829338074),\n",
       " ('historische_ontwikkeling', 0.6094818115234375),\n",
       " ('veroveringszucht', 0.6083558797836304),\n",
       " ('natuurlijke_ontwikkeling', 0.6051191687583923),\n",
       " ('politieke_geschiedenis', 0.6029306650161743),\n",
       " ('russische_politiek', 0.602576494216919),\n",
       " ('regeeringsstelsel', 0.5984328985214233),\n",
       " ('balkanquaestie', 0.5967118740081787),\n",
       " ('oostenrijksche_politiek', 0.5966980457305908),\n",
       " ('invloedsfeer', 0.5952433347702026),\n",
       " ('militaire_mogendheid', 0.5948401689529419),\n",
       " ('overheersching', 0.5922002792358398),\n",
       " ('staatswezen', 0.591489851474762),\n",
       " ('volksregering', 0.591326892375946),\n",
       " ('alleenheerschappij', 0.590601921081543),\n",
       " ('economisch_leven', 0.590217649936676),\n",
       " ('westersche_beschaving', 0.5887638330459595),\n",
       " ('nationale_beweging', 0.5876268744468689),\n",
       " ('staatkunde', 0.5865053534507751),\n",
       " ('woordkunst', 0.5861545205116272),\n",
       " ('vreemde_inmenging', 0.586113691329956),\n",
       " ('regeneratie', 0.5853549838066101),\n",
       " ('wereldbeschouwing', 0.5851646065711975),\n",
       " ('tolunie', 0.5848729610443115),\n",
       " ('romantiek', 0.5842221975326538),\n",
       " ('democratie', 0.5840732455253601),\n",
       " ('katholicismus', 0.5837695002555847),\n",
       " ('suprematie', 0.5828553438186646),\n",
       " ('tegenstelling_tusschen', 0.5826409459114075),\n",
       " ('autocratie', 0.5816026926040649),\n",
       " ('handelsstaatkunde', 0.5812813639640808),\n",
       " ('europeesche_politiek', 0.5798370838165283),\n",
       " ('machtsuitbreiding', 0.5792540311813354),\n",
       " ('verdedigingsoorlog', 0.5783666968345642),\n",
       " ('leerstelling', 0.5774303078651428),\n",
       " ('oorlogsmagt', 0.5766153931617737),\n",
       " ('pruissische_politiek', 0.5765638947486877),\n",
       " ('zedenleer', 0.5748770236968994),\n",
       " ('alleenheersching', 0.5746732950210571),\n",
       " ('politiek_volgen', 0.5743513703346252),\n",
       " ('onbeholpenheid', 0.5741051435470581)]"
      ]
     },
     "execution_count": 75,
     "metadata": {},
     "output_type": "execute_result"
    }
   ],
   "source": [
    "m.most_similar('wereldpolitiek',topn= 50)"
   ]
  },
  {
   "cell_type": "code",
   "execution_count": 63,
   "metadata": {},
   "outputs": [],
   "source": [
    "os.chdir(\"C://Users//Ruben//Documents//GitHub//TheForeign//Visualizations//CH3//source-files\")\n",
    "op.to_csv('most_similar_terms_wereld.csv', index=False)\n",
    "os.chdir(\"D://Scriptie//Data//models//10yp_s150\")\n"
   ]
  },
  {
   "cell_type": "code",
   "execution_count": 35,
   "metadata": {},
   "outputs": [
    {
     "ename": "NameError",
     "evalue": "name 'm' is not defined",
     "output_type": "error",
     "traceback": [
      "\u001b[1;31m---------------------------------------------------------------------------\u001b[0m",
      "\u001b[1;31mNameError\u001b[0m                                 Traceback (most recent call last)",
      "\u001b[1;32m<ipython-input-35-9a40b379906c>\u001b[0m in \u001b[0;36m<module>\u001b[1;34m()\u001b[0m\n\u001b[1;32m----> 1\u001b[1;33m \u001b[0mm\u001b[0m\u001b[1;33m\u001b[0m\u001b[0m\n\u001b[0m",
      "\u001b[1;31mNameError\u001b[0m: name 'm' is not defined"
     ]
    }
   ],
   "source": [
    "m"
   ]
  },
  {
   "cell_type": "code",
   "execution_count": 33,
   "metadata": {},
   "outputs": [
    {
     "name": "stderr",
     "output_type": "stream",
     "text": [
      "C:\\ProgramData\\Anaconda3\\lib\\site-packages\\ipykernel_launcher.py:13: DeprecationWarning: Call to deprecated `most_similar` (Method will be removed in 4.0.0, use self.wv.most_similar() instead).\n",
      "  del sys.path[0]\n",
      "C:\\ProgramData\\Anaconda3\\lib\\site-packages\\gensim\\matutils.py:737: FutureWarning: Conversion of the second argument of issubdtype from `int` to `np.signedinteger` is deprecated. In future, it will be treated as `np.int32 == np.dtype(int).type`.\n",
      "  if np.issubdtype(vec.dtype, np.int):\n",
      "C:\\ProgramData\\Anaconda3\\lib\\site-packages\\ipykernel_launcher.py:15: DeprecationWarning: Call to deprecated `most_similar` (Method will be removed in 4.0.0, use self.wv.most_similar() instead).\n",
      "  from ipykernel import kernelapp as app\n",
      "C:\\ProgramData\\Anaconda3\\lib\\site-packages\\ipykernel_launcher.py:17: DeprecationWarning: Call to deprecated `most_similar` (Method will be removed in 4.0.0, use self.wv.most_similar() instead).\n",
      "C:\\ProgramData\\Anaconda3\\lib\\site-packages\\ipykernel_launcher.py:19: DeprecationWarning: Call to deprecated `most_similar` (Method will be removed in 4.0.0, use self.wv.most_similar() instead).\n"
     ]
    },
    {
     "name": "stdout",
     "output_type": "stream",
     "text": [
      "schiereiland | fchiereiland | vasteland | iand | schier_eiland | lsnd | land | vaste_land | laad | geheele_land | liet_eiland | voorregt | bet_eiland | denkbeeld | noodlot | hee_eiland | het_eiland | hec_eiland | kordon | lard\n",
      "gemeenebest | bondgenootschap | keizerrijk | laud | koningrijk | schiereiland | iand | land | lsnd | middelpunt | rijk | werelddeel | verbond | vorstendom | koninkrijk | huisje | lard | bondgenootfchap | regeringstelsel | kerkhof\n",
      "keizerrijk | koningrijk | schiereiland | laud | rgk | hertogdom | vasteland | jand | fchiereiland | koninkrijk | vorstendom | gemeenebest | bondgenootschap | steunpunt | land | werelddeel | schier_eiland | russische_rijk | middenpunt | koningrijk_polen\n",
      "schiereiland | vasteland | jand | keizerrijk | iand | rgk | schier_eiland | laud | fchiereiland | lsnd | koningrijk | element | land | gemeenebest | eiland | middenpunt | steunpunt | middelpunt | hertogdom | vorstendom\n",
      "schiereiland | ryk | vasteland | fchiereiland | jand | overige_europa | iand | laud | schier_eiland | vaste_land | eiland | middenpunt | rgk | rijk | bijk | rjjk | element | middelpunt | plaatsje | voorgebergte\n",
      "schiereiland | jand | iand | ryk | laud | fchiereiland | schier_eiland | rjjk | land | overige_europa | vasteland | eiland | plekje | landje | gehucht | britsche_rijk | plaatsje | rgk | lsnd | dorp\n",
      "ryk | rjjk | koningrijk | rgk | schiereiland | vorstendom | laud | fchiereiland | bijk | gehucht | eiland | iand | jand | schier_eiland | dorp | doip | havenhoofd | werelddeel | prinsdom | vasteland\n",
      "landje | schiereiland | werelddeel | laud | ryk | koningrijk | jand | koninkrijk | gebergte | rjjk | iand | menschenras | land | kustland | vasteland | vaste_land | schier_eiland | voorgebergte | middelpunt | insect\n",
      "werelddeel | schiereiland | laud | landje | ryk | land | kustland | menschenras | eiland | britsche_rijk | chineesche_rijk | iand | voorgebergte | vaste_land | jand | vasteland | plekje_gronds | plateau | insect | klein_land\n",
      "schiereiland | werelddeel | laud | landje | jand | land | kustgebied | vasteland | eiland | kustland | chineesche_rijk | vaste_land | iand | britsche_rijk | menschenras | ryk | plateau | voorgebergte | klein_land | menschengeslacht\n"
     ]
    }
   ],
   "source": [
    "dft = pd.DataFrame()\n",
    "\n",
    "for i in range(1815,1906,10):\n",
    "    df = GetNetwork(\"werelddeel\", i)\n",
    "    l = list(dict(Counter(list(df['target'])).most_common(20)).keys())\n",
    "    print(\" | \".join(l))\n",
    "    df = pd.DataFrame(l)\n",
    "    df['year'] = i\n",
    "    dft = dft.append(df)"
   ]
  },
  {
   "cell_type": "code",
   "execution_count": 7,
   "metadata": {},
   "outputs": [],
   "source": [
    "os.chdir('C://Users//Ruben//Desktop')\n",
    "d.to_csv('kwestie-1875.csv', index=False)"
   ]
  },
  {
   "cell_type": "code",
   "execution_count": 35,
   "metadata": {},
   "outputs": [],
   "source": [
    "os.chdir(\"C://Users//Ruben//Documents//GitHub//TheForeign//Visualizations//CH2//source-files\")\n",
    "dft.to_csv('werelddeel_mct.csv', index=False)"
   ]
  },
  {
   "cell_type": "code",
   "execution_count": null,
   "metadata": {},
   "outputs": [],
   "source": []
  }
 ],
 "metadata": {
  "kernelspec": {
   "display_name": "Python 3",
   "language": "python",
   "name": "python3"
  },
  "language_info": {
   "codemirror_mode": {
    "name": "ipython",
    "version": 3
   },
   "file_extension": ".py",
   "mimetype": "text/x-python",
   "name": "python",
   "nbconvert_exporter": "python",
   "pygments_lexer": "ipython3",
   "version": "3.6.5"
  }
 },
 "nbformat": 4,
 "nbformat_minor": 2
}
