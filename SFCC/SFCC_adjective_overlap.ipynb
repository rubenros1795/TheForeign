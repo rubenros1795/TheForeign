{
 "cells": [
  {
   "cell_type": "code",
   "execution_count": 1,
   "metadata": {},
   "outputs": [
    {
     "name": "stderr",
     "output_type": "stream",
     "text": [
      "C:\\ProgramData\\Anaconda3\\lib\\site-packages\\gensim\\utils.py:1212: UserWarning: detected Windows; aliasing chunkize to chunkize_serial\n",
      "  warnings.warn(\"detected Windows; aliasing chunkize to chunkize_serial\")\n"
     ]
    }
   ],
   "source": [
    "from nltk.tokenize import sent_tokenize\n",
    "from gensim.models import Word2Vec\n",
    "from nltk.tokenize import sent_tokenize\n",
    "from gensim.models import Word2Vec\n",
    "from gensim.models import Phrases\n",
    "from gensim.models.phrases import Phrases, Phraser\n",
    "import nltk\n",
    "from nltk.tokenize import sent_tokenize\n",
    "from nltk.corpus import stopwords\n",
    "import glob\n",
    "import os\n",
    "from os import path\n",
    "import string\n",
    "import numpy\n",
    "import re\n",
    "from __future__ import absolute_import, division, print_function\n",
    "import pandas as pd\n",
    "import multiprocessing\n",
    "import gensim\n",
    "import random\n",
    "from tqdm import tqdm\n",
    "from sklearn.manifold import TSNE\n",
    "from gensim.models import KeyedVectors\n",
    "import numpy as np\n",
    "from collections import Counter\n"
   ]
  },
  {
   "cell_type": "code",
   "execution_count": 2,
   "metadata": {},
   "outputs": [],
   "source": [
    "os.chdir(\"D://Scriptie//Data//models\")\n",
    "list_mod = glob.glob('*w2v')"
   ]
  },
  {
   "cell_type": "code",
   "execution_count": 3,
   "metadata": {},
   "outputs": [],
   "source": [
    "def GetAdjectives(year, key_adjective):\n",
    "    mfn = [m for m in list_mod if int(m[0:4]) == year]\n",
    "    m = KeyedVectors.load(mfn[0], mmap='r')\n",
    "    list_buita = [bg for bg, v in (m.wv.vocab).items() if key_adjective in bg]\n",
    "    list_buit = [bigram.split(\"_\") for bigram in list_buita]\n",
    "    list_buit = [noun for adjective, noun in list_buit]\n",
    "    total_list_adj = list()\n",
    "\n",
    "    for i in list_buita:\n",
    "        msl = [k for k,v in dict(m.most_similar(i,topn=1000)).items() if v > 0.2 and \"_\" in k]\n",
    "        msl = [bigram.split(\"_\") for bigram in msl]\n",
    "        msl = [adjective for adjective, noun in msl if noun in list_buit]\n",
    "        total_list_adj = total_list_adj + msl\n",
    "    return Counter(total_list_adj).most_common(15)"
   ]
  },
  {
   "cell_type": "code",
   "execution_count": 45,
   "metadata": {},
   "outputs": [
    {
     "name": "stderr",
     "output_type": "stream",
     "text": [
      "C:\\ProgramData\\Anaconda3\\lib\\site-packages\\ipykernel_launcher.py:10: DeprecationWarning: Call to deprecated `most_similar` (Method will be removed in 4.0.0, use self.wv.most_similar() instead).\n",
      "  # Remove the CWD from sys.path while we load stuff.\n",
      "C:\\ProgramData\\Anaconda3\\lib\\site-packages\\gensim\\matutils.py:737: FutureWarning: Conversion of the second argument of issubdtype from `int` to `np.signedinteger` is deprecated. In future, it will be treated as `np.int32 == np.dtype(int).type`.\n",
      "  if np.issubdtype(vec.dtype, np.int):\n"
     ]
    },
    {
     "name": "stdout",
     "output_type": "stream",
     "text": [
      "1865\n",
      "('internationale', 162)\n",
      "('bestaande', 38)\n",
      "('weener', 31)\n",
      "('gesloten', 29)\n",
      "('nationale', 28)\n",
      "('het', 28)\n",
      "('wederzijdsche', 27)\n",
      "('londensche', 26)\n",
      "('parijsche', 26)\n",
      "('europesche', 21)\n",
      "('parijssche', 21)\n",
      "('algemeene', 19)\n",
      "('bijzondere', 19)\n",
      "('persoonlijke', 19)\n",
      "('militaire', 17)\n",
      "\n",
      "1885\n",
      "('internationale', 608)\n",
      "('bestaande', 77)\n",
      "('het', 66)\n",
      "('nationale', 56)\n",
      "('gesloten', 55)\n",
      "('algemeene', 50)\n",
      "('gehouden', 48)\n",
      "('nieuwe', 45)\n",
      "('weener', 43)\n",
      "('vaderlandsche', 42)\n",
      "('berlijnsche', 39)\n",
      "('kerkelijke', 37)\n",
      "('voorloopige', 37)\n",
      "('eene', 36)\n",
      "('koloniale', 35)\n",
      "\n",
      "1905\n",
      "('internationale', 1373)\n",
      "('het', 142)\n",
      "('nationale', 141)\n",
      "('nationaal', 97)\n",
      "('algemeene', 96)\n",
      "('bestaande', 88)\n",
      "('gehouden', 85)\n",
      "('koloniale', 75)\n",
      "('jaarlijksche', 74)\n",
      "('vaderlandsche', 70)\n",
      "('berlijnsche', 70)\n",
      "('haagsche', 69)\n",
      "('gesloten', 66)\n",
      "('intern', 66)\n",
      "('duitsche', 59)\n",
      "\n"
     ]
    }
   ],
   "source": [
    "for i in range(1865,1906,20):\n",
    "    p = GetAdjectives(i,\"internationale_\")\n",
    "    print(i)\n",
    "    \n",
    "    for c,x in enumerate(p):\n",
    "        #if c > 10:\n",
    "        print(x)\n",
    "        \n",
    "    print('')"
   ]
  },
  {
   "cell_type": "code",
   "execution_count": 38,
   "metadata": {},
   "outputs": [
    {
     "data": {
      "text/plain": [
       "[('buitenlandsche', 621),\n",
       " ('vreemde', 313),\n",
       " ('engelsche', 193),\n",
       " ('binnenlandsche', 188),\n",
       " ('buitenland', 179),\n",
       " ('duitsche', 177),\n",
       " ('europesche', 152),\n",
       " ('fransche', 145),\n",
       " ('spaansche', 132),\n",
       " ('russische', 114)]"
      ]
     },
     "execution_count": 38,
     "metadata": {},
     "output_type": "execute_result"
    }
   ],
   "source": [
    "p"
   ]
  },
  {
   "cell_type": "code",
   "execution_count": null,
   "metadata": {},
   "outputs": [],
   "source": []
  }
 ],
 "metadata": {
  "kernelspec": {
   "display_name": "Python 3",
   "language": "python",
   "name": "python3"
  },
  "language_info": {
   "codemirror_mode": {
    "name": "ipython",
    "version": 3
   },
   "file_extension": ".py",
   "mimetype": "text/x-python",
   "name": "python",
   "nbconvert_exporter": "python",
   "pygments_lexer": "ipython3",
   "version": "3.6.5"
  }
 },
 "nbformat": 4,
 "nbformat_minor": 2
}
