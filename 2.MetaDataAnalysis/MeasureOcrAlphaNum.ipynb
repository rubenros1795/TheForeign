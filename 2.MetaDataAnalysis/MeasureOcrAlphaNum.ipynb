{
 "cells": [
  {
   "cell_type": "code",
   "execution_count": 1,
   "metadata": {},
   "outputs": [],
   "source": [
    "import os\n",
    "import glob\n",
    "import pandas as pd"
   ]
  },
  {
   "cell_type": "code",
   "execution_count": 127,
   "metadata": {},
   "outputs": [],
   "source": [
    "os.chdir(\"C://Users//Ruben//Documents//Scriptie//Data//cngwf//output//years\")"
   ]
  },
  {
   "cell_type": "markdown",
   "metadata": {},
   "source": [
    "_Method 1_\n",
    "\n",
    "Count non-alphanumerical characters and plot their combined relative frequency over time."
   ]
  },
  {
   "cell_type": "code",
   "execution_count": 128,
   "metadata": {},
   "outputs": [
    {
     "name": "stderr",
     "output_type": "stream",
     "text": [
      "C:\\ProgramData\\Anaconda3\\lib\\site-packages\\IPython\\core\\interactiveshell.py:2785: DtypeWarning: Columns (1,2) have mixed types. Specify dtype option on import or set low_memory=False.\n",
      "  interactivity=interactivity, compiler=compiler, result=result)\n"
     ]
    }
   ],
   "source": [
    "df = pd.read_csv('total-unigrams.csv')\n",
    "dfs = df[df.ngram.str.len() == 1]\n",
    "dfs = dfs[~dfs.ngram.str.isalnum()]\n",
    "dfs = dfs.reset_index(drop=True)\n",
    "dfs = dfs.dropna()\n",
    "dfs['year'] = dfs['year'].astype(int)\n",
    "dfs = dfs.pivot(index='ngram', columns='year', values='count')\n",
    "dfs = dfs.fillna(0)\n",
    "dfs.columns = dfs.columns.astype(str)"
   ]
  },
  {
   "cell_type": "code",
   "execution_count": 129,
   "metadata": {},
   "outputs": [],
   "source": [
    "list_sums = list()\n",
    "\n",
    "for i in list(dfs.columns):\n",
    "    tmp = sum(dfs[i].astype(int))\n",
    "    list_sums.append(tmp)"
   ]
  },
  {
   "cell_type": "code",
   "execution_count": 130,
   "metadata": {},
   "outputs": [],
   "source": [
    "## Import token totals\n",
    "os.chdir(\"C://Users//Ruben//Documents//GitHub//TheForeign//SCC//output-data\")\n",
    "token_totals = pd.read_csv('tokens_year.csv')\n",
    "token_totals['characters'] = list_sums\n",
    "token_totals['rel_characters'] = token_totals['characters'] / token_totals['tokens'] * 100\n",
    "token_totals['year'] = token_totals['year'].astype(int)"
   ]
  },
  {
   "cell_type": "markdown",
   "metadata": {},
   "source": [
    "_Method 2_\n",
    "\n",
    "Retrieve OCR-alternatives for 'buitenlandsche' and plot relative frequency over time. (OCR-alternatives acquired through pretrained w2v models for 1790-1800 Delpher data)."
   ]
  },
  {
   "cell_type": "code",
   "execution_count": 76,
   "metadata": {},
   "outputs": [
    {
     "name": "stderr",
     "output_type": "stream",
     "text": [
      "C:\\ProgramData\\Anaconda3\\lib\\site-packages\\IPython\\core\\interactiveshell.py:2785: DtypeWarning: Columns (1,2) have mixed types. Specify dtype option on import or set low_memory=False.\n",
      "  interactivity=interactivity, compiler=compiler, result=result)\n"
     ]
    }
   ],
   "source": [
    "os.chdir(\"C://Users//Ruben//Documents//Scriptie//Data//cngwf//output//years\")\n",
    "df = pd.read_csv('total-unigrams.csv')"
   ]
  },
  {
   "cell_type": "code",
   "execution_count": 117,
   "metadata": {},
   "outputs": [],
   "source": [
    "list_ocr = ['buitenlandfche', 'buiteniandfche', 'bnitenlandfche', 'buitenlandfchc', 'buitenlandfcbe', 'buitcnlandfche', 'buitenlandsehe', 'builenlandsche', 'bnitenlandsche', 'buitenlandschc', 'buitenlaudsche', 'buitcnlandsche', 'buitenlandscbe', 'buiteniandsche', 'buiteulandsche', 'buitenlandsclie', 'huitenlandsche', 'buitenlandscho', 'buiienlandsche', 'buitenlandsohe']"
   ]
  },
  {
   "cell_type": "code",
   "execution_count": 131,
   "metadata": {},
   "outputs": [],
   "source": [
    "df_ocr = df[df['ngram'].isin(list_ocr)]"
   ]
  },
  {
   "cell_type": "code",
   "execution_count": 132,
   "metadata": {},
   "outputs": [],
   "source": [
    "df_ocr = df_ocr.reset_index(drop=True)\n",
    "df_ocr = df_ocr.dropna()\n",
    "df_ocr['year'] = df_ocr['year'].astype(int)\n",
    "df_ocr = df_ocr.pivot(index='ngram', columns='year', values='count')\n",
    "df_ocr = df_ocr.fillna(0)\n",
    "df_ocr.columns = df_ocr.columns.astype(str)\n",
    "list_sums = list()\n",
    "\n",
    "for i in list(df_ocr.columns):\n",
    "    tmp = sum(df_ocr[i].astype(int))\n",
    "    list_sums.append(tmp)"
   ]
  },
  {
   "cell_type": "code",
   "execution_count": 133,
   "metadata": {},
   "outputs": [],
   "source": [
    "token_totals['alternatives'] = list_sums\n",
    "token_totals['rel_alternatives'] = token_totals['alternatives'] / token_totals['tokens'] * 100"
   ]
  },
  {
   "cell_type": "markdown",
   "metadata": {},
   "source": [
    "_Method 2a_\n",
    "\n",
    "Calculate OCR change over time by dividing comb. freq. of alternatives by the freq of the 'true' 'buitenlandsche'."
   ]
  },
  {
   "cell_type": "code",
   "execution_count": 134,
   "metadata": {},
   "outputs": [],
   "source": [
    "df_true = df[df['ngram'] == \"buitenlandsche\"]\n",
    "df_true = df_true.reset_index(drop=True)\n",
    "df_true = df_true.dropna()\n",
    "df_true['year'] = df_true['year'].astype(int)\n",
    "df_true = df_true.pivot(index='ngram', columns='year', values='count')\n",
    "df_true = df_true.fillna(0)\n",
    "df_true.columns = df_true.columns.astype(str)\n",
    "list_sums = list()\n",
    "\n",
    "for i in list(df_true.columns):\n",
    "    tmp = sum(df_true[i].astype(int))\n",
    "    list_sums.append(tmp)"
   ]
  },
  {
   "cell_type": "code",
   "execution_count": 136,
   "metadata": {},
   "outputs": [],
   "source": [
    "token_totals['true'] = list_sums\n",
    "token_totals['alt_rel_to_total_buit'] = token_totals['alternatives'] / (token_totals['alternatives'] + token_totals['true']) * 100"
   ]
  },
  {
   "cell_type": "code",
   "execution_count": 137,
   "metadata": {},
   "outputs": [],
   "source": [
    "token_totals.to_csv('ocr_measurements.csv', index=False)"
   ]
  },
  {
   "cell_type": "code",
   "execution_count": null,
   "metadata": {},
   "outputs": [],
   "source": []
  }
 ],
 "metadata": {
  "kernelspec": {
   "display_name": "Python 3",
   "language": "python",
   "name": "python3"
  },
  "language_info": {
   "codemirror_mode": {
    "name": "ipython",
    "version": 3
   },
   "file_extension": ".py",
   "mimetype": "text/x-python",
   "name": "python",
   "nbconvert_exporter": "python",
   "pygments_lexer": "ipython3",
   "version": "3.6.5"
  }
 },
 "nbformat": 4,
 "nbformat_minor": 2
}
