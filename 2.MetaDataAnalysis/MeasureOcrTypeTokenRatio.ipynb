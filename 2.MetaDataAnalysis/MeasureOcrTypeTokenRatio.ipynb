{
 "cells": [
  {
   "cell_type": "code",
   "execution_count": 1,
   "metadata": {},
   "outputs": [],
   "source": [
    "import glob, os, re, pandas as pd, random"
   ]
  },
  {
   "cell_type": "code",
   "execution_count": 2,
   "metadata": {},
   "outputs": [],
   "source": [
    "os.chdir(\"D://Scriptie//Data//lines//year\")\n",
    "all_txt = glob.glob('*.txt')"
   ]
  },
  {
   "cell_type": "code",
   "execution_count": 10,
   "metadata": {},
   "outputs": [
    {
     "name": "stdout",
     "output_type": "stream",
     "text": [
      "1815: tokens: 5686482 | types: 649352\n",
      "1816: tokens: 4802322 | types: 546613\n",
      "1817: tokens: 4043759 | types: 565288\n",
      "1818: tokens: 4465745 | types: 599585\n",
      "1819: tokens: 4242469 | types: 522559\n",
      "1820: tokens: 4442881 | types: 522635\n",
      "1821: tokens: 4561697 | types: 516953\n",
      "1822: tokens: 4909844 | types: 478218\n",
      "1823: tokens: 4792725 | types: 430098\n",
      "1824: tokens: 4911844 | types: 473276\n",
      "1825: tokens: 5015313 | types: 482029\n",
      "1826: tokens: 4874755 | types: 395108\n",
      "1827: tokens: 5068367 | types: 345006\n",
      "1828: tokens: 6160772 | types: 409883\n",
      "1829: tokens: 7067596 | types: 478530\n",
      "1830: tokens: 8731314 | types: 486626\n",
      "1831: tokens: 9557319 | types: 545568\n",
      "1832: tokens: 11082795 | types: 632945\n",
      "1833: tokens: 10299950 | types: 643385\n",
      "1834: tokens: 10049591 | types: 712391\n",
      "1835: tokens: 9913837 | types: 728883\n",
      "1836: tokens: 10033001 | types: 631823\n",
      "1837: tokens: 9433775 | types: 541147\n",
      "1838: tokens: 9803371 | types: 597499\n",
      "1839: tokens: 9686454 | types: 505737\n",
      "1840: tokens: 10351607 | types: 601476\n",
      "1841: tokens: 10483197 | types: 611723\n",
      "1842: tokens: 11140910 | types: 653242\n",
      "1843: tokens: 11859698 | types: 649613\n",
      "1844: tokens: 14738068 | types: 704436\n",
      "1845: tokens: 16802029 | types: 752199\n",
      "1846: tokens: 17332473 | types: 900383\n",
      "1847: tokens: 19631870 | types: 863229\n",
      "1848: tokens: 22267762 | types: 965687\n",
      "1849: tokens: 20017533 | types: 796653\n",
      "1850: tokens: 21534798 | types: 929075\n",
      "1851: tokens: 19998816 | types: 937576\n",
      "1852: tokens: 22052340 | types: 1076308\n",
      "1853: tokens: 23671951 | types: 1134972\n",
      "1854: tokens: 22516207 | types: 941561\n",
      "1855: tokens: 21871040 | types: 991952\n",
      "1856: tokens: 25428951 | types: 1072800\n",
      "1857: tokens: 25861717 | types: 1046374\n",
      "1858: tokens: 26804383 | types: 1057840\n",
      "1859: tokens: 30334592 | types: 1051294\n",
      "1860: tokens: 30527772 | types: 1220957\n",
      "1861: tokens: 33740652 | types: 1293376\n",
      "1862: tokens: 33623642 | types: 1141940\n",
      "1863: tokens: 32653419 | types: 1193273\n",
      "1864: tokens: 32233555 | types: 1192844\n",
      "1865: tokens: 35268379 | types: 1375779\n",
      "1866: tokens: 35873239 | types: 1291924\n",
      "1867: tokens: 36554210 | types: 1195633\n",
      "1868: tokens: 33213127 | types: 1172479\n",
      "1869: tokens: 40025619 | types: 1369365\n",
      "1870: tokens: 28083482 | types: 1072399\n",
      "1871: tokens: 30124526 | types: 1181657\n",
      "1872: tokens: 32269046 | types: 1312074\n",
      "1873: tokens: 31140626 | types: 1605654\n",
      "1874: tokens: 35281768 | types: 1640994\n",
      "1875: tokens: 35888776 | types: 1480336\n",
      "1876: tokens: 34868913 | types: 1503949\n",
      "1877: tokens: 36225807 | types: 1466287\n",
      "1878: tokens: 37432557 | types: 1542899\n",
      "1879: tokens: 48648656 | types: 2083211\n",
      "1880: tokens: 47892652 | types: 2046290\n",
      "1881: tokens: 46472828 | types: 1957890\n",
      "1882: tokens: 50426326 | types: 1844643\n",
      "1883: tokens: 56288438 | types: 2140129\n",
      "1884: tokens: 51166256 | types: 2005370\n",
      "1885: tokens: 47753538 | types: 1965057\n",
      "1886: tokens: 50709042 | types: 1971757\n",
      "1887: tokens: 58863063 | types: 2262300\n",
      "1888: tokens: 53616163 | types: 2192792\n",
      "1889: tokens: 58907684 | types: 2170618\n",
      "1890: tokens: 61945962 | types: 2261519\n",
      "1891: tokens: 65626965 | types: 2784560\n",
      "1892: tokens: 65454750 | types: 2758889\n",
      "1893: tokens: 68486312 | types: 2632489\n",
      "1894: tokens: 68952759 | types: 2476950\n",
      "1895: tokens: 84136979 | types: 3042989\n",
      "1896: tokens: 83988260 | types: 3043134\n",
      "1897: tokens: 83997358 | types: 3109655\n",
      "1898: tokens: 84227082 | types: 3033526\n",
      "1899: tokens: 90473623 | types: 3571602\n",
      "1900: tokens: 87485626 | types: 3378830\n",
      "1901: tokens: 95242595 | types: 3744949\n",
      "1902: tokens: 94003696 | types: 3418863\n",
      "1903: tokens: 90498127 | types: 3716077\n",
      "1904: tokens: 99142898 | types: 4354166\n",
      "1905: tokens: 93720212 | types: 3720961\n",
      "1906: tokens: 93693235 | types: 3839641\n",
      "1907: tokens: 93507206 | types: 3916142\n",
      "1908: tokens: 103219327 | types: 4304748\n",
      "1909: tokens: 103472217 | types: 4460094\n",
      "1910: tokens: 136792841 | types: 8197575\n",
      "1911: tokens: 138472470 | types: 7981628\n",
      "1912: tokens: 149756060 | types: 9108404\n",
      "1913: tokens: 140628218 | types: 9015714\n"
     ]
    }
   ],
   "source": [
    "ttr_tt = list()\n",
    "\n",
    "for year in range(1815,1914):\n",
    "    fn = str(year) + \"_lines.txt\"\n",
    "    with open(fn, encoding = 'utf-8') as f:\n",
    "        content = f.read().splitlines()    \n",
    "    artno = len(content)\n",
    "    content = [line.split() for line in content]\n",
    "    content = [item for sublist in content for item in sublist]\n",
    "    \n",
    "    ttr = (len(list(set(content))) / artno) / (len(list(content)) / artno)\n",
    "    \n",
    "    print(str(year) + \": tokens: \" + str(len(list(content))) + \" | types: \" + str(len(list(set(content)))))\n",
    "        \n",
    "    ttr_tt.append([year, ttr])         "
   ]
  },
  {
   "cell_type": "code",
   "execution_count": 11,
   "metadata": {},
   "outputs": [],
   "source": [
    "df = pd.DataFrame(ttr_tt)"
   ]
  },
  {
   "cell_type": "code",
   "execution_count": 13,
   "metadata": {},
   "outputs": [
    {
     "data": {
      "text/plain": [
       "<matplotlib.axes._subplots.AxesSubplot at 0x1ec06c73438>"
      ]
     },
     "execution_count": 13,
     "metadata": {},
     "output_type": "execute_result"
    }
   ],
   "source": [
    "df.columns = ['year','ttr']\n"
   ]
  },
  {
   "cell_type": "code",
   "execution_count": 14,
   "metadata": {},
   "outputs": [
    {
     "data": {
      "image/png": "[encoded data removed]",
      "text/plain": [
       "<Figure size 432x288 with 1 Axes>"
      ]
     },
     "metadata": {},
     "output_type": "display_data"
    }
   ],
   "source": [
    "v = df.plot.line(x='year', y='ttr')"
   ]
  },
  {
   "cell_type": "code",
   "execution_count": 15,
   "metadata": {},
   "outputs": [],
   "source": [
    "os.chdir(\"C://Users//Ruben//Documents//GitHub//TheForeign//SCC//output-data\")\n",
    "\n",
    "\n",
    "df.to_csv('ttr.csv')"
   ]
  },
  {
   "cell_type": "code",
   "execution_count": null,
   "metadata": {},
   "outputs": [],
   "source": []
  }
 ],
 "metadata": {
  "kernelspec": {
   "display_name": "Python 3",
   "language": "python",
   "name": "python3"
  },
  "language_info": {
   "codemirror_mode": {
    "name": "ipython",
    "version": 3
   },
   "file_extension": ".py",
   "mimetype": "text/x-python",
   "name": "python",
   "nbconvert_exporter": "python",
   "pygments_lexer": "ipython3",
   "version": "3.6.5"
  }
 },
 "nbformat": 4,
 "nbformat_minor": 2
}
