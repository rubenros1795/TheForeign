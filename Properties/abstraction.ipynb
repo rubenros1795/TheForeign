{
 "cells": [
  {
   "cell_type": "code",
   "execution_count": 14,
   "metadata": {},
   "outputs": [],
   "source": [
    "from nltk.tokenize import sent_tokenize\n",
    "from gensim.models import Word2Vec\n",
    "import nltk\n",
    "from nltk.tokenize import sent_tokenize\n",
    "from nltk.corpus import stopwords\n",
    "import glob\n",
    "import os\n",
    "from os import path\n",
    "import string\n",
    "import numpy\n",
    "import re\n",
    "from __future__ import absolute_import, division, print_function\n",
    "import pandas as pd\n",
    "import multiprocessing\n",
    "import gensim\n",
    "import random\n",
    "from tqdm import tqdm\n",
    "import pandas as pd\n",
    "from gensim.models import KeyedVectors\n",
    "from numpy import array\n",
    "import matplotlib.pyplot as plt\n",
    "import numpy as np\n",
    "from collections import Counter"
   ]
  },
  {
   "cell_type": "code",
   "execution_count": 2,
   "metadata": {},
   "outputs": [],
   "source": [
    "def measure_semantic_shift_by_neighborhood(model1,model2,word,k=10,verbose=False):\n",
    "\t\"\"\"\n",
    "\tBasic implementation of William Hamilton (@williamleif) et al's measure of semantic change\n",
    "\tproposed in their paper \"Cultural Shift or Linguistic Drift?\" (https://arxiv.org/abs/1606.02821),\n",
    "\twhich they call the \"local neighborhood measure.\" They find this measure better suited to understand\n",
    "\tthe semantic change of nouns owing to \"cultural shift,\" or changes in meaning \"local\" to that word,\n",
    "\trather than global changes in language (\"linguistic drift\") use that are better suited to a\n",
    "\tProcrustes-alignment method (also described in the same paper.)\n",
    "\t\n",
    "\tArguments are:\n",
    "\t- `model1`, `model2`: Are gensim word2vec models.\n",
    "\t- `word` is a sting representation of a given word.\n",
    "\t- `k` is the size of the word's neighborhood (# of its closest words in its vector space).\n",
    "\t\"\"\"\n",
    "\t# Import function for cosine distance\n",
    "\tfrom scipy.spatial.distance import cosine\n",
    "\t\n",
    "\t# Check that this word is present in both models\n",
    "\tif not word in model1.vocab or not word in model2.vocab:\n",
    "\t\tprint(\"!! Word %s not present in both models.\" % word)\n",
    "\t\treturn None\n",
    "\t\n",
    "\t# Get the two neighborhoods\n",
    "\tneighborhood1 = [w for w,c in model1.most_similar(positive = [word],topn=k)]\n",
    "\tneighborhood2 = [w for w,c in model2.most_similar(positive = [word],topn=k)]\n",
    "\t\n",
    "\t# Print?\n",
    "\tif verbose:\n",
    "\t\tprint( '>> Neighborhood of associations of the word \"%s\" in model1:' % word)\n",
    "\t\tprint( ', '.join(neighborhood1))\n",
    "\t\tprint('')\n",
    "\t\tprint( '>> Neighborhood of associations of the word \"%s\" in model2:' % word)\n",
    "\t\tprint( ', '.join(neighborhood2))\n",
    "\t\tprint('')\n",
    "\t\n",
    "\t# Get the 'meta' neighborhood (both combined)\n",
    "\tmeta_neighborhood = list(set(neighborhood1)|set(neighborhood2))\n",
    "\t\n",
    "\t# Filter the meta neighborhood so that it contains only words present in both models\n",
    "\tmeta_neighborhood = [w for w in meta_neighborhood if w in model1.vocab and w in model2.vocab]\n",
    "\t\n",
    "\t# For both models, get a similarity vector between the focus word and all of the words in the meta neighborhood\n",
    "\tvector1 = [model1.similarity(word,w) for w in meta_neighborhood]\n",
    "\tvector2 = [model2.similarity(word,w) for w in meta_neighborhood]\n",
    "\t\n",
    "\t# Compute the cosine distance *between* those similarity vectors\n",
    "\tdist=cosine(vector1,vector2)\n",
    "\t\n",
    "\t# Return this cosine distance -- a measure of the relative semantic shift for this word between these two models\n",
    "\treturn dist"
   ]
  },
  {
   "cell_type": "code",
   "execution_count": 60,
   "metadata": {},
   "outputs": [
    {
     "name": "stderr",
     "output_type": "stream",
     "text": [
      "C:\\ProgramData\\Anaconda3\\lib\\site-packages\\ipykernel_launcher.py:11: DeprecationWarning: Call to deprecated `wv` (Attribute will be removed in 4.0.0, use self instead).\n",
      "  # This is added back by InteractiveShellApp.init_path()\n"
     ]
    }
   ],
   "source": [
    "os.chdir(\"C://Users//Ruben//Documents//GitHub//TheForeign//SCC//output-data\")\n",
    "model_whole = KeyedVectors.load_word2vec_format('model-whole.bin', binary = True)\n",
    "\n",
    "os.chdir(\"D://Scriptie//Data//models//5yp_s150\")\n",
    "list_mod = glob.glob('*.bin')\n",
    "\n",
    "df_vocab = pd.DataFrame()\n",
    "    \n",
    "for model in sorted(list_mod):\n",
    "    m = KeyedVectors.load_word2vec_format(model, binary = True)\n",
    "    m = pd.DataFrame(list(m.wv.vocab.keys()))\n",
    "    m['year'] = model[0:4]\n",
    "    df_vocab = df_vocab.append(m)\n",
    "    \n",
    "df_vocab.columns = ['word', 'p']"
   ]
  },
  {
   "cell_type": "code",
   "execution_count": 40,
   "metadata": {},
   "outputs": [],
   "source": [
    "def MSW(word,n):\n",
    "    t = dict(model_whole.most_similar(word, topn=n))\n",
    "    return list(t.keys())\n",
    "\n",
    "def GetList(term):\n",
    "    mtf = list()\n",
    "\n",
    "    for word in MSW(term, 5):\n",
    "    \n",
    "        word_list = list()\n",
    "    \n",
    "        lw = MSW(word, 5)\n",
    "    \n",
    "        for w in lw:\n",
    "            tmp = MSW(w, 5)\n",
    "            for i in tmp:\n",
    "                word_list.append(i)\n",
    "    \n",
    "        for x in word_list:\n",
    "            mtf.append(x)\n",
    "            \n",
    "    cnt = Counter(mtf)\n",
    "    cnt = [k for k, v in cnt.items() if v > 3]\n",
    "    \n",
    "    return sorted(list(set(cnt)))\n",
    "\n",
    "def GetListMultipleKW(list_of_terms):\n",
    "    \n",
    "    master_list = list()\n",
    "    \n",
    "    for term in list_of_terms:\n",
    "        tmp = GetList(term)\n",
    "        for t in tmp:\n",
    "            master_list.append(t)\n",
    "    \n",
    "    \n",
    "    cnt = Counter(master_list)\n",
    "    cnt = [k for k, v in cnt.items() if v > 1]\n",
    "    \n",
    "    return(list(set(cnt)))\n"
   ]
  },
  {
   "cell_type": "code",
   "execution_count": 61,
   "metadata": {},
   "outputs": [
    {
     "name": "stderr",
     "output_type": "stream",
     "text": [
      "C:\\ProgramData\\Anaconda3\\lib\\site-packages\\gensim\\matutils.py:737: FutureWarning: Conversion of the second argument of issubdtype from `int` to `np.signedinteger` is deprecated. In future, it will be treated as `np.int32 == np.dtype(int).type`.\n",
      "  if np.issubdtype(vec.dtype, np.int):\n"
     ]
    },
    {
     "name": "stdout",
     "output_type": "stream",
     "text": [
      "first list: 9 | sec. list: 14\n"
     ]
    }
   ],
   "source": [
    "list_a = ['vrede', 'rust', 'orde', 'behoud', 'veiligheid', 'vreedzaam', 'herstel', 'vrijheid', 'kalmte']\n",
    "list_b = GetListMultipleKW(['onzekerheid', 'onrust', 'omwentelingen', 'crisis', 'verwikkelingen', 'beroeringen', 'revolutie'])\n",
    "\n",
    "\n",
    "#list_b = [l for l in list_b if l not in list_a]\n",
    "\n",
    "list_1 = list()\n",
    "list_2 = list()\n",
    "\n",
    "for word in list_a:\n",
    "    if len(df_vocab[df_vocab.word == word]) == len(list_mod):\n",
    "        list_1.append(word)\n",
    "\n",
    "for word in list_b:\n",
    "    if len(df_vocab[df_vocab.word == word]) == len(list_mod):\n",
    "        list_2.append(word)\n",
    "        \n",
    "print('first list: ' + str(len(list_1)) + ' | sec. list: ' + str(len(list_2)))"
   ]
  },
  {
   "cell_type": "markdown",
   "metadata": {},
   "source": [
    "*** Function to Create Vector Scale and Plot Input Term on Scale ***"
   ]
  },
  {
   "cell_type": "code",
   "execution_count": 48,
   "metadata": {},
   "outputs": [],
   "source": [
    "def PlotScale(year, ypm, list_1, list_2, search_term):\n",
    "    mfn = [m for m in list_mod if int(m[0:4]) == year]\n",
    "    model = KeyedVectors.load_word2vec_format(mfn[0], binary = True)\n",
    "    mod_prev = KeyedVectors.load_word2vec_format([m for m in list_mod if int(m[0:4]) == ypm][0], binary = True)\n",
    "    vl = np.average(model[list_1], axis=0) - np.average(model[list_2], axis=0)\n",
    "    model.add('vector_cn',vl,replace=False)\n",
    "    \n",
    "    test_plot = pd.DataFrame()\n",
    "\n",
    "    comb_list = list_1 + list_2 + [search_term]\n",
    "    comb_list = [w for w in comb_list if w in list(model.wv.vocab.keys())]\n",
    "    \n",
    "    for i in list(set(comb_list)):\n",
    "        #ss = measure_semantic_shift_by_neighborhood(model,mod_prev,i, k=10,verbose=False) ### can be set off\n",
    "        ss = model.wv.vocab[i].count\n",
    "        s = model.similarity('vector_cn', i)\n",
    "        word = i\n",
    "        tmp = pd.DataFrame([s, ss,i]).T\n",
    "        tmp.columns = ['ss', 's', 'word']\n",
    "        test_plot = test_plot.append(tmp)\n",
    "    \n",
    "    fig, ax = plt.subplots(figsize=(20,10))\n",
    "    ax.scatter(list(test_plot.ss), list(test_plot.s))\n",
    "    ax.axvline(x=0, color='r')\n",
    "\n",
    "    for i, txt in enumerate(list(test_plot.word)):\n",
    "            if txt == search_term:\n",
    "                ax.annotate('   ' + txt, (list(test_plot.ss)[i], list(test_plot.s)[i]),color='green', fontsize=20)\n",
    "                print(search_term + ' | ' + str(list(test_plot.ss)[i]))\n",
    "            else:\n",
    "                ax.annotate('   ' + txt, (list(test_plot.ss)[i], list(test_plot.s)[i]))"
   ]
  },
  {
   "cell_type": "code",
   "execution_count": 49,
   "metadata": {
    "collapsed": true
   },
   "outputs": [
    {
     "ename": "IndexError",
     "evalue": "list index out of range",
     "output_type": "error",
     "traceback": [
      "\u001b[1;31m---------------------------------------------------------------------------\u001b[0m",
      "\u001b[1;31mIndexError\u001b[0m                                Traceback (most recent call last)",
      "\u001b[1;32m<ipython-input-49-73269f01353b>\u001b[0m in \u001b[0;36m<module>\u001b[1;34m()\u001b[0m\n\u001b[0;32m      1\u001b[0m \u001b[1;32mfor\u001b[0m \u001b[0mi\u001b[0m \u001b[1;32min\u001b[0m \u001b[0mlist\u001b[0m\u001b[1;33m(\u001b[0m\u001b[0mrange\u001b[0m\u001b[1;33m(\u001b[0m\u001b[1;36m1830\u001b[0m\u001b[1;33m,\u001b[0m\u001b[1;36m1911\u001b[0m\u001b[1;33m,\u001b[0m\u001b[1;36m5\u001b[0m\u001b[1;33m)\u001b[0m\u001b[1;33m)\u001b[0m\u001b[1;33m:\u001b[0m\u001b[1;33m\u001b[0m\u001b[0m\n\u001b[1;32m----> 2\u001b[1;33m     \u001b[0mPlotScale\u001b[0m\u001b[1;33m(\u001b[0m\u001b[0mi\u001b[0m\u001b[1;33m,\u001b[0m \u001b[1;36m1835\u001b[0m\u001b[1;33m,\u001b[0m \u001b[0mlist_1\u001b[0m\u001b[1;33m,\u001b[0m \u001b[0mlist_2\u001b[0m\u001b[1;33m,\u001b[0m \u001b[1;34m'buitenlandsche'\u001b[0m\u001b[1;33m)\u001b[0m\u001b[1;33m\u001b[0m\u001b[0m\n\u001b[0m",
      "\u001b[1;32m<ipython-input-48-2ac12b6a94a5>\u001b[0m in \u001b[0;36mPlotScale\u001b[1;34m(year, ypm, list_1, list_2, search_term)\u001b[0m\n\u001b[0;32m      1\u001b[0m \u001b[1;32mdef\u001b[0m \u001b[0mPlotScale\u001b[0m\u001b[1;33m(\u001b[0m\u001b[0myear\u001b[0m\u001b[1;33m,\u001b[0m \u001b[0mypm\u001b[0m\u001b[1;33m,\u001b[0m \u001b[0mlist_1\u001b[0m\u001b[1;33m,\u001b[0m \u001b[0mlist_2\u001b[0m\u001b[1;33m,\u001b[0m \u001b[0msearch_term\u001b[0m\u001b[1;33m)\u001b[0m\u001b[1;33m:\u001b[0m\u001b[1;33m\u001b[0m\u001b[0m\n\u001b[0;32m      2\u001b[0m     \u001b[0mmfn\u001b[0m \u001b[1;33m=\u001b[0m \u001b[1;33m[\u001b[0m\u001b[0mm\u001b[0m \u001b[1;32mfor\u001b[0m \u001b[0mm\u001b[0m \u001b[1;32min\u001b[0m \u001b[0mlist_mod\u001b[0m \u001b[1;32mif\u001b[0m \u001b[0mint\u001b[0m\u001b[1;33m(\u001b[0m\u001b[0mm\u001b[0m\u001b[1;33m[\u001b[0m\u001b[1;36m0\u001b[0m\u001b[1;33m:\u001b[0m\u001b[1;36m4\u001b[0m\u001b[1;33m]\u001b[0m\u001b[1;33m)\u001b[0m \u001b[1;33m==\u001b[0m \u001b[0myear\u001b[0m\u001b[1;33m]\u001b[0m\u001b[1;33m\u001b[0m\u001b[0m\n\u001b[1;32m----> 3\u001b[1;33m     \u001b[0mmodel\u001b[0m \u001b[1;33m=\u001b[0m \u001b[0mKeyedVectors\u001b[0m\u001b[1;33m.\u001b[0m\u001b[0mload_word2vec_format\u001b[0m\u001b[1;33m(\u001b[0m\u001b[0mmfn\u001b[0m\u001b[1;33m[\u001b[0m\u001b[1;36m0\u001b[0m\u001b[1;33m]\u001b[0m\u001b[1;33m,\u001b[0m \u001b[0mbinary\u001b[0m \u001b[1;33m=\u001b[0m \u001b[1;32mTrue\u001b[0m\u001b[1;33m)\u001b[0m\u001b[1;33m\u001b[0m\u001b[0m\n\u001b[0m\u001b[0;32m      4\u001b[0m     \u001b[0mmod_prev\u001b[0m \u001b[1;33m=\u001b[0m \u001b[0mKeyedVectors\u001b[0m\u001b[1;33m.\u001b[0m\u001b[0mload_word2vec_format\u001b[0m\u001b[1;33m(\u001b[0m\u001b[1;33m[\u001b[0m\u001b[0mm\u001b[0m \u001b[1;32mfor\u001b[0m \u001b[0mm\u001b[0m \u001b[1;32min\u001b[0m \u001b[0mlist_mod\u001b[0m \u001b[1;32mif\u001b[0m \u001b[0mint\u001b[0m\u001b[1;33m(\u001b[0m\u001b[0mm\u001b[0m\u001b[1;33m[\u001b[0m\u001b[1;36m0\u001b[0m\u001b[1;33m:\u001b[0m\u001b[1;36m4\u001b[0m\u001b[1;33m]\u001b[0m\u001b[1;33m)\u001b[0m \u001b[1;33m==\u001b[0m \u001b[0mypm\u001b[0m\u001b[1;33m]\u001b[0m\u001b[1;33m[\u001b[0m\u001b[1;36m0\u001b[0m\u001b[1;33m]\u001b[0m\u001b[1;33m,\u001b[0m \u001b[0mbinary\u001b[0m \u001b[1;33m=\u001b[0m \u001b[1;32mTrue\u001b[0m\u001b[1;33m)\u001b[0m\u001b[1;33m\u001b[0m\u001b[0m\n\u001b[0;32m      5\u001b[0m     \u001b[0mvl\u001b[0m \u001b[1;33m=\u001b[0m \u001b[0mnp\u001b[0m\u001b[1;33m.\u001b[0m\u001b[0maverage\u001b[0m\u001b[1;33m(\u001b[0m\u001b[0mmodel\u001b[0m\u001b[1;33m[\u001b[0m\u001b[0mlist_1\u001b[0m\u001b[1;33m]\u001b[0m\u001b[1;33m,\u001b[0m \u001b[0maxis\u001b[0m\u001b[1;33m=\u001b[0m\u001b[1;36m0\u001b[0m\u001b[1;33m)\u001b[0m \u001b[1;33m-\u001b[0m \u001b[0mnp\u001b[0m\u001b[1;33m.\u001b[0m\u001b[0maverage\u001b[0m\u001b[1;33m(\u001b[0m\u001b[0mmodel\u001b[0m\u001b[1;33m[\u001b[0m\u001b[0mlist_2\u001b[0m\u001b[1;33m]\u001b[0m\u001b[1;33m,\u001b[0m \u001b[0maxis\u001b[0m\u001b[1;33m=\u001b[0m\u001b[1;36m0\u001b[0m\u001b[1;33m)\u001b[0m\u001b[1;33m\u001b[0m\u001b[0m\n",
      "\u001b[1;31mIndexError\u001b[0m: list index out of range"
     ]
    }
   ],
   "source": [
    "for i in list(range(1830,1911,5)):\n",
    "    PlotScale(i, 1835, list_1, list_2, 'buitenlandsche')"
   ]
  },
  {
   "cell_type": "markdown",
   "metadata": {},
   "source": [
    "** Diachronic Measuring **\n",
    "\n",
    "1. Get list of words that appears in every period\n",
    "2. Loop over periods and create mean vector"
   ]
  },
  {
   "cell_type": "code",
   "execution_count": 62,
   "metadata": {},
   "outputs": [
    {
     "name": "stderr",
     "output_type": "stream",
     "text": [
      "C:\\ProgramData\\Anaconda3\\lib\\site-packages\\gensim\\matutils.py:737: FutureWarning: Conversion of the second argument of issubdtype from `int` to `np.signedinteger` is deprecated. In future, it will be treated as `np.int32 == np.dtype(int).type`.\n",
      "  if np.issubdtype(vec.dtype, np.int):\n",
      "C:\\ProgramData\\Anaconda3\\lib\\site-packages\\ipykernel_launcher.py:15: DeprecationWarning: Call to deprecated `wv` (Attribute will be removed in 4.0.0, use self instead).\n",
      "  from ipykernel import kernelapp as app\n"
     ]
    }
   ],
   "source": [
    "os.chdir(\"D://Scriptie//Data//models//5yp_s150\")\n",
    "list_mod = glob.glob('*.bin')\n",
    "\n",
    "dfr = pd.DataFrame()\n",
    "\n",
    "for year in list(range(1835,1906,10)):\n",
    "    mfn = [m for m in list_mod if int(m[0:4]) == year]\n",
    "    model = KeyedVectors.load_word2vec_format(mfn[0], binary = True)\n",
    "\n",
    "\n",
    "    vl = np.average(model[list_1], axis=0) - np.average(model[list_2], axis=0)\n",
    "    model.add('vector_cn',vl,replace=False)\n",
    "    \n",
    "    s = model.similarity('vector_cn', 'buitenland')\n",
    "    f = model.wv.vocab['buitenland'].count\n",
    "    tmp = pd.DataFrame([year,s,f]).T\n",
    "    tmp.columns = ['y', 's', 'f']\n",
    "    dfr = dfr.append(tmp)"
   ]
  },
  {
   "cell_type": "code",
   "execution_count": 63,
   "metadata": {},
   "outputs": [
    {
     "data": {
      "image/png": "[encoded data removed]",
      "text/plain": [
       "<Figure size 1440x576 with 1 Axes>"
      ]
     },
     "metadata": {},
     "output_type": "display_data"
    }
   ],
   "source": [
    "fig, ax = plt.subplots(figsize=(20,8))\n",
    "ax.scatter(list(dfr.s), list(dfr.f))\n",
    "ax.axvline(x=0, color='r')\n",
    "\n",
    "for i, txt in enumerate(list(dfr.y)):\n",
    "    ax.annotate(str(int(txt)), (list(dfr.s)[i], list(dfr.f)[i]),color='black', fontsize=20)\n",
    "   "
   ]
  },
  {
   "cell_type": "code",
   "execution_count": 52,
   "metadata": {},
   "outputs": [
    {
     "name": "stderr",
     "output_type": "stream",
     "text": [
      "C:\\ProgramData\\Anaconda3\\lib\\site-packages\\gensim\\matutils.py:737: FutureWarning: Conversion of the second argument of issubdtype from `int` to `np.signedinteger` is deprecated. In future, it will be treated as `np.int32 == np.dtype(int).type`.\n",
      "  if np.issubdtype(vec.dtype, np.int):\n"
     ]
    },
    {
     "data": {
      "text/plain": [
       "Text(0.5,0.98,'Diachronic Cosine Similarity of Buitenlanders on Two Scales')"
      ]
     },
     "execution_count": 52,
     "metadata": {},
     "output_type": "execute_result"
    },
    {
     "data": {
      "image/png": "[encoded data removed]",
      "text/plain": [
       "<Figure size 1440x576 with 1 Axes>"
      ]
     },
     "metadata": {},
     "output_type": "display_data"
    }
   ],
   "source": [
    "dfr = pd.DataFrame()\n",
    "\n",
    "for year in list(range(1815,1906,10)):\n",
    "    mfn = [m for m in list_mod if int(m[0:4]) == year]\n",
    "    model = KeyedVectors.load_word2vec_format(mfn[0], binary = True)\n",
    "\n",
    "\n",
    "    vl = np.average(model[['vrienden']], axis=0) - np.average(model[['vijanden']], axis=0)\n",
    "    model.add('vvv',vl,replace=False)\n",
    "    \n",
    "    vl2 = np.average(model[['kooplieden']], axis=0) - np.average(model[['revolutionairen']], axis=0)\n",
    "    model.add('vh',vl2,replace=False)\n",
    "    \n",
    "    s = model.similarity('buitenlanders', 'vvv')\n",
    "    f = model.similarity('buitenlanders', 'vh')\n",
    "    tmp = pd.DataFrame([year,s,f]).T\n",
    "    tmp.columns = ['y', 's', 'f']\n",
    "    dfr = dfr.append(tmp)\n",
    "fig, ax = plt.subplots(figsize=(20,8))\n",
    "ax.scatter(list(dfr.s), list(dfr.f))\n",
    "ax.axvline(x=0, color='r')\n",
    "ax.axhline(y=0, color='r')\n",
    "\n",
    "dfr.y = dfr.y.astype(int)\n",
    "for i, txt in enumerate(list(dfr.y)):\n",
    "    if txt == 'buitenlanders':\n",
    "        ax.annotate(txt, (list(dfr.s)[i], list(dfr.f)[i]),color='green', fontsize=20)\n",
    "    else:\n",
    "        ax.annotate(txt, (list(dfr.s)[i], list(dfr.f)[i]), fontsize=15)\n",
    "\n",
    "plt.xlabel('Enemies - Friends', fontsize=18)\n",
    "plt.ylabel('Agitators - Traders', fontsize=16)\n",
    "ax.set_ylim([-0.5,0.1])\n",
    "ax.set_xlim([-0.23,0])\n",
    "fig.suptitle('Diachronic Cosine Similarity of Buitenlanders on Two Scales', fontsize=20)\n"
   ]
  },
  {
   "cell_type": "code",
   "execution_count": 46,
   "metadata": {},
   "outputs": [
    {
     "name": "stderr",
     "output_type": "stream",
     "text": [
      "C:\\ProgramData\\Anaconda3\\lib\\site-packages\\gensim\\matutils.py:737: FutureWarning: Conversion of the second argument of issubdtype from `int` to `np.signedinteger` is deprecated. In future, it will be treated as `np.int32 == np.dtype(int).type`.\n",
      "  if np.issubdtype(vec.dtype, np.int):\n"
     ]
    },
    {
     "data": {
      "text/plain": [
       "['moeilijkheden',\n",
       " 'moeielijkheden',\n",
       " 'verwikkelingen',\n",
       " 'zwarigheden',\n",
       " 'omwentelingen',\n",
       " 'crisis',\n",
       " 'moeijelijkheden',\n",
       " 'opgewondenheid',\n",
       " 'revolutie',\n",
       " 'verdeeldheden',\n",
       " 'verwikkeling',\n",
       " 'beroeringen',\n",
       " 'beroering',\n",
       " 'ongelegenheden',\n",
       " 'omwenteling',\n",
       " 'dwingelandij',\n",
       " 'tweespalt',\n",
       " 'spanning',\n",
       " 'gebeurtenissen']"
      ]
     },
     "execution_count": 46,
     "metadata": {},
     "output_type": "execute_result"
    }
   ],
   "source": [
    "GetListMultipleKW(['onzekerheid', 'onrust', 'omwentelingen', 'crisis', 'verwikkelingen', 'beroeringen', 'revolutie'])"
   ]
  },
  {
   "cell_type": "code",
   "execution_count": null,
   "metadata": {},
   "outputs": [],
   "source": []
  }
 ],
 "metadata": {
  "kernelspec": {
   "display_name": "Python 3",
   "language": "python",
   "name": "python3"
  },
  "language_info": {
   "codemirror_mode": {
    "name": "ipython",
    "version": 3
   },
   "file_extension": ".py",
   "mimetype": "text/x-python",
   "name": "python",
   "nbconvert_exporter": "python",
   "pygments_lexer": "ipython3",
   "version": "3.6.5"
  }
 },
 "nbformat": 4,
 "nbformat_minor": 2
}
