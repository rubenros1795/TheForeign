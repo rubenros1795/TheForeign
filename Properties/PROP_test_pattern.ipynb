{
 "cells": [
  {
   "cell_type": "code",
   "execution_count": 21,
   "metadata": {},
   "outputs": [],
   "source": [
    "from pattern.nl import sentiment\n",
    "from pattern.nl import parsetree"
   ]
  },
  {
   "cell_type": "code",
   "execution_count": 9,
   "metadata": {},
   "outputs": [
    {
     "data": {
      "text/plain": [
       "(0.0, 0.0)"
      ]
     },
     "execution_count": 9,
     "metadata": {},
     "output_type": "execute_result"
    }
   ],
   "source": [
    "sentiment('Buitenlandsche mogendheden hebben het gemund op ons vaderland terwijl in het buitenland de oorlog woedt')"
   ]
  },
  {
   "cell_type": "code",
   "execution_count": 23,
   "metadata": {},
   "outputs": [],
   "source": [
    "from pattern.nl import parse, split\n",
    "s = parsetree('Buitenlandsche mogendheden hebben het gemund op ons vaderland terwijl in het buitenland de oorlog woedt', relations=True, lemmata=True)\n"
   ]
  },
  {
   "cell_type": "code",
   "execution_count": 13,
   "metadata": {},
   "outputs": [],
   "source": [
    "s = parse('Buitenlandsche mogendheden hebben het gemund op ons vaderland terwijl in het buitenland de oorlog woedt')\n"
   ]
  },
  {
   "cell_type": "code",
   "execution_count": 24,
   "metadata": {},
   "outputs": [
    {
     "name": "stdout",
     "output_type": "stream",
     "text": [
      "NP [('Buitenlandsche', 'NNP'), ('mogendheden', 'NNS')]\n",
      "VP [('hebben', 'MD')]\n",
      "NP [('het', 'DT'), ('gemund', 'NN')]\n",
      "PP [('op', 'IN')]\n",
      "NP [('ons', 'PRP$'), ('vaderland', 'NN'), ('terwijl', 'PRP')]\n",
      "PP [('in', 'IN')]\n",
      "NP [('het', 'DT'), ('buitenland', 'NN')]\n",
      "NP [('de', 'DT'), ('oorlog', 'NN')]\n",
      "VP [('woedt', 'VBZ')]\n"
     ]
    }
   ],
   "source": [
    "for sentence in s:\n",
    "    for chunk in sentence.chunks:\n",
    "         print(chunk.type, [(w.string, w.type) for w in chunk.words])\n",
    " "
   ]
  },
  {
   "cell_type": "code",
   "execution_count": 19,
   "metadata": {},
   "outputs": [
    {
     "ename": "AttributeError",
     "evalue": "'Text' object has no attribute 'chunks'",
     "output_type": "error",
     "traceback": [
      "\u001b[1;31m---------------------------------------------------------------------------\u001b[0m",
      "\u001b[1;31mAttributeError\u001b[0m                            Traceback (most recent call last)",
      "\u001b[1;32m<ipython-input-19-40f536317b4c>\u001b[0m in \u001b[0;36m<module>\u001b[1;34m()\u001b[0m\n\u001b[1;32m----> 1\u001b[1;33m \u001b[0msplit\u001b[0m\u001b[1;33m(\u001b[0m\u001b[0ms\u001b[0m\u001b[1;33m)\u001b[0m\u001b[1;33m.\u001b[0m\u001b[0mchunks\u001b[0m\u001b[1;33m\u001b[0m\u001b[0m\n\u001b[0m",
      "\u001b[1;31mAttributeError\u001b[0m: 'Text' object has no attribute 'chunks'"
     ]
    }
   ],
   "source": [
    "split(s).chunks"
   ]
  },
  {
   "cell_type": "code",
   "execution_count": null,
   "metadata": {},
   "outputs": [],
   "source": []
  }
 ],
 "metadata": {
  "kernelspec": {
   "display_name": "Python 3",
   "language": "python",
   "name": "python3"
  },
  "language_info": {
   "codemirror_mode": {
    "name": "ipython",
    "version": 3
   },
   "file_extension": ".py",
   "mimetype": "text/x-python",
   "name": "python",
   "nbconvert_exporter": "python",
   "pygments_lexer": "ipython3",
   "version": "3.6.5"
  }
 },
 "nbformat": 4,
 "nbformat_minor": 2
}
