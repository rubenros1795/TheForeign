{
 "cells": [
  {
   "cell_type": "code",
   "execution_count": 1,
   "metadata": {},
   "outputs": [],
   "source": [
    "import csv\n",
    "import os\n",
    "import glob\n",
    "import pandas as pd\n",
    "import nltk\n",
    "import string\n",
    "import re\n",
    "from nltk import ngrams\n",
    "import multiprocessing\n",
    "import time"
   ]
  },
  {
   "cell_type": "code",
   "execution_count": 2,
   "metadata": {},
   "outputs": [],
   "source": [
    "def clean_and_split_str(string):\n",
    "    strip_special_chars = re.compile(\"[^A-Za-z0-9#]+\")\n",
    "    string = re.sub(strip_special_chars, \" \", string)\n",
    "    string = string.lower()\n",
    "    return string"
   ]
  },
  {
   "cell_type": "code",
   "execution_count": 3,
   "metadata": {},
   "outputs": [],
   "source": [
    "def find_ngrams(sentence, n_list):\n",
    "    \"\"\"Magic n-gram function.\"\"\"\n",
    "    inp, grams = sentence.split(), []\n",
    "    for n in n_list:\n",
    "      grams += [' '.join(x) for x in zip(*[inp[i:] for i in range(n)])]\n",
    "    return grams"
   ]
  },
  {
   "cell_type": "code",
   "execution_count": 7,
   "metadata": {},
   "outputs": [
    {
     "data": {
      "text/plain": [
       "['leyc-1815-1868.csv']"
      ]
     },
     "execution_count": 7,
     "metadata": {},
     "output_type": "execute_result"
    }
   ],
   "source": [
    "os.chdir(\"C://Users//Ruben//Documents//Scriptie//Data//tng-environment//leyc\")\n",
    "list_csv = glob.glob(\"*.csv\")\n",
    "list_csv"
   ]
  },
  {
   "cell_type": "code",
   "execution_count": null,
   "metadata": {},
   "outputs": [],
   "source": [
    "# Function for extracting ngrams and generating tokenized files\n",
    "\n",
    "def PreProcess(filename):\n",
    "    # Iterate over CSVs\n",
    "    df = pd.read_csv(filename, sep = \"\\t\")\n",
    "    print(filename + \" imported\")\n",
    "    df.date = df.date.str.slice(0, 4)\n",
    "    \n",
    "\n",
    "    # Iterate over years\n",
    "    for year in sorted(list(set(df.date))):\n",
    "        df_subset_year = df[df.date == year]\n",
    "        df_subset_year = df_subset_year.reset_index(drop=True)\n",
    "        print(str(year) + \" = \" + str(len(df_subset_year)) + \" articles\")\n",
    "        bigram_df = pd.DataFrame()\n",
    "        unigram_df = pd.DataFrame()\n",
    "        \n",
    "        list_tok_articles_year = list()\n",
    "        \n",
    "        # Iterate over Articles in Subsetted CSV\n",
    "        for i in range(0,(len(df_subset_year.ocr) - 1)):\n",
    "            \n",
    "            \n",
    "            article = df_subset_year.ocr[i]\n",
    "            \n",
    "            tokens = clean_and_split_str(article)\n",
    "            list_tok_articles_year.append(tokens)\n",
    "            \n",
    "            \n",
    "            # Get ngrams from tokenized_article\n",
    "            list_ngrams = find_ngrams(tokens, [1,2])\n",
    "            list_unigrams = [word for word in list_ngrams if len(word.split(\" \")) == 1]\n",
    "            list_bigrams = [word for word in list_ngrams if len(word.split(\" \")) == 2]\n",
    "\n",
    "        \n",
    "            df_unigrams_article = pd.DataFrame(list_unigrams)\n",
    "            df_unigrams_article['year'] = year\n",
    "            df_unigrams_article['count'] = 1\n",
    "            df_unigrams_article.columns = ['ngram', 'year', 'count']\n",
    "            unigram_df = unigram_df.append(df_unigrams_article)\n",
    "            \n",
    "            \n",
    "            df_bigrams_article = pd.DataFrame(list_bigrams)\n",
    "            df_bigrams_article['year'] = year\n",
    "            df_bigrams_article['count'] = 1\n",
    "            df_bigrams_article.columns = ['ngram', 'year', 'count']\n",
    "            bigram_df = bigram_df.append(df_bigrams_article)\n",
    "            print(str(i) + \"/\" + str(len(df_subset_year) + \": \" + df_subset_year.date[i] + \" \" + df_subset_year.id[i] + \" processed\")\n",
    "        \n",
    "        #Write list of senttok articles to one file\n",
    "        txt_name = filename[0:4] + \"_\" + \"lines\" + \"_\" + str(year) + \".txt\"\n",
    "                        \n",
    "        with open(txt_name, 'w') as f:\n",
    "            for item in list_tok_articles_year:\n",
    "                f.write(\"%s\\n\" % item)\n",
    "        \n",
    "        ## Group Ngram DFS\n",
    "        unigram_df = unigram_df.groupby(['ngram', 'year']).sum()\n",
    "        unigram_df = unigram_df.reset_index()\n",
    "        unigram_df = unigram_df[unigram_df['count'] > 1]\n",
    "        fn = filename[0:4] + \"_\" + \"unigram\" \"_\" + str(year) +\".csv\"\n",
    "        unigram_df.to_csv(fn, index = False)\n",
    "    \n",
    "        bigram_df = bigram_df.groupby(['ngram', 'year']).sum()\n",
    "        bigram_df = bigram_df.reset_index()\n",
    "        bigram_df = bigram_df[bigram_df['count'] > 1]\n",
    "        fn = filename[0:4] + \"_\" + \"bigram\" + \"_\" + str(year) +\".csv\"\n",
    "        bigram_df.to_csv(fn, index = False)"
   ]
  },
  {
   "cell_type": "code",
   "execution_count": null,
   "metadata": {},
   "outputs": [],
   "source": [
    "PreProcess(list_csv[0])"
   ]
  },
  {
   "cell_type": "code",
   "execution_count": null,
   "metadata": {},
   "outputs": [],
   "source": []
  }
 ],
 "metadata": {
  "kernelspec": {
   "display_name": "Python 3",
   "language": "python",
   "name": "python3"
  },
  "language_info": {
   "codemirror_mode": {
    "name": "ipython",
    "version": 3
   },
   "file_extension": ".py",
   "mimetype": "text/x-python",
   "name": "python",
   "nbconvert_exporter": "python",
   "pygments_lexer": "ipython3",
   "version": "3.6.5"
  }
 },
 "nbformat": 4,
 "nbformat_minor": 2
}
