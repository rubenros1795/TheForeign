{
 "cells": [
  {
   "cell_type": "code",
   "execution_count": 1,
   "metadata": {},
   "outputs": [],
   "source": [
    "# Script to Clean, Tokenize and Ngramize Downloaded articles\n",
    "# Steps:\n",
    "# 1. Import libraries, make list of csv's in directory\n",
    "# define clean function (turns raw OCR into cleaned lists of tokens) <- problems: OCR-errors (buitenlandsche)"
   ]
  },
  {
   "cell_type": "code",
   "execution_count": 2,
   "metadata": {},
   "outputs": [],
   "source": [
    "import csv\n",
    "import os\n",
    "import glob\n",
    "import pandas as pd\n",
    "import re\n",
    "import nltk\n",
    "import webbrowser\n",
    "from nltk.corpus import stopwords\n",
    "from collections import Counter \n",
    "from nltk import ngrams"
   ]
  },
  {
   "cell_type": "code",
   "execution_count": 3,
   "metadata": {},
   "outputs": [],
   "source": [
    "os.chdir('/home/ruben/Downloads')\n",
    "csv_filenames = glob.glob('*.csv')"
   ]
  },
  {
   "cell_type": "code",
   "execution_count": 4,
   "metadata": {},
   "outputs": [],
   "source": [
    "def Clean(string):\n",
    "    strip_special_chars = re.compile(\"[^A-Za-z]\")\n",
    "    string = re.sub(strip_special_chars,\" \", string)\n",
    "    string = string.split()\n",
    "    string = [w.lower() for w in string]\n",
    "    #string = [word for word in string if len(word) > 1]\n",
    "    #string = [word for word in string if word not in stopwords.words(\"dutch\")]\n",
    "    return(string)"
   ]
  },
  {
   "cell_type": "code",
   "execution_count": 5,
   "metadata": {},
   "outputs": [
    {
     "name": "stdout",
     "output_type": "stream",
     "text": [
      "Utrechtsche courant: 23627 articles imported\n",
      "Provinciale Overĳsselsche en Zwolsche courant : staats-, handels-, nieuws- en advertentieblad: 47201 articles imported\n",
      "Bredasche courant: 47353 articles imported\n"
     ]
    }
   ],
   "source": [
    "df = pd.DataFrame()\n",
    "list_newspaper_titles = list()\n",
    "\n",
    "for file in csv_filenames:\n",
    "    tmp = pd.read_csv(file, sep = \"\\t\")\n",
    "    print(tmp.paper_title[0] + \": \" + str(len(tmp)) + \" articles imported\")\n",
    "    list_newspaper_titles.append(tmp.paper_title[0])\n",
    "    df = df.append(tmp, ignore_index = True)\n"
   ]
  },
  {
   "cell_type": "code",
   "execution_count": 30,
   "metadata": {},
   "outputs": [],
   "source": [
    "def GetBigramDf(input_df, clean, n):\n",
    "    bigram_list = list()\n",
    "    \n",
    "    for i in range(0,len(input_df) -1):\n",
    "        bigrams = ngrams(Clean(input_df.ocr[i]), 2)\n",
    "        for g in bigrams:\n",
    "            g = ' '.join(word for word in g)\n",
    "            d = df.date[i]\n",
    "            d = d[0:4]\n",
    "            tmp = g + \" \" + d\n",
    "            bigram_list.append(tmp)\n",
    "    \n",
    "    op = pd.DataFrame(bigram_list)\n",
    "    op.columns = ['bigram']\n",
    "    op = pd.DataFrame(op.bigram.str.split(' ',2).tolist(), columns = ['w1','w2','year'])\n",
    "    op['count'] = 1\n",
    "    \n",
    "    if clean == 'yes': \n",
    "        op[~op.w1.isin(stopwords.words(\"dutch\"))]\n",
    "        op[~op.w2.isin(stopwords.words(\"dutch\"))]\n",
    "    #    #dfo = dfo[len(dfo['word1']) > 2]\n",
    "    #    #dfo = dfo[len(dfo['word2']) > 2]\n",
    "    \n",
    "    op['bigram'] = op[['w1', 'w2']].apply(lambda x: ' '.join(x), axis=1)\n",
    "    op = op.drop(['w1','w2'], axis = 1)\n",
    "    \n",
    "    return(op)"
   ]
  },
  {
   "cell_type": "code",
   "execution_count": 31,
   "metadata": {},
   "outputs": [],
   "source": [
    "df = pd.read_csv(csv_filenames[0], sep = \"\\t\")"
   ]
  },
  {
   "cell_type": "code",
   "execution_count": null,
   "metadata": {},
   "outputs": [],
   "source": [
    "op = GetBigramDf(df, \"yes\",2)\n",
    "op\n"
   ]
  },
  {
   "cell_type": "code",
   "execution_count": null,
   "metadata": {},
   "outputs": [],
   "source": []
  }
 ],
 "metadata": {
  "kernelspec": {
   "display_name": "Python 3",
   "language": "python",
   "name": "python3"
  },
  "language_info": {
   "codemirror_mode": {
    "name": "ipython",
    "version": 3
   },
   "file_extension": ".py",
   "mimetype": "text/x-python",
   "name": "python",
   "nbconvert_exporter": "python",
   "pygments_lexer": "ipython3",
   "version": "3.5.2"
  }
 },
 "nbformat": 4,
 "nbformat_minor": 2
}
