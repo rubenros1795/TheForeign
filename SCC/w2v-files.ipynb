{
 "cells": [
  {
   "cell_type": "code",
   "execution_count": 1,
   "metadata": {},
   "outputs": [
    {
     "name": "stderr",
     "output_type": "stream",
     "text": [
      "C:\\ProgramData\\Anaconda3\\lib\\site-packages\\gensim\\utils.py:1212: UserWarning: detected Windows; aliasing chunkize to chunkize_serial\n",
      "  warnings.warn(\"detected Windows; aliasing chunkize to chunkize_serial\")\n"
     ]
    }
   ],
   "source": [
    "from nltk.tokenize import sent_tokenize\n",
    "from gensim.models import Word2Vec\n",
    "import nltk\n",
    "from nltk.tokenize import sent_tokenize\n",
    "from nltk.corpus import stopwords\n",
    "import glob\n",
    "import os\n",
    "from os import path\n",
    "import string\n",
    "import numpy\n",
    "import re\n",
    "from __future__ import absolute_import, division, print_function\n",
    "import pandas as pd\n",
    "import multiprocessing\n",
    "import gensim\n",
    "import editdistance"
   ]
  },
  {
   "cell_type": "code",
   "execution_count": 2,
   "metadata": {},
   "outputs": [
    {
     "name": "stderr",
     "output_type": "stream",
     "text": [
      "C:\\ProgramData\\Anaconda3\\lib\\site-packages\\IPython\\core\\interactiveshell.py:2785: DtypeWarning: Columns (1,2) have mixed types. Specify dtype option on import or set low_memory=False.\n",
      "  interactivity=interactivity, compiler=compiler, result=result)\n"
     ]
    }
   ],
   "source": [
    "os.chdir(\"C://Users//Ruben//Documents//Scriptie//Data//unigrams//output//years\")\n",
    "df_unigrams = pd.read_csv('total-unigrams.csv')\n",
    "\n",
    "## Define ED function\n",
    "def GetCloseED(master_df, search_term, len_restr):\n",
    "    output_list = list()\n",
    "    \n",
    "    subset_df = master_df[master_df.ngram.str[0] == search_term[0]]\n",
    "    \n",
    "    for word in list(subset_df.ngram):\n",
    "        ed = editdistance.eval(search_term, word)\n",
    "        if ed < 3:\n",
    "            output_list.append(word)\n",
    "    if len_restr == \"yes\":\n",
    "        output_list = [e for e in output_list if len(e) == len(search_term)]\n",
    "    return output_list\n",
    "\n",
    "def CleanLine(list_of_words, error_list, correct_term):\n",
    "    \n",
    "    list_words = list_of_words\n",
    "\n",
    "    if any(x in list_words for x in error_list) == True:\n",
    "        \n",
    "        error_pos = [w for w in list_words if w in error_list]\n",
    "        \n",
    "        for error in error_pos:\n",
    "            list_words[list_words.index(error)] = correct_term\n",
    "    \n",
    "    return list_words\n",
    "\n"
   ]
  },
  {
   "cell_type": "code",
   "execution_count": 5,
   "metadata": {},
   "outputs": [
    {
     "data": {
      "text/plain": [
       "'1906_lines.txt'"
      ]
     },
     "execution_count": 5,
     "metadata": {},
     "output_type": "execute_result"
    }
   ],
   "source": [
    "os.chdir(\"C:/Users/Ruben/Documents/Scriptie/Data/lines\")\n",
    "files = glob.glob('*.txt')\n",
    "files[12]"
   ]
  },
  {
   "cell_type": "code",
   "execution_count": 5,
   "metadata": {},
   "outputs": [],
   "source": [
    "alt_buit = GetCloseED(df_unigrams, 'buitenlandsche', 'yes')\n",
    "alt_int = GetCloseED(df_unigrams, 'internationale', 'yes')\n",
    "alt_binn = GetCloseED(df_unigrams, 'binnenlandsche', 'yes')\n",
    "alt_inl = GetCloseED(df_unigrams, 'inlandsche', 'yes')\n",
    "alt_vaderl = GetCloseED(df_unigrams, 'vaderlandsche', 'yes')\n",
    "alt_hol = GetCloseED(df_unigrams, 'hollandsche', 'yes')\n",
    "alt_ned = GetCloseED(df_unigrams, 'nederlandsche', 'yes')"
   ]
  },
  {
   "cell_type": "code",
   "execution_count": 45,
   "metadata": {},
   "outputs": [],
   "source": [
    "with open(files[1], encoding = 'utf-8') as f:\n",
    "    content = f.readlines()\n",
    "        \n",
    "    for line in content:\n",
    "        line_s = line.split()\n",
    "    \n",
    "        output = line_s\n",
    "        sentences.append(output)"
   ]
  },
  {
   "cell_type": "code",
   "execution_count": 41,
   "metadata": {},
   "outputs": [
    {
     "ename": "FileNotFoundError",
     "evalue": "[Errno 2] No such file or directory: '1'",
     "output_type": "error",
     "traceback": [
      "\u001b[1;31m---------------------------------------------------------------------------\u001b[0m",
      "\u001b[1;31mFileNotFoundError\u001b[0m                         Traceback (most recent call last)",
      "\u001b[1;32m<ipython-input-41-1f9a7f39e251>\u001b[0m in \u001b[0;36m<module>\u001b[1;34m()\u001b[0m\n\u001b[0;32m      2\u001b[0m \u001b[1;33m\u001b[0m\u001b[0m\n\u001b[0;32m      3\u001b[0m \u001b[1;32mfor\u001b[0m \u001b[0mfile\u001b[0m \u001b[1;32min\u001b[0m \u001b[0mfiles\u001b[0m\u001b[1;33m:\u001b[0m\u001b[1;33m\u001b[0m\u001b[0m\n\u001b[1;32m----> 4\u001b[1;33m     \u001b[1;32mwith\u001b[0m \u001b[0mopen\u001b[0m\u001b[1;33m(\u001b[0m\u001b[0mfile\u001b[0m\u001b[1;33m,\u001b[0m \u001b[0mencoding\u001b[0m \u001b[1;33m=\u001b[0m \u001b[1;34m'utf-8'\u001b[0m\u001b[1;33m)\u001b[0m \u001b[1;32mas\u001b[0m \u001b[0mf\u001b[0m\u001b[1;33m:\u001b[0m\u001b[1;33m\u001b[0m\u001b[0m\n\u001b[0m\u001b[0;32m      5\u001b[0m         \u001b[0mcontent\u001b[0m \u001b[1;33m=\u001b[0m \u001b[0mf\u001b[0m\u001b[1;33m.\u001b[0m\u001b[0mreadlines\u001b[0m\u001b[1;33m(\u001b[0m\u001b[1;33m)\u001b[0m\u001b[1;33m\u001b[0m\u001b[0m\n\u001b[0;32m      6\u001b[0m \u001b[1;33m\u001b[0m\u001b[0m\n",
      "\u001b[1;31mFileNotFoundError\u001b[0m: [Errno 2] No such file or directory: '1'"
     ]
    }
   ],
   "source": [
    "sentences = list()\n",
    "\n",
    "for file in files:\n",
    "    with open(file, encoding = 'utf-8') as f:\n",
    "        content = f.readlines()\n",
    "        \n",
    "        for line in content:\n",
    "            line_s = line.split()\n",
    "    \n",
    "            output = line_s\n",
    "            sentences.append(output)"
   ]
  },
  {
   "cell_type": "code",
   "execution_count": 6,
   "metadata": {},
   "outputs": [],
   "source": [
    "sentences = list()\n",
    "\n",
    "with open(files[12], encoding = 'utf-8') as f:\n",
    "    content = f.readlines()\n",
    "        \n",
    "    for line in content:\n",
    "        line_s = line.split()\n",
    "    \n",
    "        output = line_s\n",
    "        sentences.append(output)"
   ]
  },
  {
   "cell_type": "code",
   "execution_count": 7,
   "metadata": {},
   "outputs": [
    {
     "data": {
      "text/plain": [
       "(708034443, 936932350)"
      ]
     },
     "execution_count": 7,
     "metadata": {},
     "output_type": "execute_result"
    }
   ],
   "source": [
    "model = Word2Vec(sentences, size=150, window=12, iter = 12, min_count=30, workers=6)\n",
    "model.train(sentences,total_examples=len(sentences),epochs=10)"
   ]
  },
  {
   "cell_type": "code",
   "execution_count": 34,
   "metadata": {},
   "outputs": [
    {
     "name": "stdout",
     "output_type": "stream",
     "text": [
      "frankrgk\n",
      "frankryk\n",
      "frankiijk\n",
      "frankrqk\n",
      "frankrjjk\n",
      "fiankrijk\n",
      "erankrijk\n",
      "frankrijks\n",
      "fraukrijk\n",
      "frankrijk»\n",
      "frankrijken\n",
      "frankrpk\n",
      "irankrijk\n",
      "frankrük\n",
      "frankriik\n",
      "frankrjk\n",
      "fransche\n",
      "franschen\n",
      "fransehe\n"
     ]
    },
    {
     "name": "stderr",
     "output_type": "stream",
     "text": [
      "C:\\ProgramData\\Anaconda3\\lib\\site-packages\\ipykernel_launcher.py:1: DeprecationWarning: Call to deprecated `most_similar` (Method will be removed in 4.0.0, use self.wv.most_similar() instead).\n",
      "  \"\"\"Entry point for launching an IPython kernel.\n",
      "C:\\ProgramData\\Anaconda3\\lib\\site-packages\\gensim\\matutils.py:737: FutureWarning: Conversion of the second argument of issubdtype from `int` to `np.signedinteger` is deprecated. In future, it will be treated as `np.int32 == np.dtype(int).type`.\n",
      "  if np.issubdtype(vec.dtype, np.int):\n"
     ]
    }
   ],
   "source": [
    "for word in list(pd.DataFrame(model.most_similar('frankrijk', topn=100)).iloc[:,0]):\n",
    "    ed = editdistance.eval('frankrijk', word)\n",
    "    ed2 = editdistance.eval('fransche', word)\n",
    "    if ed < 3 or ed2 < 3:\n",
    "        print(word)\n"
   ]
  },
  {
   "cell_type": "code",
   "execution_count": 38,
   "metadata": {},
   "outputs": [
    {
     "name": "stderr",
     "output_type": "stream",
     "text": [
      "C:\\ProgramData\\Anaconda3\\lib\\site-packages\\ipykernel_launcher.py:1: DeprecationWarning: Call to deprecated `most_similar` (Method will be removed in 4.0.0, use self.wv.most_similar() instead).\n",
      "  \"\"\"Entry point for launching an IPython kernel.\n",
      "C:\\ProgramData\\Anaconda3\\lib\\site-packages\\gensim\\matutils.py:737: FutureWarning: Conversion of the second argument of issubdtype from `int` to `np.signedinteger` is deprecated. In future, it will be treated as `np.int32 == np.dtype(int).type`.\n",
      "  if np.issubdtype(vec.dtype, np.int):\n"
     ]
    },
    {
     "data": {
      "text/plain": [
       "[('binnenlandsehe', 0.8272996544837952),\n",
       " ('binnenlandsohe', 0.8063018321990967),\n",
       " ('buitenlandsche', 0.7521425485610962),\n",
       " ('binuenlandsche', 0.7423266172409058),\n",
       " ('blnnenlandsche', 0.7336791753768921),\n",
       " ('binnenlandscho', 0.6924548149108887),\n",
       " ('binnenlaudsche', 0.6796693801879883),\n",
       " ('binnenlandscbe', 0.6567612290382385),\n",
       " ('buitenlandsohe', 0.6522514820098877),\n",
       " ('binneniandsche', 0.64724200963974),\n",
       " ('binnenl', 0.644846498966217),\n",
       " ('binnenlandsclie', 0.6431710720062256),\n",
       " ('buitenlandscho', 0.6175978183746338),\n",
       " ('bultenlandsche', 0.5916971564292908),\n",
       " ('buiteniandsche', 0.5800415873527527),\n",
       " ('buitenlandsehe', 0.5715796947479248),\n",
       " ('buitenl', 0.5685192942619324),\n",
       " ('buitenlandache', 0.5627729892730713),\n",
       " ('buitenlaudsche', 0.5538020133972168),\n",
       " ('buitenlandscha', 0.5435205101966858),\n",
       " ('bnitenlandsche', 0.5394690036773682),\n",
       " ('baitenlandsche', 0.5273455381393433),\n",
       " ('binncnl', 0.5189130306243896),\n",
       " ('binnenlandse', 0.48953357338905334),\n",
       " ('financiën', 0.48828962445259094),\n",
       " ('buiteni', 0.4547725021839142),\n",
       " ('buitenlandsclie', 0.4136170744895935),\n",
       " ('militaire', 0.39668384194374084),\n",
       " ('oorlog', 0.3964751362800598),\n",
       " ('andsche', 0.39131468534469604),\n",
       " ('marine', 0.38894400000572205),\n",
       " ('landbouw', 0.38892239332199097),\n",
       " ('rink', 0.38634270429611206),\n",
       " ('financien', 0.3844894766807556),\n",
       " ('betreffende', 0.38220930099487305),\n",
       " ('bnitenl', 0.3786509037017822),\n",
       " ('rijkscontroleur', 0.37714987993240356),\n",
       " ('blykens', 0.37656623125076294),\n",
       " ('ministeriëele', 0.37645697593688965),\n",
       " ('waterstaat', 0.37640687823295593)]"
      ]
     },
     "execution_count": 38,
     "metadata": {},
     "output_type": "execute_result"
    }
   ],
   "source": [
    "model.most_similar('binnenlandsche', topn=40)"
   ]
  },
  {
   "cell_type": "code",
   "execution_count": null,
   "metadata": {},
   "outputs": [],
   "source": [
    "os.chdir(\"D://Scriptie//Data//lines//cleaned\")\n",
    "\n",
    "Word2Vec.load"
   ]
  }
 ],
 "metadata": {
  "kernelspec": {
   "display_name": "Python 3",
   "language": "python",
   "name": "python3"
  },
  "language_info": {
   "codemirror_mode": {
    "name": "ipython",
    "version": 3
   },
   "file_extension": ".py",
   "mimetype": "text/x-python",
   "name": "python",
   "nbconvert_exporter": "python",
   "pygments_lexer": "ipython3",
   "version": "3.6.5"
  }
 },
 "nbformat": 4,
 "nbformat_minor": 2
}
