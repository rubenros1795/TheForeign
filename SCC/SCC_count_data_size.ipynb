{
 "cells": [
  {
   "cell_type": "code",
   "execution_count": 48,
   "metadata": {},
   "outputs": [],
   "source": [
    "import csv\n",
    "import glob\n",
    "import os\n",
    "import re\n",
    "import random\n",
    "from collections import Counter\n",
    "import pandas as pd\n",
    "import matplotlib.pyplot as plt\n",
    "import numpy as np"
   ]
  },
  {
   "cell_type": "code",
   "execution_count": 55,
   "metadata": {},
   "outputs": [],
   "source": [
    "os.chdir('C://Users//Ruben//Documents//Scriptie//test-scripts///metadata')\n",
    "csv_filenames = glob.glob('*.csv')"
   ]
  },
  {
   "cell_type": "code",
   "execution_count": 94,
   "metadata": {},
   "outputs": [],
   "source": [
    "counts = pd.DataFrame()\n",
    "list_newspaper_titles = list()\n",
    "\n",
    "for csv in csv_filenames:\n",
    "    df = pd.read_csv(csv, sep = \"\\t\")\n",
    "    df['date'] = df['date'].str[:4]\n",
    "    df['date'] = df['date'].astype(int)\n",
    "    \n",
    "    csv_count = dict()\n",
    "    \n",
    "    for year in list(set(df.date)):\n",
    "        y_df = df[df['date'] == year]\n",
    "        \n",
    "        year_count = 0\n",
    "        \n",
    "        for art in y_df.ocr:\n",
    "            tmp = len(art)\n",
    "            year_count = year_count + tmp\n",
    "        \n",
    "        yc_v = {year:year_count}\n",
    "        csv_count.update(yc_v)\n",
    "    \n",
    "    csv_count_df = pd.DataFrame(list(csv_count.items()), columns=['year', 'char_count'])\n",
    "    csv_count_df['title'] = csv[0:3]\n",
    "    \n",
    "    list_newspaper_titles.append(csv[0:3])\n",
    "    list_newspaper_titles = [w.replace(\"-\", \"\") for w in list_newspaper_titles]\n",
    "    \n",
    "    \n",
    "    counts = counts.append(csv_count_df)   \n",
    "counts = counts.pivot(index='year',columns='title')\n",
    "counts['Total'] = counts.sum(axis=1)\n",
    "counts['year'] = counts.index\n",
    "list_newspaper_titles.extend(('total', 'year'))\n",
    "counts.columns = list_newspaper_titles"
   ]
  },
  {
   "cell_type": "code",
   "execution_count": 95,
   "metadata": {},
   "outputs": [
    {
     "data": {
      "text/plain": [
       "['arc', 'brc', 'dgw', 'nvd', 'ohc', 'tc', 'uc', 'total', 'year']"
      ]
     },
     "execution_count": 95,
     "metadata": {},
     "output_type": "execute_result"
    }
   ],
   "source": [
    "list_newspaper_titles"
   ]
  },
  {
   "cell_type": "code",
   "execution_count": 96,
   "metadata": {},
   "outputs": [
    {
     "data": {
      "image/png": "[encoded data removed]",
      "text/plain": [
       "<Figure size 432x288 with 1 Axes>"
      ]
     },
     "metadata": {},
     "output_type": "display_data"
    }
   ],
   "source": [
    "p = counts.plot(x = \"year\", y = ['total'], kind=\"bar\")\n",
    "#p.xaxis.set_major_locator(plt.MaxNLocator(3))\n",
    "#plt.savefig(\"plot.png\", dpi=800)"
   ]
  },
  {
   "cell_type": "raw",
   "metadata": {},
   "source": []
  },
  {
   "cell_type": "code",
   "execution_count": 98,
   "metadata": {},
   "outputs": [],
   "source": [
    "countsp1 = counts[0:40]\n"
   ]
  },
  {
   "cell_type": "code",
   "execution_count": 99,
   "metadata": {},
   "outputs": [
    {
     "data": {
      "text/plain": [
       "649274891.0"
      ]
     },
     "execution_count": 99,
     "metadata": {},
     "output_type": "execute_result"
    }
   ],
   "source": [
    "sum(list(countsp1.total)) / 1."
   ]
  },
  {
   "cell_type": "code",
   "execution_count": null,
   "metadata": {},
   "outputs": [],
   "source": []
  }
 ],
 "metadata": {
  "kernelspec": {
   "display_name": "Python 3",
   "language": "python",
   "name": "python3"
  },
  "language_info": {
   "codemirror_mode": {
    "name": "ipython",
    "version": 3
   },
   "file_extension": ".py",
   "mimetype": "text/x-python",
   "name": "python",
   "nbconvert_exporter": "python",
   "pygments_lexer": "ipython3",
   "version": "3.6.5"
  }
 },
 "nbformat": 4,
 "nbformat_minor": 2
}
