{
 "cells": [
  {
   "cell_type": "code",
   "execution_count": 32,
   "metadata": {},
   "outputs": [],
   "source": [
    "import csv\n",
    "import os\n",
    "import glob\n",
    "import pandas as pd\n",
    "import nltk\n",
    "import string\n",
    "import re\n",
    "from nltk import ngrams\n",
    "import multiprocessing\n",
    "import time\n",
    "import numpy as np"
   ]
  },
  {
   "cell_type": "code",
   "execution_count": 27,
   "metadata": {},
   "outputs": [],
   "source": [
    "os.chdir(\"C://Users//Ruben//Documents//Scriptie//Data//tng-environment\")\n",
    "list_csv = glob.glob(\"*.csv\")\n",
    "list_csv = [s for s in list_csv if \"unigram\" in s]\n",
    "df = pd.DataFrame()\n",
    "for csv in list_csv:\n",
    "    tmp = pd.read_csv(csv)\n",
    "    df = df.append(tmp)\n",
    "df = pd.pivot_table(df, values='count', index=['ngram'], columns=['year'], aggfunc=np.sum)\n",
    "df['ngram'] = df.index\n",
    "df.to_csv('unigram-total.csv')"
   ]
  },
  {
   "cell_type": "code",
   "execution_count": 28,
   "metadata": {},
   "outputs": [],
   "source": [
    "os.chdir(\"C://Users//Ruben//Documents//Scriptie//Data//tng-environment\")\n",
    "list_csv = glob.glob(\"*.csv\")\n",
    "list_csv = [s for s in list_csv if \"bigram\" in s]\n",
    "df = pd.DataFrame()\n",
    "for csv in list_csv:\n",
    "    tmp = pd.read_csv(csv)\n",
    "    df = df.append(tmp)\n",
    "df = pd.pivot_table(df, values='count', index=['ngram'], columns=['year'], aggfunc=np.sum)\n",
    "df['ngram'] = df.index\n",
    "df.to_csv('bigram-total.csv')"
   ]
  }
 ],
 "metadata": {
  "kernelspec": {
   "display_name": "Python 3",
   "language": "python",
   "name": "python3"
  },
  "language_info": {
   "codemirror_mode": {
    "name": "ipython",
    "version": 3
   },
   "file_extension": ".py",
   "mimetype": "text/x-python",
   "name": "python",
   "nbconvert_exporter": "python",
   "pygments_lexer": "ipython3",
   "version": "3.6.5"
  }
 },
 "nbformat": 4,
 "nbformat_minor": 2
}
