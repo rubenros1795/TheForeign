{
 "cells": [
  {
   "cell_type": "code",
   "execution_count": 1,
   "metadata": {},
   "outputs": [],
   "source": [
    "import re, os, glob, pandas as pd\n",
    "import editdistance"
   ]
  },
  {
   "cell_type": "code",
   "execution_count": 2,
   "metadata": {},
   "outputs": [
    {
     "name": "stderr",
     "output_type": "stream",
     "text": [
      "C:\\ProgramData\\Anaconda3\\lib\\site-packages\\IPython\\core\\interactiveshell.py:2785: DtypeWarning: Columns (1,2) have mixed types. Specify dtype option on import or set low_memory=False.\n",
      "  interactivity=interactivity, compiler=compiler, result=result)\n"
     ]
    }
   ],
   "source": [
    "## Import token totals\n",
    "os.chdir(\"C://Users//Ruben//Documents//GitHub//TheForeign//SCC//output-data\")\n",
    "token_totals = pd.read_csv('tokens_year.csv')\n",
    "\n",
    "## Import Master DF\n",
    "os.chdir(\"C://Users//Ruben//Documents//Scriptie//Data//unigrams//output//years\")\n",
    "df = pd.read_csv('total-unigrams.csv')\n",
    "\n",
    "## Define ED function\n",
    "def GetCloseED(master_df, search_term):\n",
    "    output_list = list()\n",
    "    \n",
    "    subset_df = master_df[master_df.ngram.str[0] == search_term[0]]\n",
    "    \n",
    "    for word in list(subset_df.ngram):\n",
    "        ed = editdistance.eval(search_term, word)\n",
    "        if ed < 3 and len(word) <= len(search_term):\n",
    "            output_list.append(word)\n",
    "    \n",
    "    return output_list"
   ]
  },
  {
   "cell_type": "markdown",
   "metadata": {},
   "source": [
    "_Extract Unigrams_"
   ]
  },
  {
   "cell_type": "code",
   "execution_count": 4,
   "metadata": {},
   "outputs": [],
   "source": [
    "## Get 'Buitenland'\n",
    "df_buit = df[df[\"ngram\"].str.lower().str.contains(\"buitenland\")]\n",
    "\n",
    "#df_buit = df[df.ngram.isin(['buitenland'])]\n",
    "df_buit = df_buit.reset_index(drop=True)\n",
    "df_buit = df_buit.dropna()\n",
    "df_buit['year'] = df_buit['year'].astype(int)\n",
    "df_buit = df_buit.pivot(index='ngram', columns='year', values='count')\n",
    "df_buit = df_buit.fillna(0)\n",
    "df_buit.columns = df_buit.columns.astype(str)\n",
    "list_sums = list()\n",
    "\n",
    "for i in list(df_buit.columns):\n",
    "    tmp = sum(df_buit[i].astype(int))\n",
    "    list_sums.append(tmp)\n",
    "\n",
    "token_totals['buitenland'] = list_sums\n",
    "token_totals['buitenland'] = token_totals['buitenland'] / token_totals['tokens'] * 100\n",
    "plot = token_totals.plot.line(x='year', y='buitenland')"
   ]
  },
  {
   "cell_type": "code",
   "execution_count": 16,
   "metadata": {},
   "outputs": [
    {
     "data": {
      "text/html": [
       "<div>\n",
       "<style scoped>\n",
       "    .dataframe tbody tr th:only-of-type {\n",
       "        vertical-align: middle;\n",
       "    }\n",
       "\n",
       "    .dataframe tbody tr th {\n",
       "        vertical-align: top;\n",
       "    }\n",
       "\n",
       "    .dataframe thead th {\n",
       "        text-align: right;\n",
       "    }\n",
       "</style>\n",
       "<table border=\"1\" class=\"dataframe\">\n",
       "  <thead>\n",
       "    <tr style=\"text-align: right;\">\n",
       "      <th>year</th>\n",
       "      <th>1815</th>\n",
       "      <th>1816</th>\n",
       "      <th>1817</th>\n",
       "      <th>1818</th>\n",
       "      <th>1819</th>\n",
       "      <th>1820</th>\n",
       "      <th>1821</th>\n",
       "      <th>1822</th>\n",
       "      <th>1823</th>\n",
       "      <th>1824</th>\n",
       "      <th>...</th>\n",
       "      <th>1905</th>\n",
       "      <th>1906</th>\n",
       "      <th>1907</th>\n",
       "      <th>1908</th>\n",
       "      <th>1909</th>\n",
       "      <th>1910</th>\n",
       "      <th>1911</th>\n",
       "      <th>1912</th>\n",
       "      <th>1913</th>\n",
       "      <th>1914</th>\n",
       "    </tr>\n",
       "    <tr>\n",
       "      <th>ngram</th>\n",
       "      <th></th>\n",
       "      <th></th>\n",
       "      <th></th>\n",
       "      <th></th>\n",
       "      <th></th>\n",
       "      <th></th>\n",
       "      <th></th>\n",
       "      <th></th>\n",
       "      <th></th>\n",
       "      <th></th>\n",
       "      <th></th>\n",
       "      <th></th>\n",
       "      <th></th>\n",
       "      <th></th>\n",
       "      <th></th>\n",
       "      <th></th>\n",
       "      <th></th>\n",
       "      <th></th>\n",
       "      <th></th>\n",
       "      <th></th>\n",
       "      <th></th>\n",
       "    </tr>\n",
       "  </thead>\n",
       "  <tbody>\n",
       "  </tbody>\n",
       "</table>\n",
       "<p>0 rows × 100 columns</p>\n",
       "</div>"
      ],
      "text/plain": [
       "Empty DataFrame\n",
       "Columns: [1815, 1816, 1817, 1818, 1819, 1820, 1821, 1822, 1823, 1824, 1825, 1826, 1827, 1828, 1829, 1830, 1831, 1832, 1833, 1834, 1835, 1836, 1837, 1838, 1839, 1840, 1841, 1842, 1843, 1844, 1845, 1846, 1847, 1848, 1849, 1850, 1851, 1852, 1853, 1854, 1855, 1856, 1857, 1858, 1859, 1860, 1861, 1862, 1863, 1864, 1865, 1866, 1867, 1868, 1869, 1870, 1871, 1872, 1873, 1874, 1875, 1876, 1877, 1878, 1879, 1880, 1881, 1882, 1883, 1884, 1885, 1886, 1887, 1888, 1889, 1890, 1891, 1892, 1893, 1894, 1895, 1896, 1897, 1898, 1899, 1900, 1901, 1902, 1903, 1904, 1905, 1906, 1907, 1908, 1909, 1910, 1911, 1912, 1913, 1914]\n",
       "Index: []\n",
       "\n",
       "[0 rows x 100 columns]"
      ]
     },
     "execution_count": 16,
     "metadata": {},
     "output_type": "execute_result"
    }
   ],
   "source": [
    "df_buit[df_buit.index == 'buitenlandig']"
   ]
  },
  {
   "cell_type": "code",
   "execution_count": 15,
   "metadata": {},
   "outputs": [],
   "source": [
    "df_btlnds.to_csv('unigrams_buitenlander.csv')"
   ]
  },
  {
   "cell_type": "code",
   "execution_count": 86,
   "metadata": {},
   "outputs": [],
   "source": [
    "df_buit.to_csv(\"unigrams_buitenland.csv\")"
   ]
  },
  {
   "cell_type": "code",
   "execution_count": null,
   "metadata": {},
   "outputs": [],
   "source": []
  }
 ],
 "metadata": {
  "kernelspec": {
   "display_name": "Python 3",
   "language": "python",
   "name": "python3"
  },
  "language_info": {
   "codemirror_mode": {
    "name": "ipython",
    "version": 3
   },
   "file_extension": ".py",
   "mimetype": "text/x-python",
   "name": "python",
   "nbconvert_exporter": "python",
   "pygments_lexer": "ipython3",
   "version": "3.6.5"
  }
 },
 "nbformat": 4,
 "nbformat_minor": 2
}
