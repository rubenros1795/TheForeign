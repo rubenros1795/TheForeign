{
 "cells": [
  {
   "cell_type": "code",
   "execution_count": 1,
   "metadata": {},
   "outputs": [
    {
     "data": {
      "text/html": [
       "<style>.container { width:100% !important; }</style>"
      ],
      "text/plain": [
       "<IPython.core.display.HTML object>"
      ]
     },
     "metadata": {},
     "output_type": "display_data"
    }
   ],
   "source": [
    "import csv\n",
    "import os\n",
    "import glob\n",
    "import pandas as pd\n",
    "import nltk\n",
    "import string\n",
    "import re\n",
    "from nltk import ngrams\n",
    "import multiprocessing\n",
    "import time\n",
    "import editdistance\n",
    "import itertools\n",
    "from collections import Counter\n",
    "from IPython.core.display import display, HTML\n",
    "display(HTML(\"<style>.container { width:100% !important; }</style>\"))\n",
    "pd.set_option('display.width', 1000)\n"
   ]
  },
  {
   "cell_type": "code",
   "execution_count": 21,
   "metadata": {},
   "outputs": [],
   "source": [
    "os.chdir(\"D://Scriptie//Data//lines//cleaned\")\n",
    "all_txt = glob.glob('*.txt')\n",
    "all_txt = [f for f in all_txt if f[6:12] == 'leaned']"
   ]
  },
  {
   "cell_type": "code",
   "execution_count": 3,
   "metadata": {},
   "outputs": [],
   "source": [
    "stopz = [word.split() for word in open(\"C:\\\\Users\\\\Ruben\\\\Documents\\\\Artikelen\\\\Joris\\\\stopwords-nl.txt\", 'r', encoding = \"utf-8\").readlines()]\n",
    "stopz = [item for sublist in stopz for item in sublist]"
   ]
  },
  {
   "cell_type": "code",
   "execution_count": 4,
   "metadata": {},
   "outputs": [],
   "source": [
    "def Get_KWIC(search_term, start_year, end_year, window, dist):\n",
    "    kwics_year = dict()\n",
    "    \n",
    "    for year in range(start_year, end_year+1):\n",
    "    \n",
    "        list_lines_year = list()\n",
    "\n",
    "        files = [s for s in all_txt if str(year) in s]\n",
    "\n",
    "        for file in files:\n",
    "            lines = [line.rstrip('\\n') for line in open(file, encoding = 'utf-8')]\n",
    "            lines = [line for line in lines if search_term in line]\n",
    "            \n",
    "            #print(str(year) + ' occurences: ' + str(len(lines)))\n",
    "            \n",
    "            for line in lines:\n",
    "\n",
    "\n",
    "                tmp_line = line.replace(search_term, '_'.join(search_term.split(' ')))\n",
    "\n",
    "\n",
    "                line_tok = tmp_line.split(\" \")\n",
    "                positions = [idx for idx, s in enumerate(line_tok) if '_'.join(search_term.split(' ')) in s]\n",
    "\n",
    "                for pos in positions:\n",
    "                    p = int(pos)\n",
    "                    ss = p - dist - window\n",
    "                    se = p - dist\n",
    "                    es = p + dist\n",
    "                    ee = p + dist + window\n",
    "\n",
    "                    if ss < 0:\n",
    "                        se = 0\n",
    "                    if ee > (len(line_tok) - 1):\n",
    "                        ee = (len(line_tok) - 1)\n",
    "\n",
    "                    selection = \" \".join(line_tok[ss:se] + line_tok[es:ee])\n",
    "                    list_lines_year.append(selection)\n",
    "                    \n",
    "            kwics_year.update({year:list_lines_year})\n",
    "    \n",
    "    kwic_df = pd.DataFrame()\n",
    "    for key,value in kwics_year.items():\n",
    "        for line in value:\n",
    "            tmp = pd.DataFrame([line], columns = ['kwic'])\n",
    "            tmp['year'] = key\n",
    "            kwic_df = kwic_df.append(tmp)\n",
    "    kwic_df = kwic_df.reset_index(drop=True)\n",
    "    \n",
    "    return kwic_df"
   ]
  },
  {
   "cell_type": "code",
   "execution_count": 39,
   "metadata": {},
   "outputs": [],
   "source": [
    "def Get_KWICTW(search_term, start_year, end_year, window, dist):\n",
    "    \n",
    "    dft = Get_KWIC(search_term, start_year, end_year, window, dist)\n",
    "    \n",
    "    \n",
    "    df_top = pd.DataFrame()\n",
    "    for year in sorted(list(set(dft['year']))):\n",
    "        ss = dft[dft['year'] == year]\n",
    "        list_words = list(itertools.chain.from_iterable(ss.kwic.str.split(' ')))\n",
    "        list_words = [w for w in list_words if w not in stopz]\n",
    "        list_words = [w for w in list_words if w != '_'.join(search_term.split(' '))]\n",
    "        list_words = Counter(list_words)\n",
    "        \n",
    "        for word, count in dict(list_words.most_common(30)).items():\n",
    "            if count > 1:\n",
    "                tmpdf = pd.DataFrame([word,count]).T\n",
    "                tmpdf['year'] = year\n",
    "                df_top = df_top.append(tmpdf)\n",
    "        \n",
    "            printdf = df_top[df_top.year == year]\n",
    "        print(str(year) + \" | \" + '  '.join(list(printdf.iloc[0:13,0])))\n",
    "    \n",
    "    df_top.columns = ['word', 'count', 'year']\n",
    "    df_top = df_top.pivot(index='word',columns='year')     \n",
    "    df_top.columns = df_top.columns.get_level_values(0)\n",
    "    df_top.columns = [str(year) for year in range(start_year, end_year + 1)]\n",
    "    return df_top"
   ]
  },
  {
   "cell_type": "code",
   "execution_count": null,
   "metadata": {
    "scrolled": true
   },
   "outputs": [],
   "source": [
    "df = Get_KWICTW('buitenlandsche', 1815, 1914, 12, 0)"
   ]
  },
  {
   "cell_type": "code",
   "execution_count": 65,
   "metadata": {},
   "outputs": [],
   "source": [
    "change_df = pd.DataFrame()\n",
    "\n",
    "for i in range(1,(len(df.columns))):\n",
    "    tmp = df.sort_values(df.columns[i], ascending = False)\n",
    "    tmp = list(tmp.index[0:13])\n",
    "    \n",
    "    tmpp = df.sort_values(df.columns[i - 1], ascending = False)\n",
    "    tmpp = list(tmpp.index[0:13])\n",
    "    \n",
    "    tmp = pd.DataFrame([len([word for word in tmp if word not in tmpp])])\n",
    "    tmp['year'] = df.columns[i]\n",
    "    change_df = change_df.append(tmp)\n",
    "change_df.columns = ['c', 'y']"
   ]
  },
  {
   "cell_type": "code",
   "execution_count": 66,
   "metadata": {},
   "outputs": [
    {
     "data": {
      "text/plain": [
       "<matplotlib.axes._subplots.AxesSubplot at 0x1c3383b1e48>"
      ]
     },
     "execution_count": 66,
     "metadata": {},
     "output_type": "execute_result"
    },
    {
     "data": {
      "image/png": "[encoded data removed]",
      "text/plain": [
       "<Figure size 432x288 with 1 Axes>"
      ]
     },
     "metadata": {},
     "output_type": "display_data"
    }
   ],
   "source": [
    "p = change_df.plot.line(x='y', y='c')\n",
    "p"
   ]
  },
  {
   "cell_type": "code",
   "execution_count": 17,
   "metadata": {},
   "outputs": [],
   "source": [
    "os.chdir(\"C:\\\\Users\\\\Ruben\\\\Documents\\\\Scriptie\\\\Data\\\\kwic_dfs\")\n",
    "\n",
    "df.to_csv('buitenlandsche_politiek_1850_1880_tw.csv', index = False)"
   ]
  },
  {
   "cell_type": "code",
   "execution_count": null,
   "metadata": {},
   "outputs": [],
   "source": []
  }
 ],
 "metadata": {
  "kernelspec": {
   "display_name": "Python 3",
   "language": "python",
   "name": "python3"
  },
  "language_info": {
   "codemirror_mode": {
    "name": "ipython",
    "version": 3
   },
   "file_extension": ".py",
   "mimetype": "text/x-python",
   "name": "python",
   "nbconvert_exporter": "python",
   "pygments_lexer": "ipython3",
   "version": "3.6.5"
  }
 },
 "nbformat": 4,
 "nbformat_minor": 2
}
