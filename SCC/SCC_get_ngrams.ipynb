{
 "cells": [
  {
   "cell_type": "code",
   "execution_count": 2,
   "metadata": {},
   "outputs": [],
   "source": [
    "import csv\n",
    "import os\n",
    "import glob\n",
    "import pandas as pd\n",
    "import re\n",
    "import nltk\n",
    "import webbrowser\n",
    "from nltk.corpus import stopwords\n",
    "from collections import Counter \n",
    "from nltk import ngrams\n",
    "import random"
   ]
  },
  {
   "cell_type": "code",
   "execution_count": 3,
   "metadata": {},
   "outputs": [],
   "source": [
    "os.chdir('/home/ruben/Downloads')\n",
    "csv_filenames = glob.glob('*.csv')"
   ]
  },
  {
   "cell_type": "code",
   "execution_count": 5,
   "metadata": {},
   "outputs": [],
   "source": [
    "df = pd.read_csv(csv_filenames[0], sep = \"\\t\")"
   ]
  },
  {
   "cell_type": "code",
   "execution_count": 8,
   "metadata": {},
   "outputs": [],
   "source": [
    "def Clean(string):\n",
    "    strip_special_chars = re.compile(\"[^A-Za-z]\")\n",
    "    string = re.sub(strip_special_chars,\" \", string)\n",
    "    string = string.split()\n",
    "    string = [w.lower() for w in string]\n",
    "    #string = [word for word in string if len(word) > 1]\n",
    "    #string = [word for word in string if word not in stopwords.words(\"dutch\")]\n",
    "    return(string)"
   ]
  },
  {
   "cell_type": "code",
   "execution_count": 31,
   "metadata": {},
   "outputs": [],
   "source": [
    "def GetNgram(input_df, n):\n",
    "    \n",
    "    list_column_names = ['w1', 'w2', 'w3', 'w4', 'w5']\n",
    "    list_column_names = list_column_names[0:n]\n",
    "    list_column_names.append('year')\n",
    "    bigram_list = list()\n",
    "    \n",
    "    for i in range(0,len(input_df) -1):\n",
    "        bigrams = ngrams(Clean(input_df.ocr[i]), n)\n",
    "        for g in bigrams:\n",
    "            tmp_list = [word for word in g]\n",
    "            if any(x in tmp_list for x in stopwords.words('dutch')) == False:\n",
    "                tmp_list = ' '.join(tmp_list)\n",
    "                d = df.date[i]\n",
    "                tmp = tmp_list + \" \" + d\n",
    "                bigram_list.append(tmp)\n",
    "    \n",
    "    op = pd.DataFrame(bigram_list)\n",
    "    op.columns = ['bigram']\n",
    "    op = pd.DataFrame(op.bigram.str.split(' ',n).tolist(), columns = list_column_names)\n",
    "    op['count'] = 1\n",
    "    \n",
    "    op['bigram'] = op[list_column_names[0:n]].apply(lambda x: ' '.join(x), axis=1)\n",
    "    op = op.drop(list_column_names[0:n], axis = 1)\n",
    "    op.year = op.year.astype(str).str[0:4]\n",
    "    \n",
    "    return(op)"
   ]
  },
  {
   "cell_type": "code",
   "execution_count": 54,
   "metadata": {},
   "outputs": [
    {
     "name": "stdout",
     "output_type": "stream",
     "text": [
      "uc-1815-1840-1gram\n",
      "uc-1815-1840-2gram\n",
      "uc-1815-1840-3gram\n",
      "uc-1815-1840-4gram\n",
      "prov-1845-1914-1gram\n",
      "prov-1845-1914-2gram\n",
      "prov-1845-1914-3gram\n",
      "prov-1845-1914-4gram\n",
      "brc-1814-1913-1gram\n",
      "brc-1814-1913-2gram\n",
      "brc-1814-1913-3gram\n",
      "brc-1814-1913-4gram\n"
     ]
    }
   ],
   "source": [
    "for fn in csv_filenames:\n",
    "    df = pd.read_csv(fn, sep = \"\\t\")\n",
    "    for gram in range(1,5):\n",
    "        #op = GetNgram(df, gram)\n",
    "        filename = fn.replace(\".csv\", \"\")\n",
    "        filename = filename + \"-\" + str(gram) + \"gram\"\n",
    "        #op.to_csv(filename)\n",
    "        print(filename)"
   ]
  }
 ],
 "metadata": {
  "kernelspec": {
   "display_name": "Python 3",
   "language": "python",
   "name": "python3"
  },
  "language_info": {
   "codemirror_mode": {
    "name": "ipython",
    "version": 3
   },
   "file_extension": ".py",
   "mimetype": "text/x-python",
   "name": "python",
   "nbconvert_exporter": "python",
   "pygments_lexer": "ipython3",
   "version": "3.5.2"
  }
 },
 "nbformat": 4,
 "nbformat_minor": 2
}
