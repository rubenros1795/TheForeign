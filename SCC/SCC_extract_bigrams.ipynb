{
 "cells": [
  {
   "cell_type": "code",
   "execution_count": 1,
   "metadata": {},
   "outputs": [],
   "source": [
    "first_term = \"buitenlandsche\""
   ]
  },
  {
   "cell_type": "code",
   "execution_count": 2,
   "metadata": {},
   "outputs": [],
   "source": [
    "import re, os, glob, pandas as pd\n",
    "import editdistance\n",
    "import sys\n",
    "import dask.dataframe as dd"
   ]
  },
  {
   "cell_type": "code",
   "execution_count": 4,
   "metadata": {
    "scrolled": true
   },
   "outputs": [
    {
     "name": "stderr",
     "output_type": "stream",
     "text": [
      "C:\\ProgramData\\Anaconda3\\lib\\site-packages\\IPython\\core\\interactiveshell.py:2785: DtypeWarning: Columns (1,2) have mixed types. Specify dtype option on import or set low_memory=False.\n",
      "  interactivity=interactivity, compiler=compiler, result=result)\n"
     ]
    }
   ],
   "source": [
    "## Import token totals\n",
    "os.chdir(\"C://Users//Ruben//Documents//GitHub//TheForeign//SCC//output-data\")\n",
    "token_totals = pd.read_csv('tokens_year.csv')\n",
    "\n",
    "## Import Master DF\n",
    "os.chdir(\"C://Users//Ruben//Documents//Scriptie//Data//bigrams//output\")\n",
    "df = dd.read_csv('total-bigrams.csv', dtype='str')\n",
    "\n",
    "##\n",
    "os.chdir(\"C://Users//Ruben//Documents//Scriptie//Data//unigrams//output//years\")\n",
    "df_unigrams = pd.read_csv('total-unigrams.csv')\n",
    "\n",
    "## Define ED function\n",
    "def GetCloseED(master_df, search_term, len_restr):\n",
    "    output_list = list()\n",
    "    \n",
    "    subset_df = master_df[master_df.ngram.str[0] == search_term[0]]\n",
    "    \n",
    "    for word in list(subset_df.ngram):\n",
    "        ed = editdistance.eval(search_term, word)\n",
    "        if ed < 3:\n",
    "            output_list.append(word)\n",
    "    if len_restr == \"yes\":\n",
    "        output_list = [e for e in output_list if len(e) == len(search_term)]\n",
    "    return output_list"
   ]
  },
  {
   "cell_type": "code",
   "execution_count": 5,
   "metadata": {},
   "outputs": [],
   "source": [
    "list_alternatives = GetCloseED(df_unigrams, first_term, 'yes')"
   ]
  },
  {
   "cell_type": "code",
   "execution_count": 6,
   "metadata": {},
   "outputs": [],
   "source": [
    "subset = df[df['ngram'].str.split().str[0].isin(list_alternatives)].compute()"
   ]
  },
  {
   "cell_type": "code",
   "execution_count": 121,
   "metadata": {},
   "outputs": [],
   "source": [
    "subset['ngram'] = subset['ngram'].str.split().str[1]\n",
    "subset = subset.reset_index(drop=True)\n",
    "subset['count'] = subset['count'].astype(float)\n",
    "subset = subset.groupby(['ngram','year']).agg('sum')\n",
    "subset = subset.stack().reset_index().drop('level_2', axis = 1)\n",
    "subset.columns = ['ngram', 'year', 'count']\n",
    "subset = subset.dropna()\n",
    "subset = subset.pivot(index='ngram', columns='year', values='count')\n",
    "subset = subset.fillna(0)\n",
    "subset.columns = subset.columns.astype(str)"
   ]
  },
  {
   "cell_type": "code",
   "execution_count": 122,
   "metadata": {
    "scrolled": true
   },
   "outputs": [],
   "source": [
    "list_sums = dict()\n",
    "\n",
    "for i in list(subset.columns):\n",
    "    tmp = sum(subset[i].astype(float))\n",
    "    tmp = {i:tmp}\n",
    "    list_sums.update(tmp)\n",
    "    \n",
    "df_sums = pd.DataFrame(list(list_sums.keys()))\n",
    "df_sums['counts'] = list(list_sums.values())\n",
    "df_sums.columns = ['years', 'counts']"
   ]
  },
  {
   "cell_type": "code",
   "execution_count": 123,
   "metadata": {},
   "outputs": [
    {
     "name": "stderr",
     "output_type": "stream",
     "text": [
      "C:\\ProgramData\\Anaconda3\\lib\\site-packages\\ipykernel_launcher.py:12: SettingWithCopyWarning: \n",
      "A value is trying to be set on a copy of a slice from a DataFrame\n",
      "\n",
      "See the caveats in the documentation: http://pandas.pydata.org/pandas-docs/stable/indexing.html#indexing-view-versus-copy\n",
      "  if sys.path[0] == '':\n"
     ]
    }
   ],
   "source": [
    "token_totals['ngram'] = ''\n",
    "\n",
    "for i in range(0,len(token_totals)):\n",
    "    year = token_totals.year[i]\n",
    "    matching_df = df_sums[df_sums.years == str(year)]\n",
    "    \n",
    "    if len(matching_df) == 0:\n",
    "        count = 0\n",
    "    else:\n",
    "        count = matching_df.iloc[0,1]\n",
    "    \n",
    "    token_totals.ngram[i] = count\n",
    "    "
   ]
  },
  {
   "cell_type": "code",
   "execution_count": 124,
   "metadata": {},
   "outputs": [],
   "source": [
    "token_totals['ngram_rel'] = token_totals['ngram'] / token_totals['tokens'] * 100"
   ]
  },
  {
   "cell_type": "code",
   "execution_count": 125,
   "metadata": {},
   "outputs": [
    {
     "data": {
      "image/png": "[encoded data removed]",
      "text/plain": [
       "<Figure size 432x288 with 1 Axes>"
      ]
     },
     "metadata": {},
     "output_type": "display_data"
    }
   ],
   "source": [
    "df_sums['counts'] = df_sums['counts'].astype(int)\n",
    "plot = df_sums.plot.line(x='years',y='counts')"
   ]
  },
  {
   "cell_type": "code",
   "execution_count": 126,
   "metadata": {},
   "outputs": [],
   "source": [
    "os.chdir(\"C://Users//Ruben//Documents//GitHub//TheForeign//SCC//output-data\")"
   ]
  },
  {
   "cell_type": "code",
   "execution_count": 127,
   "metadata": {},
   "outputs": [],
   "source": [
    "filename = \"bigrams_\" + first_term + \".csv\"\n",
    "subset.to_csv(filename, index=True)"
   ]
  },
  {
   "cell_type": "code",
   "execution_count": null,
   "metadata": {},
   "outputs": [],
   "source": []
  }
 ],
 "metadata": {
  "kernelspec": {
   "display_name": "Python 3",
   "language": "python",
   "name": "python3"
  },
  "language_info": {
   "codemirror_mode": {
    "name": "ipython",
    "version": 3
   },
   "file_extension": ".py",
   "mimetype": "text/x-python",
   "name": "python",
   "nbconvert_exporter": "python",
   "pygments_lexer": "ipython3",
   "version": "3.6.5"
  }
 },
 "nbformat": 4,
 "nbformat_minor": 2
}
