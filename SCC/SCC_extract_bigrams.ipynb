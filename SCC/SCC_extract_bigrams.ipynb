{
 "cells": [
  {
   "cell_type": "code",
   "execution_count": 1,
   "metadata": {},
   "outputs": [],
   "source": [
    "first_term = \"buitenland\""
   ]
  },
  {
   "cell_type": "code",
   "execution_count": 2,
   "metadata": {},
   "outputs": [],
   "source": [
    "import re, os, glob, pandas as pd\n",
    "import editdistance\n",
    "import sys\n",
    "import dask.dataframe as dd"
   ]
  },
  {
   "cell_type": "code",
   "execution_count": 3,
   "metadata": {
    "scrolled": true
   },
   "outputs": [
    {
     "name": "stderr",
     "output_type": "stream",
     "text": [
      "C:\\ProgramData\\Anaconda3\\lib\\site-packages\\IPython\\core\\interactiveshell.py:2785: DtypeWarning: Columns (1,2) have mixed types. Specify dtype option on import or set low_memory=False.\n",
      "  interactivity=interactivity, compiler=compiler, result=result)\n"
     ]
    }
   ],
   "source": [
    "## Import token totals\n",
    "os.chdir(\"C://Users//Ruben//Documents//GitHub//TheForeign//SCC//output-data\")\n",
    "token_totals = pd.read_csv('tokens_year.csv')\n",
    "\n",
    "## Import Master DF\n",
    "os.chdir(\"C://Users//Ruben//Documents//Scriptie//Data//bigrams//output\")\n",
    "df = dd.read_csv('total-bigrams.csv', dtype='str')\n",
    "\n",
    "##\n",
    "os.chdir(\"C://Users//Ruben//Documents//Scriptie//Data//unigrams//output//years\")\n",
    "df_unigrams = pd.read_csv('total-unigrams.csv')\n",
    "\n",
    "## Define ED function\n",
    "def GetCloseED(master_df, search_term, len_restr):\n",
    "    output_list = list()\n",
    "    \n",
    "    subset_df = master_df[master_df.ngram.str[0] == search_term[0]]\n",
    "    \n",
    "    for word in list(subset_df.ngram):\n",
    "        ed = editdistance.eval(search_term, word)\n",
    "        if ed < 3:\n",
    "            output_list.append(word)\n",
    "    if len_restr == \"yes\":\n",
    "        output_list = [e for e in output_list if len(e) == len(search_term)]\n",
    "    return output_list"
   ]
  },
  {
   "cell_type": "code",
   "execution_count": 9,
   "metadata": {},
   "outputs": [
    {
     "ename": "ValueError",
     "evalue": "The truth value of a Series is ambiguous. Use a.any() or a.all().",
     "output_type": "error",
     "traceback": [
      "\u001b[1;31m---------------------------------------------------------------------------\u001b[0m",
      "\u001b[1;31mValueError\u001b[0m                                Traceback (most recent call last)",
      "\u001b[1;32m<ipython-input-9-646742eeb4b5>\u001b[0m in \u001b[0;36m<module>\u001b[1;34m()\u001b[0m\n\u001b[0;32m      1\u001b[0m \u001b[1;31m## Extraction independent on search word position\u001b[0m\u001b[1;33m\u001b[0m\u001b[1;33m\u001b[0m\u001b[0m\n\u001b[0;32m      2\u001b[0m \u001b[1;33m\u001b[0m\u001b[0m\n\u001b[1;32m----> 3\u001b[1;33m \u001b[0msubset\u001b[0m \u001b[1;33m=\u001b[0m \u001b[0mdf\u001b[0m\u001b[1;33m[\u001b[0m\u001b[0mdf\u001b[0m\u001b[1;33m[\u001b[0m\u001b[1;34m'ngram'\u001b[0m\u001b[1;33m]\u001b[0m\u001b[1;33m.\u001b[0m\u001b[0mstr\u001b[0m\u001b[1;33m.\u001b[0m\u001b[0msplit\u001b[0m\u001b[1;33m(\u001b[0m\u001b[1;33m)\u001b[0m\u001b[1;33m.\u001b[0m\u001b[0mstr\u001b[0m\u001b[1;33m[\u001b[0m\u001b[1;36m0\u001b[0m\u001b[1;33m]\u001b[0m \u001b[1;33m==\u001b[0m \u001b[1;34m'buitenland'\u001b[0m \u001b[1;32mor\u001b[0m \u001b[0mdf\u001b[0m\u001b[1;33m[\u001b[0m\u001b[1;34m'ngram'\u001b[0m\u001b[1;33m]\u001b[0m\u001b[1;33m.\u001b[0m\u001b[0mstr\u001b[0m\u001b[1;33m.\u001b[0m\u001b[0msplit\u001b[0m\u001b[1;33m(\u001b[0m\u001b[1;33m)\u001b[0m\u001b[1;33m.\u001b[0m\u001b[0mstr\u001b[0m\u001b[1;33m[\u001b[0m\u001b[1;36m1\u001b[0m\u001b[1;33m]\u001b[0m\u001b[1;33m==\u001b[0m \u001b[1;34m'buitenland'\u001b[0m\u001b[1;33m]\u001b[0m\u001b[1;33m.\u001b[0m\u001b[0mcompute\u001b[0m\u001b[1;33m(\u001b[0m\u001b[1;33m)\u001b[0m\u001b[1;33m\u001b[0m\u001b[0m\n\u001b[0m\u001b[0;32m      4\u001b[0m \u001b[0msubset\u001b[0m \u001b[1;33m=\u001b[0m \u001b[0msubset\u001b[0m\u001b[1;33m.\u001b[0m\u001b[0mreset_index\u001b[0m\u001b[1;33m(\u001b[0m\u001b[0mdrop\u001b[0m\u001b[1;33m=\u001b[0m\u001b[1;32mTrue\u001b[0m\u001b[1;33m)\u001b[0m\u001b[1;33m\u001b[0m\u001b[0m\n\u001b[0;32m      5\u001b[0m \u001b[0msubset\u001b[0m\u001b[1;33m[\u001b[0m\u001b[1;34m'count'\u001b[0m\u001b[1;33m]\u001b[0m \u001b[1;33m=\u001b[0m \u001b[0msubset\u001b[0m\u001b[1;33m[\u001b[0m\u001b[1;34m'count'\u001b[0m\u001b[1;33m]\u001b[0m\u001b[1;33m.\u001b[0m\u001b[0mastype\u001b[0m\u001b[1;33m(\u001b[0m\u001b[0mfloat\u001b[0m\u001b[1;33m)\u001b[0m\u001b[1;33m\u001b[0m\u001b[0m\n",
      "\u001b[1;32mC:\\ProgramData\\Anaconda3\\lib\\site-packages\\dask\\dataframe\\core.py\u001b[0m in \u001b[0;36m__bool__\u001b[1;34m(self)\u001b[0m\n\u001b[0;32m    473\u001b[0m         raise ValueError(\"The truth value of a {0} is ambiguous. \"\n\u001b[0;32m    474\u001b[0m                          \u001b[1;34m\"Use a.any() or a.all().\"\u001b[0m\u001b[1;33m\u001b[0m\u001b[0m\n\u001b[1;32m--> 475\u001b[1;33m                          .format(self.__class__.__name__))\n\u001b[0m\u001b[0;32m    476\u001b[0m \u001b[1;33m\u001b[0m\u001b[0m\n\u001b[0;32m    477\u001b[0m     \u001b[0m__nonzero__\u001b[0m \u001b[1;33m=\u001b[0m \u001b[0m__bool__\u001b[0m  \u001b[1;31m# python 2\u001b[0m\u001b[1;33m\u001b[0m\u001b[0m\n",
      "\u001b[1;31mValueError\u001b[0m: The truth value of a Series is ambiguous. Use a.any() or a.all()."
     ]
    }
   ],
   "source": [
    "## Extraction independent on search word position\n",
    "\n",
    "subset = df[df['ngram'].str.split().str[0] == 'buitenland' or df['ngram'].str.split().str[1]== 'buitenland'].compute()\n",
    "subset = subset.reset_index(drop=True)\n",
    "subset['count'] = subset['count'].astype(float)\n",
    "subset = subset.groupby(['ngram','year']).agg('sum')\n",
    "subset = subset.stack().reset_index().drop('level_2', axis = 1)\n",
    "subset.columns = ['ngram', 'year', 'count']\n",
    "subset = subset.dropna()\n",
    "subset = subset.pivot(index='ngram', columns='year', values='count')\n",
    "subset = subset.fillna(0)\n",
    "subset.columns = subset.columns.astype(str)\n",
    "list_sums = dict()\n",
    "\n",
    "for i in list(subset.columns):\n",
    "    tmp = sum(subset[i].astype(float))\n",
    "    tmp = {i:tmp}\n",
    "    list_sums.update(tmp)\n",
    "    \n",
    "df_sums = pd.DataFrame(list(list_sums.keys()))\n",
    "df_sums['counts'] = list(list_sums.values())\n",
    "df_sums.columns = ['years', 'counts']\n",
    "token_totals['ngram'] = ''\n",
    "\n",
    "for i in range(0,len(token_totals)):\n",
    "    year = token_totals.year[i]\n",
    "    matching_df = df_sums[df_sums.years == str(year)]\n",
    "    \n",
    "    if len(matching_df) == 0:\n",
    "        count = 0\n",
    "    else:\n",
    "        count = matching_df.iloc[0,1]\n",
    "    \n",
    "    token_totals.ngram[i] = count\n",
    "token_totals['ngram_rel'] = token_totals['ngram'] / token_totals['tokens'] * 100 "
   ]
  },
  {
   "cell_type": "code",
   "execution_count": 121,
   "metadata": {},
   "outputs": [],
   "source": [
    "# Extraction based on known position of search word\n",
    "\n",
    "subset = df[df['ngram'].str.split().str[0].isin(list_alternatives)].compute()\n",
    "subset['ngram'] = subset['ngram'].str.split().str[1]\n",
    "subset = subset.reset_index(drop=True)\n",
    "subset['count'] = subset['count'].astype(float)\n",
    "subset = subset.groupby(['ngram','year']).agg('sum')\n",
    "subset = subset.stack().reset_index().drop('level_2', axis = 1)\n",
    "subset.columns = ['ngram', 'year', 'count']\n",
    "subset = subset.dropna()\n",
    "subset = subset.pivot(index='ngram', columns='year', values='count')\n",
    "subset = subset.fillna(0)\n",
    "subset.columns = subset.columns.astype(str)\n",
    "list_sums = dict()\n",
    "\n",
    "for i in list(subset.columns):\n",
    "    tmp = sum(subset[i].astype(float))\n",
    "    tmp = {i:tmp}\n",
    "    list_sums.update(tmp)\n",
    "    \n",
    "df_sums = pd.DataFrame(list(list_sums.keys()))\n",
    "df_sums['counts'] = list(list_sums.values())\n",
    "df_sums.columns = ['years', 'counts']\n",
    "token_totals['ngram'] = ''\n",
    "\n",
    "for i in range(0,len(token_totals)):\n",
    "    year = token_totals.year[i]\n",
    "    matching_df = df_sums[df_sums.years == str(year)]\n",
    "    \n",
    "    if len(matching_df) == 0:\n",
    "        count = 0\n",
    "    else:\n",
    "        count = matching_df.iloc[0,1]\n",
    "    \n",
    "    token_totals.ngram[i] = count\n",
    "token_totals['ngram_rel'] = token_totals['ngram'] / token_totals['tokens'] * 100  "
   ]
  },
  {
   "cell_type": "code",
   "execution_count": 126,
   "metadata": {},
   "outputs": [],
   "source": [
    "os.chdir(\"C://Users//Ruben//Documents//GitHub//TheForeign//SCC//output-data\")"
   ]
  },
  {
   "cell_type": "code",
   "execution_count": 127,
   "metadata": {},
   "outputs": [],
   "source": [
    "filename = \"bigrams_\" + first_term + \".csv\"\n",
    "subset.to_csv(filename, index=True)"
   ]
  },
  {
   "cell_type": "code",
   "execution_count": null,
   "metadata": {},
   "outputs": [],
   "source": []
  }
 ],
 "metadata": {
  "kernelspec": {
   "display_name": "Python 3",
   "language": "python",
   "name": "python3"
  },
  "language_info": {
   "codemirror_mode": {
    "name": "ipython",
    "version": 3
   },
   "file_extension": ".py",
   "mimetype": "text/x-python",
   "name": "python",
   "nbconvert_exporter": "python",
   "pygments_lexer": "ipython3",
   "version": "3.6.5"
  }
 },
 "nbformat": 4,
 "nbformat_minor": 2
}
