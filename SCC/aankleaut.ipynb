{
 "cells": [
  {
   "cell_type": "code",
   "execution_count": 94,
   "metadata": {},
   "outputs": [],
   "source": [
    "\n",
    "binnen = ('binnenlandfchen', 'binnenlandsci')\n",
    "buiten = ('buijtenland', 'henkiepenkie')"
   ]
  },
  {
   "cell_type": "code",
   "execution_count": 17,
   "metadata": {},
   "outputs": [],
   "source": [
    "import gensim"
   ]
  },
  {
   "cell_type": "code",
   "execution_count": 5,
   "metadata": {},
   "outputs": [
    {
     "name": "stderr",
     "output_type": "stream",
     "text": [
      "C:\\ProgramData\\Anaconda3\\lib\\site-packages\\gensim\\utils.py:1212: UserWarning: detected Windows; aliasing chunkize to chunkize_serial\n",
      "  warnings.warn(\"detected Windows; aliasing chunkize to chunkize_serial\")\n"
     ]
    }
   ],
   "source": [
    "from gensim.models import Word2Vec\n",
    "import os,glob,re"
   ]
  },
  {
   "cell_type": "code",
   "execution_count": 101,
   "metadata": {},
   "outputs": [],
   "source": [
    "l_words = ['in', 'het', 'binnenlandfchen', 'binnenlandfchen']"
   ]
  },
  {
   "cell_type": "code",
   "execution_count": 7,
   "metadata": {},
   "outputs": [
    {
     "name": "stdout",
     "output_type": "stream",
     "text": [
      "one correction\n"
     ]
    }
   ],
   "source": [
    "for w in l_words:\n",
    "    if w in l_alt:\n",
    "        l_words[l_words.index(w)] = \"buitenlandsche\"\n",
    "        print('one correction')"
   ]
  },
  {
   "cell_type": "code",
   "execution_count": 31,
   "metadata": {},
   "outputs": [],
   "source": [
    "if any(x in l_words for x in l_alt) == True:\n",
    "    l_words[l_words.index([w for w in l_words if w in l_alt][0])] = 'buitenlandsche'"
   ]
  },
  {
   "cell_type": "code",
   "execution_count": 6,
   "metadata": {},
   "outputs": [],
   "source": [
    "os.chdir(\"C://Users//Ruben//Downloads\")"
   ]
  },
  {
   "cell_type": "code",
   "execution_count": 26,
   "metadata": {},
   "outputs": [
    {
     "ename": "IndexError",
     "evalue": "list index out of range",
     "output_type": "error",
     "traceback": [
      "\u001b[1;31m---------------------------------------------------------------------------\u001b[0m",
      "\u001b[1;31mIndexError\u001b[0m                                Traceback (most recent call last)",
      "\u001b[1;32m<ipython-input-26-ad7cfebd47cd>\u001b[0m in \u001b[0;36m<module>\u001b[1;34m()\u001b[0m\n\u001b[1;32m----> 1\u001b[1;33m \u001b[1;33m[\u001b[0m\u001b[0mw\u001b[0m \u001b[1;32mfor\u001b[0m \u001b[0mw\u001b[0m \u001b[1;32min\u001b[0m \u001b[0ml_words\u001b[0m \u001b[1;32mif\u001b[0m \u001b[0mw\u001b[0m \u001b[1;32min\u001b[0m \u001b[0ml_alt\u001b[0m\u001b[1;33m]\u001b[0m\u001b[1;33m[\u001b[0m\u001b[1;36m0\u001b[0m\u001b[1;33m]\u001b[0m\u001b[1;33m\u001b[0m\u001b[0m\n\u001b[0m",
      "\u001b[1;31mIndexError\u001b[0m: list index out of range"
     ]
    }
   ],
   "source": [
    "[w for w in l_words if w in l_alt][0]"
   ]
  },
  {
   "cell_type": "code",
   "execution_count": 99,
   "metadata": {},
   "outputs": [],
   "source": [
    "def CleanLine(list_of_words, error_list, correct_term):\n",
    "    \n",
    "    list_words = list_of_words\n",
    "\n",
    "    if any(x in list_words for x in error_list) == True:\n",
    "        \n",
    "        error_pos = [w for w in list_words if w in error_list]\n",
    "        \n",
    "        for error in error_pos:\n",
    "            list_words[list_words.index(error)] = correct_term\n",
    "    \n",
    "    return list_words"
   ]
  },
  {
   "cell_type": "code",
   "execution_count": 102,
   "metadata": {},
   "outputs": [
    {
     "data": {
      "text/plain": [
       "['in', 'het', 'binnenlandsche', 'binnenlandsche']"
      ]
     },
     "execution_count": 102,
     "metadata": {},
     "output_type": "execute_result"
    }
   ],
   "source": [
    "CleanLine(l_words, binnen, 'binnenlandsche')"
   ]
  },
  {
   "cell_type": "code",
   "execution_count": 8,
   "metadata": {},
   "outputs": [],
   "source": [
    "with open('1892_lines.txt', encoding = 'utf-8') as f:\n",
    "    lines_1 = f.readlines()\n",
    "    lines_1 = [f.split() for f in lines_1]\n",
    "    \n",
    "with open('1894_lines.txt', encoding = 'utf-8') as f:\n",
    "    lines_2 = f.readlines()\n",
    "    lines_2 = [f.split() for f in lines_2]"
   ]
  },
  {
   "cell_type": "code",
   "execution_count": 10,
   "metadata": {},
   "outputs": [],
   "source": [
    "dict_files = dict()\n",
    "dict_files.update({'p1':lines_1})\n",
    "dict_files.update({'p2':lines_2})"
   ]
  },
  {
   "cell_type": "code",
   "execution_count": 19,
   "metadata": {},
   "outputs": [
    {
     "name": "stdout",
     "output_type": "stream",
     "text": [
      "Model saved, on to the next\n",
      "\n"
     ]
    },
    {
     "name": "stderr",
     "output_type": "stream",
     "text": [
      "C:\\ProgramData\\Anaconda3\\lib\\site-packages\\ipykernel_launcher.py:14: DeprecationWarning: Call to deprecated `iter` (Attribute will be removed in 4.0.0, use self.epochs instead).\n",
      "  \n"
     ]
    },
    {
     "name": "stdout",
     "output_type": "stream",
     "text": [
      "Model saved, on to the next\n",
      "\n",
      "Model saved, on to the next\n",
      "\n"
     ]
    }
   ],
   "source": [
    "count = 0\n",
    "\n",
    "for key in sorted(list(dict_files.keys())):\n",
    "    if count == 0:\n",
    "        count += 1\n",
    "        sentences = dict_files[key]\n",
    "        model = gensim.models.Word2Vec(sentences, min_count=25, workers=5)\n",
    "        model.save(str(key)+\"_model.bin\")\n",
    "        print(\"Model saved, on to the next\\n\")\n",
    "        \n",
    "    if count > 0:\n",
    "        sentences = dict_files[key]\n",
    "        model.build_vocab(sentences, update=True)\n",
    "        model.train(sentences, total_examples = model.corpus_count, start_alpha = model.alpha, end_alpha = model.min_alpha, epochs = model.iter)\n",
    "        model.save(str(key)+\"_model.bin\")\n",
    "        print(\"Model saved, on to the next\\n\")\n",
    "            "
   ]
  },
  {
   "cell_type": "code",
   "execution_count": 30,
   "metadata": {},
   "outputs": [
    {
     "name": "stderr",
     "output_type": "stream",
     "text": [
      "C:\\ProgramData\\Anaconda3\\lib\\site-packages\\ipykernel_launcher.py:1: DeprecationWarning: Call to deprecated `most_similar` (Method will be removed in 4.0.0, use self.wv.most_similar() instead).\n",
      "  \"\"\"Entry point for launching an IPython kernel.\n",
      "C:\\ProgramData\\Anaconda3\\lib\\site-packages\\gensim\\matutils.py:737: FutureWarning: Conversion of the second argument of issubdtype from `int` to `np.signedinteger` is deprecated. In future, it will be treated as `np.int32 == np.dtype(int).type`.\n",
      "  if np.issubdtype(vec.dtype, np.int):\n"
     ]
    },
    {
     "data": {
      "text/plain": [
       "[('vredescongres', 0.8225009441375732),\n",
       " ('socialistencongres', 0.752448320388794),\n",
       " ('mijnwerkerscongres', 0.7478618621826172),\n",
       " ('scheepvaartcongres', 0.7212302684783936),\n",
       " ('conferentie', 0.7171242237091064),\n",
       " ('werkliedencongres', 0.7137492895126343),\n",
       " ('spoorwegcongres', 0.7119880318641663),\n",
       " ('arbeiderscongres', 0.7047224044799805),\n",
       " ('landbouwcongres', 0.696386456489563),\n",
       " ('comité', 0.6683982610702515),\n",
       " ('drukperscongres', 0.6552916765213013),\n",
       " ('internationaal', 0.6435959935188293),\n",
       " ('internationale', 0.6233999133110046),\n",
       " ('parlement', 0.62127685546875),\n",
       " ('privaatrecht', 0.6182724237442017),\n",
       " ('comitó', 0.6156867146492004),\n",
       " ('concilie', 0.6153684258460999),\n",
       " ('bondsbestuur', 0.6150569319725037),\n",
       " ('zangersfeest', 0.6139070987701416),\n",
       " ('muziekfeest', 0.6087690591812134)]"
      ]
     },
     "execution_count": 30,
     "metadata": {},
     "output_type": "execute_result"
    }
   ],
   "source": [
    "model.most_similar('congres',topn = 20)"
   ]
  },
  {
   "cell_type": "code",
   "execution_count": null,
   "metadata": {},
   "outputs": [],
   "source": []
  }
 ],
 "metadata": {
  "kernelspec": {
   "display_name": "Python 3",
   "language": "python",
   "name": "python3"
  },
  "language_info": {
   "codemirror_mode": {
    "name": "ipython",
    "version": 3
   },
   "file_extension": ".py",
   "mimetype": "text/x-python",
   "name": "python",
   "nbconvert_exporter": "python",
   "pygments_lexer": "ipython3",
   "version": "3.6.5"
  }
 },
 "nbformat": 4,
 "nbformat_minor": 2
}
