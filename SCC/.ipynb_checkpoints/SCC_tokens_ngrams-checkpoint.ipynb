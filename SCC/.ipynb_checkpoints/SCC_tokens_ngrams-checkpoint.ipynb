{
 "cells": [
  {
   "cell_type": "code",
   "execution_count": 1,
   "metadata": {},
   "outputs": [],
   "source": [
    "import csv\n",
    "import os\n",
    "import glob\n",
    "import pandas as pd"
   ]
  },
  {
   "cell_type": "code",
   "execution_count": null,
   "metadata": {},
   "outputs": [],
   "source": [
    "for file in list_csv:\n",
    "    \n",
    "    # Import \n",
    "    df = pd.read_csv(file, sep = \"\\t\")\n",
    "    df.date = df.date.str.slice(0, 5)\n",
    "    \n",
    "    for year in list(set(df.date)):\n",
    "        df_subset_year = df[df.date == year]\n",
    "        \n",
    "        list_sentok_articles_year = list()\n",
    "        \n",
    "        for i in range(0,(len(df_subset_year.ocr) - 1)):\n",
    "            \n",
    "            #Sentence Tokenize and Append to List\n",
    "            sentence_tokenized_article = tokenizer.sent_tokenize(df_subset_year.ocr[i])\n",
    "            list_sentok_articles_year.append(sentence_tokenized_article)\n",
    "            \n",
    "            # Word tokenize\n",
    "            word_tokenized_article = tokenizer.word_tokenize(df_subset_year.ocr[i])\n",
    "            \n",
    "            # Get ngrams from word_tokenized_article\n",
    "            unigrams = ngrams(input_df.ocr[i], n)\n",
    "            \n",
    "            \n",
    "            bigrams = \n",
    "            \n",
    "        \n",
    "        \n",
    "        # Write list of senttok articles to one file\n",
    "        \n",
    "        fn_list_articles = file.replace(\".csv\") + str(year)\n",
    "        foldername = csv[0:5]\n",
    "        path_fn = foldername + \"/\" + fn_list_articles\n",
    "        \n"
   ]
  }
 ],
 "metadata": {
  "kernelspec": {
   "display_name": "Python 3",
   "language": "python",
   "name": "python3"
  },
  "language_info": {
   "codemirror_mode": {
    "name": "ipython",
    "version": 3
   },
   "file_extension": ".py",
   "mimetype": "text/x-python",
   "name": "python",
   "nbconvert_exporter": "python",
   "pygments_lexer": "ipython3",
   "version": "3.6.5"
  }
 },
 "nbformat": 4,
 "nbformat_minor": 2
}
