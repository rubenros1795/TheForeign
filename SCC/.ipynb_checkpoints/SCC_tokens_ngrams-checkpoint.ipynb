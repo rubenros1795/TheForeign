{
 "cells": [
  {
   "cell_type": "code",
   "execution_count": 2,
   "metadata": {},
   "outputs": [],
   "source": [
    "import csv\n",
    "import os\n",
    "import glob\n",
    "import pandas as pd\n",
    "import nltk\n",
    "import string\n",
    "import re\n",
    "from nltk import ngrams\n",
    "import multiprocessing\n",
    "import time"
   ]
  },
  {
   "cell_type": "code",
   "execution_count": 4,
   "metadata": {},
   "outputs": [],
   "source": [
    "def clean_and_split_str(txt):\n",
    "    #strip_special_chars = re.compile(\"[^A-Za-z0-9#]+\")\n",
    "    translator = str.maketrans('', '', string.punctuation)\n",
    "    txt = txt.translate(translator)\n",
    "    txt = re.sub('\\s+', ' ', txt).strip()\n",
    "    txt = txt.lower()\n",
    "    return txt"
   ]
  },
  {
   "cell_type": "code",
   "execution_count": 5,
   "metadata": {},
   "outputs": [],
   "source": [
    "def find_ngrams(sentence, n_list):\n",
    "    \"\"\"Magic n-gram function.\"\"\"\n",
    "    inp, grams = sentence.split(), []\n",
    "    for n in n_list:\n",
    "      grams += [' '.join(x) for x in zip(*[inp[i:] for i in range(n)])]\n",
    "    return grams"
   ]
  },
  {
   "cell_type": "code",
   "execution_count": 7,
   "metadata": {},
   "outputs": [
    {
     "ename": "NameError",
     "evalue": "name '__file__' is not defined",
     "output_type": "error",
     "traceback": [
      "\u001b[1;31m---------------------------------------------------------------------------\u001b[0m",
      "\u001b[1;31mNameError\u001b[0m                                 Traceback (most recent call last)",
      "\u001b[1;32m<ipython-input-7-bbaa407f95e6>\u001b[0m in \u001b[0;36m<module>\u001b[1;34m()\u001b[0m\n\u001b[0;32m      1\u001b[0m \u001b[1;31m# Change to Dir of file\u001b[0m\u001b[1;33m\u001b[0m\u001b[1;33m\u001b[0m\u001b[0m\n\u001b[1;32m----> 2\u001b[1;33m \u001b[0mabspath\u001b[0m \u001b[1;33m=\u001b[0m \u001b[0mos\u001b[0m\u001b[1;33m.\u001b[0m\u001b[0mpath\u001b[0m\u001b[1;33m.\u001b[0m\u001b[0mabspath\u001b[0m\u001b[1;33m(\u001b[0m\u001b[0mos\u001b[0m\u001b[1;33m.\u001b[0m\u001b[0mpath\u001b[0m\u001b[1;33m.\u001b[0m\u001b[0mrealpath\u001b[0m\u001b[1;33m(\u001b[0m\u001b[0m__file__\u001b[0m\u001b[1;33m)\u001b[0m\u001b[1;33m)\u001b[0m\u001b[1;33m\u001b[0m\u001b[0m\n\u001b[0m\u001b[0;32m      3\u001b[0m \u001b[0mdname\u001b[0m \u001b[1;33m=\u001b[0m \u001b[0mabspath\u001b[0m\u001b[1;33m\u001b[0m\u001b[0m\n\u001b[0;32m      4\u001b[0m \u001b[0mos\u001b[0m\u001b[1;33m.\u001b[0m\u001b[0mchdir\u001b[0m\u001b[1;33m(\u001b[0m\u001b[0mdname\u001b[0m\u001b[1;33m)\u001b[0m\u001b[1;33m\u001b[0m\u001b[0m\n\u001b[0;32m      5\u001b[0m \u001b[1;31m#os.chdir(\"C://Users//Ruben//Documents//Scriptie//test-environment\")\u001b[0m\u001b[1;33m\u001b[0m\u001b[1;33m\u001b[0m\u001b[0m\n",
      "\u001b[1;31mNameError\u001b[0m: name '__file__' is not defined"
     ]
    }
   ],
   "source": [
    "# Change to Dir of file\n",
    "os.chdir(\"path\")\n",
    "list_csv = glob.glob(\"*.csv\")\n",
    "list_csv"
   ]
  },
  {
   "cell_type": "code",
   "execution_count": 32,
   "metadata": {},
   "outputs": [],
   "source": [
    "# Function for extracting ngrams and generating tokenized files\n",
    "\n",
    "def PreProcess(filename):\n",
    "    # Iterate over CSVs\n",
    "    df = pd.read_csv(filename, sep = \"\\t\")\n",
    "    print(filename + \" imported\")\n",
    "    \n",
    "    # Drop duplicates\n",
    "    lbf = len(df)\n",
    "    df = df.drop_duplicates(subset=['id'], keep='first')\n",
    "    laf = len(df)\n",
    "    print(str(lbf-laf) + \" duplicates dropped\")\n",
    "    \n",
    "    # Check av. number of articles per year\n",
    "    start_year = int(df.date[0][0:4])\n",
    "    end_year = int(df.date[len(df)-1][0:4])\n",
    "    \n",
    "    try:\n",
    "        aay = len(df) / (end_year - start_year) \n",
    "        if aay < 5000:\n",
    "            df.date = df.date.str.slice(0, 4)\n",
    "        if aay > 4999:\n",
    "            df.date = df.date.str.replace(\"/\", \"\")\n",
    "            df.date = df.date.str.slice(0, 6)\n",
    "            print('average number of articles/year = ', str(aay))\n",
    "\n",
    "    except ZeroDivisionError:\n",
    "        df.date = df.date.str.slice(0, 4)\n",
    "  \n",
    "        \n",
    "        \n",
    "    # Iterate over years\n",
    "    for year in sorted(list(set(df.date))):\n",
    "        df_subset_year = df[df.date == year]\n",
    "        df_subset_year = df_subset_year.reset_index(drop=True)\n",
    "        print(str(year) + \" = \" + str(len(df_subset_year)) + \" articles\")\n",
    "        bigram_df = pd.DataFrame()\n",
    "        unigram_df = pd.DataFrame()\n",
    "        \n",
    "        list_tok_articles_year = list()\n",
    "        \n",
    "        # Iterate over Articles in Subsetted CSV\n",
    "        for i in range(0,(len(df_subset_year.ocr) - 1)):\n",
    "            \n",
    "            \n",
    "            article = df_subset_year.ocr[i]\n",
    "            \n",
    "            tokens = clean_and_split_str(article)\n",
    "            list_tok_articles_year.append(tokens)\n",
    "            \n",
    "            \n",
    "            # Get ngrams from tokenized_article\n",
    "            list_ngrams = find_ngrams(tokens, [1,2])\n",
    "            list_unigrams = [word for word in list_ngrams if len(word.split(\" \")) == 1]\n",
    "            list_bigrams = [word for word in list_ngrams if len(word.split(\" \")) == 2]\n",
    "\n",
    "        \n",
    "            df_unigrams_article = pd.DataFrame(list_unigrams)\n",
    "            df_unigrams_article['year'] = year\n",
    "            df_unigrams_article['count'] = 1\n",
    "            df_unigrams_article.columns = ['ngram', 'year', 'count']\n",
    "            unigram_df = unigram_df.append(df_unigrams_article)\n",
    "            \n",
    "            \n",
    "            df_bigrams_article = pd.DataFrame(list_bigrams)\n",
    "            df_bigrams_article['year'] = year\n",
    "            df_bigrams_article['count'] = 1\n",
    "            df_bigrams_article.columns = ['ngram', 'year', 'count']\n",
    "            bigram_df = bigram_df.append(df_bigrams_article)\n",
    "            print(str(i) + \"/\" + str(len(df_subset_year)) + \": \" + df_subset_year.date[i] + \" \" + df_subset_year.id[i] + \" processed\")\n",
    "        \n",
    "        #Write list of senttok articles to one file\n",
    "        txt_name = filename[0:4] + \"_lines_\" + str(year) + \".txt\"\n",
    "                        \n",
    "        with open(txt_name, 'w') as f:\n",
    "            for item in list_tok_articles_year:\n",
    "                f.write(\"%s\\n\" % item)\n",
    "\n",
    "        \n",
    "        ## Group Ngram DFS\n",
    "        unigram_df = unigram_df.groupby(['ngram', 'year']).sum()\n",
    "        unigram_df = unigram_df.reset_index()\n",
    "        unigram_df = unigram_df[unigram_df['count'] > 1]\n",
    "        fn = filename[0:4] + \"_unigram_\" + str(year) + \".csv\"\n",
    "        unigram_df.to_csv(fn, index = False)\n",
    "    \n",
    "        bigram_df = bigram_df.groupby(['ngram', 'year']).sum()\n",
    "        bigram_df = bigram_df.reset_index()\n",
    "        bigram_df = bigram_df[bigram_df['count'] > 1]\n",
    "        fn = filename[0:4] + \"_\" + \"_bigram_\" + str(year) + \".csv\"\n",
    "        bigram_df.to_csv(fn, index = False)"
   ]
  }
 ],
 "metadata": {
  "kernelspec": {
   "display_name": "Python 3",
   "language": "python",
   "name": "python3"
  },
  "language_info": {
   "codemirror_mode": {
    "name": "ipython",
    "version": 3
   },
   "file_extension": ".py",
   "mimetype": "text/x-python",
   "name": "python",
   "nbconvert_exporter": "python",
   "pygments_lexer": "ipython3",
   "version": "3.6.5"
  }
 },
 "nbformat": 4,
 "nbformat_minor": 2
}
