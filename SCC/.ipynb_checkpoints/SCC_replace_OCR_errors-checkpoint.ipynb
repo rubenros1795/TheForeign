{
 "cells": [
  {
   "cell_type": "code",
   "execution_count": 4,
   "metadata": {},
   "outputs": [],
   "source": [
    "from nltk.tokenize import sent_tokenize\n",
    "from gensim.models import Word2Vec\n",
    "import nltk\n",
    "from nltk.tokenize import sent_tokenize\n",
    "from nltk.corpus import stopwords\n",
    "import glob\n",
    "import os\n",
    "from os import path\n",
    "import string\n",
    "import numpy\n",
    "import re\n",
    "from __future__ import absolute_import, division, print_function\n",
    "import pandas as pd\n",
    "import multiprocessing\n",
    "import gensim\n",
    "import editdistance"
   ]
  },
  {
   "cell_type": "code",
   "execution_count": 2,
   "metadata": {},
   "outputs": [
    {
     "name": "stderr",
     "output_type": "stream",
     "text": [
      "C:\\ProgramData\\Anaconda3\\lib\\site-packages\\IPython\\core\\interactiveshell.py:2785: DtypeWarning: Columns (1,2) have mixed types. Specify dtype option on import or set low_memory=False.\n",
      "  interactivity=interactivity, compiler=compiler, result=result)\n"
     ]
    }
   ],
   "source": [
    "os.chdir(\"C://Users//Ruben//Documents//Scriptie//Data//unigrams//output//years\")\n",
    "df_unigrams = pd.read_csv('total-unigrams.csv')\n",
    "\n",
    "## Define ED function\n",
    "def GetCloseED(master_df, search_term, len_restr):\n",
    "    output_list = list()\n",
    "    \n",
    "    subset_df = master_df[master_df.ngram.str[0] == search_term[0]]\n",
    "    \n",
    "    for word in list(subset_df.ngram):\n",
    "        ed = editdistance.eval(search_term, word)\n",
    "        if ed < 3:\n",
    "            output_list.append(word)\n",
    "    if len_restr == \"yes\":\n",
    "        output_list = [e for e in output_list if len(e) == len(search_term)]\n",
    "    return output_list\n",
    "\n",
    "def CleanLine(list_of_words, error_list, correct_term):\n",
    "    \n",
    "    list_words = list_of_words\n",
    "\n",
    "    if any(x in list_words for x in error_list) == True:\n",
    "        \n",
    "        error_pos = [w for w in list_words if w in error_list]\n",
    "        \n",
    "        for error in error_pos:\n",
    "            list_words[list_words.index(error)] = correct_term\n",
    "    \n",
    "    return list_words\n",
    "\n",
    "os.chdir(\"C:/Users/Ruben/Documents/Scriptie/Data/lines\")"
   ]
  },
  {
   "cell_type": "code",
   "execution_count": 7,
   "metadata": {},
   "outputs": [],
   "source": [
    "files = glob.glob('*.txt')\n",
    "files = files[0:3]"
   ]
  },
  {
   "cell_type": "code",
   "execution_count": 5,
   "metadata": {},
   "outputs": [],
   "source": [
    "alt_buit = GetCloseED(df_unigrams, 'buitenlandsche', 'yes')\n",
    "alt_int = GetCloseED(df_unigrams, 'internationale', 'yes')\n",
    "alt_binn = GetCloseED(df_unigrams, 'binnenlandsche', 'yes')\n",
    "alt_inl = GetCloseED(df_unigrams, 'inlandsche', 'yes')\n",
    "alt_vaderl = GetCloseED(df_unigrams, 'vaderlandsche', 'yes')\n",
    "alt_hol = GetCloseED(df_unigrams, 'hollandsche', 'yes')\n",
    "alt_ned = GetCloseED(df_unigrams, 'nederlandsche', 'yes')"
   ]
  },
  {
   "cell_type": "code",
   "execution_count": null,
   "metadata": {},
   "outputs": [],
   "source": []
  },
  {
   "cell_type": "code",
   "execution_count": 8,
   "metadata": {},
   "outputs": [],
   "source": [
    "sentences = list()\n",
    "\n",
    "for file in files:\n",
    "    with open(file, encoding = 'utf-8') as f:\n",
    "        content = f.readlines()\n",
    "        \n",
    "        for line in content:\n",
    "            line_s = line.split()\n",
    "            \n",
    "            line_s = CleanLine(line_s, alt_buit, 'buitenlandsche')\n",
    "            line_s = CleanLine(line_s, alt_int, 'internationale')\n",
    "            line_s = CleanLine(line_s, alt_binn, 'binnenlandsche')\n",
    "            line_s = CleanLine(line_s, alt_inl, 'inlandsche')\n",
    "            line_s = CleanLine(line_s, alt_vaderl, 'vaderlandsche')\n",
    "            line_s = CleanLine(line_s, alt_hol, 'hollandsche')\n",
    "            line_s = CleanLine(line_s, alt_ned, 'nederlandsche')\n",
    "    \n",
    "            output = line_s\n",
    "            sentences.append(output)"
   ]
  },
  {
   "cell_type": "code",
   "execution_count": 7,
   "metadata": {},
   "outputs": [
    {
     "data": {
      "text/plain": [
       "(610179583, 779077720)"
      ]
     },
     "execution_count": 7,
     "metadata": {},
     "output_type": "execute_result"
    }
   ],
   "source": [
    "model = Word2Vec(sentences, size=150, window=10, iter = 12, min_count=2, workers=3)\n",
    "model.train(sentences,total_examples=len(sentences),epochs=10)"
   ]
  },
  {
   "cell_type": "code",
   "execution_count": 38,
   "metadata": {},
   "outputs": [
    {
     "name": "stderr",
     "output_type": "stream",
     "text": [
      "C:\\ProgramData\\Anaconda3\\lib\\site-packages\\ipykernel_launcher.py:1: DeprecationWarning: Call to deprecated `most_similar` (Method will be removed in 4.0.0, use self.wv.most_similar() instead).\n",
      "  \"\"\"Entry point for launching an IPython kernel.\n",
      "C:\\ProgramData\\Anaconda3\\lib\\site-packages\\gensim\\matutils.py:737: FutureWarning: Conversion of the second argument of issubdtype from `int` to `np.signedinteger` is deprecated. In future, it will be treated as `np.int32 == np.dtype(int).type`.\n",
      "  if np.issubdtype(vec.dtype, np.int):\n"
     ]
    },
    {
     "data": {
      "text/plain": [
       "[('nederlandsehe', 0.8535203337669373),\n",
       " ('nederiandsche', 0.8201148509979248),\n",
       " ('nederlaudsche', 0.7724897861480713),\n",
       " ('nederlandsclie', 0.7328601479530334),\n",
       " ('nederlandfche', 0.6777023673057556),\n",
       " ('hollandsche', 0.6751219630241394),\n",
       " ('nedcrlandsche', 0.663058340549469),\n",
       " ('nederlandscbe', 0.6316655278205872),\n",
       " ('nederlandche', 0.6214479207992554),\n",
       " ('nedeilandsche', 0.6212825179100037),\n",
       " ('nederlandschc', 0.6138210296630859),\n",
       " ('nederlandsch', 0.5941223502159119),\n",
       " ('hollandsehe', 0.5668786764144897),\n",
       " ('belgische', 0.554529070854187),\n",
       " ('ederlandsche', 0.548736572265625),\n",
       " ('holiandsche', 0.5453778505325317),\n",
       " ('nederïandsche', 0.5441073179244995),\n",
       " ('nderlandsche', 0.5402993559837341),\n",
       " ('derlandsche', 0.5396106839179993),\n",
       " ('nederlandscho', 0.5384852290153503),\n",
       " ('noordnederlandsche', 0.5336122512817383),\n",
       " ('ncderlandsche', 0.5332657098770142),\n",
       " ('nederl', 0.524591863155365),\n",
       " ('fransehe', 0.5229189991950989),\n",
       " ('denederlandsche', 0.5182740688323975),\n",
       " ('nederlandschen', 0.5164543390274048),\n",
       " ('britsche', 0.5107466578483582),\n",
       " ('inederlandsche', 0.5106462836265564),\n",
       " ('pruissische', 0.5065663456916809),\n",
       " ('haagsche', 0.5010197758674622),\n",
       " ('amsterdamsche', 0.5003702044487),\n",
       " ('nederlands', 0.49824243783950806),\n",
       " ('nederjandsche', 0.49501606822013855),\n",
       " ('nederlandse', 0.493297815322876),\n",
       " ('willers', 0.49196815490722656),\n",
       " ('nederlandsen', 0.48931485414505005),\n",
       " ('hollaudsche', 0.4828123450279236),\n",
       " ('beigische', 0.4821006655693054),\n",
       " ('nederlandsohe', 0.4814617335796356),\n",
       " ('chinesche', 0.4794785678386688),\n",
       " ('nederiandfche', 0.4781036972999573),\n",
       " ('prüissische', 0.4770400822162628),\n",
       " ('hollandsclie', 0.4727761447429657),\n",
       " ('fransche', 0.4692308306694031),\n",
       " ('llollandsche', 0.4688871502876282),\n",
       " ('nederlandsché', 0.4632980525493622),\n",
       " ('russisebe', 0.459791898727417),\n",
       " ('nederlandiche', 0.45535388588905334),\n",
       " ('hoilandsche', 0.45326799154281616),\n",
       " ('hollandsch', 0.44751793146133423),\n",
       " ('francbe', 0.44477787613868713),\n",
       " ('nedèrlandsche', 0.4439848065376282),\n",
       " ('engelsche', 0.4411659240722656),\n",
       " ('russische', 0.4405228793621063),\n",
       " ('rotterdamsche', 0.43943968415260315),\n",
       " ('iransche', 0.43895506858825684),\n",
       " ('ned', 0.4383092522621155),\n",
       " ('indische', 0.4373107850551605),\n",
       " ('aangebrtgt', 0.4367866814136505),\n",
       " ('nederlandsciie', 0.4358886182308197),\n",
       " ('hollandscbe', 0.435398131608963),\n",
       " ('franscbe', 0.43308213353157043),\n",
       " ('belgisch', 0.4321777820587158),\n",
       " ('amerikaanscbe', 0.4288199245929718),\n",
       " ('engclsehe', 0.42838189005851746),\n",
       " ('oudnederlandsche', 0.4274250268936157),\n",
       " ('belgifche', 0.42544347047805786),\n",
       " ('nederlanden', 0.42538711428642273),\n",
       " ('nederland', 0.42378607392311096),\n",
       " ('piuissisehe', 0.4207919239997864),\n",
       " ('defransche', 0.420267254114151),\n",
       " ('hoilandsch', 0.41996392607688904),\n",
       " ('vreemde', 0.419175922870636),\n",
       " ('eransche', 0.4187476336956024),\n",
       " ('nederlandjche', 0.41783735156059265),\n",
       " ('diiemast', 0.41619470715522766),\n",
       " ('nedetiandsche', 0.4159441590309143),\n",
       " ('franiche', 0.4156988859176636),\n",
       " ('nederlaudsclie', 0.4152766466140747),\n",
       " ('fraiische', 0.4124964475631714),\n",
       " ('hollandschen', 0.4123099446296692),\n",
       " ('franscho', 0.4101954996585846),\n",
       " ('landsche', 0.4101511836051941),\n",
       " ('vaderlandsche', 0.40885135531425476),\n",
       " ('pruissisehe', 0.4072263538837433),\n",
       " ('fiansche', 0.4066542387008667),\n",
       " ('pruissischë', 0.40661531686782837),\n",
       " ('sleepdieust', 0.40490198135375977),\n",
       " ('grootbritannische', 0.4036809802055359),\n",
       " ('antwerpsche', 0.4029400646686554),\n",
       " ('werkaamheid', 0.40293681621551514),\n",
       " ('nederlandsen»', 0.4024180471897125),\n",
       " ('pniissische', 0.4023117423057556),\n",
       " ('nederlandsdie', 0.4014008343219757),\n",
       " ('fransebe', 0.4012347459793091),\n",
       " ('•landsche', 0.4005945026874542),\n",
       " ('neérlands', 0.40055450797080994),\n",
       " ('haiioversche', 0.40012258291244507),\n",
       " ('lollandsche', 0.39986729621887207),\n",
       " ('frausche', 0.3989802300930023)]"
      ]
     },
     "execution_count": 38,
     "metadata": {},
     "output_type": "execute_result"
    }
   ],
   "source": [
    "model.most_similar('nederlandsche', topn=100)"
   ]
  },
  {
   "cell_type": "code",
   "execution_count": 31,
   "metadata": {
    "collapsed": true
   },
   "outputs": [
    {
     "name": "stderr",
     "output_type": "stream",
     "text": [
      "C:\\ProgramData\\Anaconda3\\lib\\site-packages\\ipykernel_launcher.py:1: DeprecationWarning: Call to deprecated `most_similar` (Method will be removed in 4.0.0, use self.wv.most_similar() instead).\n",
      "  \"\"\"Entry point for launching an IPython kernel.\n",
      "C:\\ProgramData\\Anaconda3\\lib\\site-packages\\gensim\\matutils.py:737: FutureWarning: Conversion of the second argument of issubdtype from `int` to `np.signedinteger` is deprecated. In future, it will be treated as `np.int32 == np.dtype(int).type`.\n",
      "  if np.issubdtype(vec.dtype, np.int):\n"
     ]
    },
    {
     "data": {
      "text/plain": [
       "[('volken', 0.5610907077789307),\n",
       " ('europeesche', 0.5482728481292725),\n",
       " ('dio', 0.5427665710449219),\n",
       " ('beschaving', 0.5416088700294495),\n",
       " ('christelijke', 0.5330950617790222),\n",
       " ('onbeschaafde', 0.5263736248016357),\n",
       " ('allo', 0.525780439376831),\n",
       " ('beschaafd', 0.521916925907135),\n",
       " ('geregeerde', 0.5046594142913818),\n",
       " ('wereld', 0.4942510426044464),\n",
       " ('volk', 0.48322173953056335),\n",
       " ('land', 0.4740528464317322),\n",
       " ('volkeren', 0.47323882579803467),\n",
       " ('vormen', 0.47317638993263245),\n",
       " ('dergelijke', 0.47101566195487976),\n",
       " ('volkenrecht', 0.46140149235725403),\n",
       " ('wreedheid', 0.46085941791534424),\n",
       " ('vreemde', 0.45902812480926514),\n",
       " ('gevoel', 0.4581528902053833),\n",
       " ('menschheid', 0.4546874761581421),\n",
       " ('onafhankelijke', 0.4543529748916626),\n",
       " ('moderne', 0.4532865285873413),\n",
       " ('dier', 0.45157650113105774),\n",
       " ('westersche', 0.4507651925086975),\n",
       " ('europa', 0.4490297734737396),\n",
       " ('machtigste', 0.4480765461921692),\n",
       " ('godsdienst', 0.4454144239425659),\n",
       " ('mohammedaansche', 0.4437602162361145),\n",
       " ('barbaarsche', 0.44349974393844604),\n",
       " ('eerbied', 0.44289782643318176)]"
      ]
     },
     "execution_count": 31,
     "metadata": {},
     "output_type": "execute_result"
    }
   ],
   "source": [
    "pd.DataFrame(model.most_similar(\"beschaafde\", topn=30)).iloc[:0]"
   ]
  },
  {
   "cell_type": "code",
   "execution_count": null,
   "metadata": {},
   "outputs": [],
   "source": [
    "model.wv.save_word2vec_format(\"model-nationale.bin\", binary=True)"
   ]
  }
 ],
 "metadata": {
  "kernelspec": {
   "display_name": "Python 3",
   "language": "python",
   "name": "python3"
  },
  "language_info": {
   "codemirror_mode": {
    "name": "ipython",
    "version": 3
   },
   "file_extension": ".py",
   "mimetype": "text/x-python",
   "name": "python",
   "nbconvert_exporter": "python",
   "pygments_lexer": "ipython3",
   "version": "3.6.5"
  }
 },
 "nbformat": 4,
 "nbformat_minor": 2
}
