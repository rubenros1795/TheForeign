{
 "cells": [
  {
   "cell_type": "code",
   "execution_count": 38,
   "metadata": {},
   "outputs": [],
   "source": [
    "import re, os, glob, pandas as pd\n",
    "import editdistance\n",
    "import sys"
   ]
  },
  {
   "cell_type": "code",
   "execution_count": 39,
   "metadata": {
    "scrolled": true
   },
   "outputs": [
    {
     "name": "stderr",
     "output_type": "stream",
     "text": [
      "C:\\ProgramData\\Anaconda3\\lib\\site-packages\\IPython\\core\\interactiveshell.py:2785: DtypeWarning: Columns (1,2) have mixed types. Specify dtype option on import or set low_memory=False.\n",
      "  interactivity=interactivity, compiler=compiler, result=result)\n"
     ]
    }
   ],
   "source": [
    "## Import token totals\n",
    "os.chdir(\"C://Users//Ruben//Documents//GitHub//TheForeign//SCC//output-data\")\n",
    "token_totals = pd.read_csv('tokens_year.csv')\n",
    "\n",
    "## Import Master DF\n",
    "os.chdir(\"C://Users//Ruben//Documents//Scriptie//Data//cngwf//output//years\")\n",
    "df = pd.read_csv('total-unigrams.csv')\n",
    "\n",
    "## Define ED function\n",
    "def GetCloseED(master_df, search_term, len_restr):\n",
    "    output_list = list()\n",
    "    \n",
    "    subset_df = master_df[master_df.ngram.str[0] == search_term[0]]\n",
    "    \n",
    "    for word in list(subset_df.ngram):\n",
    "        ed = editdistance.eval(search_term, word)\n",
    "        if ed < 3:\n",
    "            output_list.append(word)\n",
    "    if len_restr == \"yes\":\n",
    "        output_list = [e for e in output_list if len(e) == len(search_term)]\n",
    "    return output_list"
   ]
  },
  {
   "cell_type": "code",
   "execution_count": 40,
   "metadata": {},
   "outputs": [],
   "source": [
    "### Give Arguments\n",
    "\n",
    "search_term = \"internationale\"\n",
    "len_restr = \"yes\""
   ]
  },
  {
   "cell_type": "code",
   "execution_count": 41,
   "metadata": {},
   "outputs": [],
   "source": [
    "df = df[df.ngram.isin(GetCloseED(df, search_term, len_restr))]\n",
    "df = df.reset_index(drop=True)\n",
    "df = df.dropna()\n",
    "df['year'] = df['year'].astype(int)\n",
    "df = df.pivot(index='ngram', columns='year', values='count')\n",
    "df = df.fillna(0)\n",
    "df.columns = df.columns.astype(str)"
   ]
  },
  {
   "cell_type": "code",
   "execution_count": 42,
   "metadata": {
    "scrolled": true
   },
   "outputs": [],
   "source": [
    "list_sums = dict()\n",
    "\n",
    "for i in list(df.columns):\n",
    "    tmp = sum(df[i].astype(int))\n",
    "    tmp = {i:tmp}\n",
    "    list_sums.update(tmp)\n",
    "    \n",
    "df_sums = pd.DataFrame(list(list_sums.keys()))\n",
    "df_sums['counts'] = list(list_sums.values())\n",
    "df_sums.columns = ['years', 'counts']"
   ]
  },
  {
   "cell_type": "code",
   "execution_count": 43,
   "metadata": {},
   "outputs": [
    {
     "name": "stderr",
     "output_type": "stream",
     "text": [
      "C:\\ProgramData\\Anaconda3\\lib\\site-packages\\ipykernel_launcher.py:12: SettingWithCopyWarning: \n",
      "A value is trying to be set on a copy of a slice from a DataFrame\n",
      "\n",
      "See the caveats in the documentation: http://pandas.pydata.org/pandas-docs/stable/indexing.html#indexing-view-versus-copy\n",
      "  if sys.path[0] == '':\n"
     ]
    }
   ],
   "source": [
    "token_totals['ngram'] = ''\n",
    "\n",
    "for i in range(0,len(token_totals)):\n",
    "    year = token_totals.year[i]\n",
    "    matching_df = df_sums[df_sums.years == str(year)]\n",
    "    \n",
    "    if len(matching_df) == 0:\n",
    "        count = 0\n",
    "    else:\n",
    "        count = matching_df.iloc[0,1]\n",
    "    \n",
    "    token_totals.ngram[i] = count\n",
    "    "
   ]
  },
  {
   "cell_type": "code",
   "execution_count": 44,
   "metadata": {},
   "outputs": [],
   "source": [
    "token_totals['ngram'] = token_totals['ngram'] / token_totals['tokens'] * 100"
   ]
  },
  {
   "cell_type": "code",
   "execution_count": 45,
   "metadata": {},
   "outputs": [],
   "source": [
    "os.chdir(\"C://Users//Ruben//Documents//GitHub//TheForeign//SCC//output-data\")"
   ]
  },
  {
   "cell_type": "code",
   "execution_count": 47,
   "metadata": {},
   "outputs": [],
   "source": [
    "filename = \"unigrams_\" + search_term + \".csv\"\n",
    "token_totals.to_csv(filename, index=False)"
   ]
  }
 ],
 "metadata": {
  "kernelspec": {
   "display_name": "Python 3",
   "language": "python",
   "name": "python3"
  },
  "language_info": {
   "codemirror_mode": {
    "name": "ipython",
    "version": 3
   },
   "file_extension": ".py",
   "mimetype": "text/x-python",
   "name": "python",
   "nbconvert_exporter": "python",
   "pygments_lexer": "ipython3",
   "version": "3.6.5"
  }
 },
 "nbformat": 4,
 "nbformat_minor": 2
}
