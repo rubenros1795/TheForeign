{
 "cells": [
  {
   "cell_type": "code",
   "execution_count": 1,
   "metadata": {},
   "outputs": [],
   "source": [
    "import csv\n",
    "import os\n",
    "import glob\n",
    "import pandas as pd\n",
    "import nltk\n",
    "import string\n",
    "import re\n",
    "from nltk import ngrams\n",
    "import multiprocessing\n",
    "import time\n",
    "import numpy as np"
   ]
  },
  {
   "cell_type": "code",
   "execution_count": 2,
   "metadata": {},
   "outputs": [],
   "source": [
    "os.chdir(\"C://Users//Ruben//Documents//Scriptie//Data//cngwf\")\n",
    "list_csv = glob.glob(\"*.csv\")"
   ]
  },
  {
   "cell_type": "code",
   "execution_count": null,
   "metadata": {},
   "outputs": [],
   "source": [
    "def Combine(npp):\n",
    "    list_files_npp = [s for s in list_csv if npp in s]\n",
    "    ngrams_npp = pd.concat( [ pd.read_csv(f) for f in list_files_npp ] )\n",
    "    \n",
    "    ngrams_npp[\"year\"] = ngrams_npp[\"year\"].astype(str)\n",
    "    ngrams_npp['year'] = ngrams_npp.year.str[0:4]\n",
    "        \n",
    "    ngrams_npp['year'] = ngrams_npp['year'].astype(int)\n",
    "    ngrams_npp = pd.pivot_table(ngrams_npp, values='count', index=['ngram'], columns=['year'], aggfunc=np.sum)\n",
    "    \n",
    "    os.chdir(\"C://Users//Ruben//Documents//Scriptie//Data//cngwf//output\")\n",
    "    filename = name + \"_bigrams.csv\"\n",
    "    ngrams_npp.to_csv(filename)\n",
    "    print('one unigram combination iteration finished for: ' + name)"
   ]
  },
  {
   "cell_type": "code",
   "execution_count": null,
   "metadata": {},
   "outputs": [],
   "source": [
    "Combine('algh')"
   ]
  }
 ],
 "metadata": {
  "kernelspec": {
   "display_name": "Python 3",
   "language": "python",
   "name": "python3"
  },
  "language_info": {
   "codemirror_mode": {
    "name": "ipython",
    "version": 3
   },
   "file_extension": ".py",
   "mimetype": "text/x-python",
   "name": "python",
   "nbconvert_exporter": "python",
   "pygments_lexer": "ipython3",
   "version": "3.6.5"
  }
 },
 "nbformat": 4,
 "nbformat_minor": 2
}
