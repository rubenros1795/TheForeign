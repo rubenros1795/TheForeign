{
 "cells": [
  {
   "cell_type": "code",
   "execution_count": 30,
   "metadata": {},
   "outputs": [],
   "source": [
    "import csv\n",
    "import os\n",
    "import glob\n",
    "import pandas as pd\n",
    "import nltk\n",
    "import string\n",
    "import re\n",
    "from nltk import ngrams\n",
    "import multiprocessing\n",
    "import time\n",
    "import numpy as np\n",
    "from math import floor"
   ]
  },
  {
   "cell_type": "code",
   "execution_count": 27,
   "metadata": {},
   "outputs": [
    {
     "data": {
      "text/plain": [
       "8511"
      ]
     },
     "execution_count": 27,
     "metadata": {},
     "output_type": "execute_result"
    }
   ],
   "source": [
    "os.chdir(\"C://Users//Ruben//Documents//Scriptie//Data//cngwf\")\n",
    "list_csv = glob.glob(\"*.csv\")\n",
    "len(list_csv)"
   ]
  },
  {
   "cell_type": "code",
   "execution_count": 8,
   "metadata": {},
   "outputs": [],
   "source": [
    "# Create Bigram Files Per Newspaper\n",
    "\n",
    "def Conc(name):    \n",
    "    list_files_npp = [s for s in list_csv if name in s]\n",
    "    print(len(list_files_npp))\n",
    "    ngrams_npp = pd.concat( [ pd.read_csv(f) for f in list_files_npp ] )\n",
    "    \n",
    "    ngrams_npp[\"year\"] = ngrams_npp[\"year\"].astype(str)\n",
    "    ngrams_npp['year'] = ngrams_npp.year.str[0:4]\n",
    "    \n",
    "    #if (len(list_files_npp) < 500):\n",
    "    filename = name + \"_special_bigrams.csv\"\n",
    "    #ngrams_npp['year'] = ngrams_npp['year'].astype(int)\n",
    "    #    ngrams_npp = pd.pivot_table(ngrams_npp, values='count', index=['ngram'], columns=['year'], aggfunc=np.sum)\n",
    "    #else:\n",
    "    #    filename = name + \"_bigrams.csv\"\n",
    "    \n",
    "    os.chdir(\"C://Users//Ruben//Documents//Scriptie//Data//cngwf//output\")\n",
    "    ngrams_npp.to_csv(filename)\n",
    "    os.chdir(\"C://Users//Ruben//Documents//Scriptie//Data//cngwf\")\n",
    "    print('one unigram combination finished for: ' + name)"
   ]
  },
  {
   "cell_type": "code",
   "execution_count": 16,
   "metadata": {},
   "outputs": [
    {
     "name": "stdout",
     "output_type": "stream",
     "text": [
      "534\n",
      "one unigram combination finished for: nvdd\n"
     ]
    }
   ],
   "source": [
    "Conc('nvdd')"
   ]
  },
  {
   "cell_type": "code",
   "execution_count": 28,
   "metadata": {
    "collapsed": true
   },
   "outputs": [
    {
     "data": {
      "text/plain": [
       "['1815',\n",
       " '1816',\n",
       " '1817',\n",
       " '1818',\n",
       " '1819',\n",
       " '1820',\n",
       " '1821',\n",
       " '1822',\n",
       " '1823',\n",
       " '1824',\n",
       " '1825',\n",
       " '1826',\n",
       " '1827',\n",
       " '1828',\n",
       " '1829',\n",
       " '1830',\n",
       " '1831',\n",
       " '1832',\n",
       " '1833',\n",
       " '1834',\n",
       " '1835',\n",
       " '1836',\n",
       " '1837',\n",
       " '1838',\n",
       " '1839',\n",
       " '1840',\n",
       " '1841',\n",
       " '1842',\n",
       " '1843',\n",
       " '1844',\n",
       " '1845',\n",
       " '1846',\n",
       " '1847',\n",
       " '1848',\n",
       " '1849',\n",
       " '1850',\n",
       " '1851',\n",
       " '1852',\n",
       " '1853',\n",
       " '1854',\n",
       " '1855',\n",
       " '1856',\n",
       " '1857',\n",
       " '1858',\n",
       " '1859',\n",
       " '1860',\n",
       " '1861',\n",
       " '1862',\n",
       " '1863',\n",
       " '1864',\n",
       " '1865',\n",
       " '1866',\n",
       " '1867',\n",
       " '1868',\n",
       " '1869',\n",
       " '1870',\n",
       " '1871',\n",
       " '1872',\n",
       " '1873',\n",
       " '1874',\n",
       " '1875',\n",
       " '1876',\n",
       " '1877',\n",
       " '1878',\n",
       " '1879',\n",
       " '1880',\n",
       " '1881',\n",
       " '1882',\n",
       " '1883',\n",
       " '1884',\n",
       " '1885',\n",
       " '1886',\n",
       " '1887',\n",
       " '1888',\n",
       " '1889',\n",
       " '1890',\n",
       " '1891',\n",
       " '1892',\n",
       " '1893',\n",
       " '1894',\n",
       " '1895',\n",
       " '1896',\n",
       " '1897',\n",
       " '1898',\n",
       " '1899',\n",
       " '1900',\n",
       " '1901',\n",
       " '1902',\n",
       " '1903',\n",
       " '1904',\n",
       " '1905',\n",
       " '1906',\n",
       " '1907',\n",
       " '1908',\n",
       " '1909',\n",
       " '1910',\n",
       " '1911',\n",
       " '1912',\n",
       " '1913',\n",
       " '1914']"
      ]
     },
     "execution_count": 28,
     "metadata": {},
     "output_type": "execute_result"
    }
   ],
   "source": [
    "# Create Bigram Files per Year\n",
    "list_years = sorted(list(set([s[12:16] for s in list_csv])))\n",
    "list_years"
   ]
  },
  {
   "cell_type": "code",
   "execution_count": 29,
   "metadata": {},
   "outputs": [],
   "source": [
    "# This produces bigram files per year\n",
    "\n",
    "for year in list_years:\n",
    "    tmp_list = [s for s in list_csv if s[12:16] == year]\n",
    "    df = pd.concat( [ pd.read_csv(f) for f in tmp_list ] )\n",
    "    df[\"year\"] = df[\"year\"].astype(str)\n",
    "    df['year'] = df.year.str[0:4]\n",
    "    filename = year + 'bigrams.csv'\n",
    "    df.to_csv(filename)"
   ]
  },
  {
   "cell_type": "code",
   "execution_count": 128,
   "metadata": {},
   "outputs": [
    {
     "name": "stdout",
     "output_type": "stream",
     "text": [
      "decade: 1810 finished\n"
     ]
    }
   ],
   "source": [
    "\n",
    "# There is too much data, therefore, first concatenate per decade\n",
    "list_year_csv = glob.glob('*bigrams.csv')\n",
    "list_decades = list(range(1810,1820,10))\n",
    "\n",
    "for decade in list_decades:\n",
    "    tmp_list = [f for f in list_year_csv if np.floor(int(f[0:4]) / 10) * 10 == decade]\n",
    "    \n",
    "    decade_df = pd.DataFrame(columns = ['ngram', 'year', 'count'])\n",
    "    \n",
    "    for file in tmp_list:\n",
    "        tmp_df = pd.read_csv(file)\n",
    "        tmp_df = tmp_df.groupby(['ngram','year']).agg('sum')\n",
    "        tmp_df = tmp_df.stack().reset_index().drop('level_2', axis = 1)\n",
    "        tmp_df.columns = ['ngram', 'year', 'count']\n",
    "        decade_df = pd.concat([decade_df, tmp_df])\n",
    "\n",
    "    filename = 'd' + str(decade) + '_' + 'bigrams.csv'\n",
    "    decade_df.to_csv(filename, index = False)\n",
    "    print('decade: ' + str(decade) + ' finished')"
   ]
  },
  {
   "cell_type": "code",
   "execution_count": null,
   "metadata": {},
   "outputs": [],
   "source": [
    "list_year_csv = glob.glob('*bigrams.csv')\n",
    "\n",
    "for file in list_year_csv:\n",
    "        tmp_df = pd.read_csv(file)\n",
    "        tmp_df = tmp_df.groupby(['ngram','year']).agg('sum')\n",
    "        tmp_df = tmp_df.stack().reset_index().drop('level_2', axis = 1)\n",
    "        tmp_df.columns = ['ngram', 'year', 'count']\n",
    "        filename = file[0:4] + 'bigrams_clean.csv'\n",
    "        tmp_df.to_csv(filename, index = False)\n"
   ]
  },
  {
   "cell_type": "code",
   "execution_count": null,
   "metadata": {},
   "outputs": [],
   "source": []
  }
 ],
 "metadata": {
  "kernelspec": {
   "display_name": "Python 3",
   "language": "python",
   "name": "python3"
  },
  "language_info": {
   "codemirror_mode": {
    "name": "ipython",
    "version": 3
   },
   "file_extension": ".py",
   "mimetype": "text/x-python",
   "name": "python",
   "nbconvert_exporter": "python",
   "pygments_lexer": "ipython3",
   "version": "3.6.5"
  }
 },
 "nbformat": 4,
 "nbformat_minor": 2
}
