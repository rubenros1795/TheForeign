{
 "cells": [
  {
   "cell_type": "code",
   "execution_count": 1,
   "metadata": {},
   "outputs": [
    {
     "name": "stderr",
     "output_type": "stream",
     "text": [
      "C:\\ProgramData\\Anaconda3\\lib\\site-packages\\gensim\\utils.py:1212: UserWarning: detected Windows; aliasing chunkize to chunkize_serial\n",
      "  warnings.warn(\"detected Windows; aliasing chunkize to chunkize_serial\")\n"
     ]
    }
   ],
   "source": [
    "from nltk.tokenize import sent_tokenize\n",
    "from gensim.models import Word2Vec\n",
    "import nltk\n",
    "from nltk.tokenize import sent_tokenize\n",
    "from nltk.corpus import stopwords\n",
    "import glob\n",
    "import os\n",
    "from os import path\n",
    "import string\n",
    "import numpy\n",
    "import re\n",
    "from __future__ import absolute_import, division, print_function\n",
    "import pandas as pd\n",
    "import multiprocessing\n",
    "import gensim\n",
    "import random\n",
    "from tqdm import tqdm\n",
    "from sklearn.manifold import TSNE\n",
    "from gensim.models import KeyedVectors\n",
    "import numpy as np"
   ]
  },
  {
   "cell_type": "code",
   "execution_count": 3,
   "metadata": {},
   "outputs": [
    {
     "data": {
      "text/plain": [
       "['period_sample_1865.txt',\n",
       " 'period_sample_1875.txt',\n",
       " 'period_sample_1885.txt',\n",
       " 'period_sample_1895.txt',\n",
       " 'period_sample_1905.txt']"
      ]
     },
     "execution_count": 3,
     "metadata": {},
     "output_type": "execute_result"
    }
   ],
   "source": [
    "os.chdir(\"D://Scriptie//Data//lines//cleaned\")\n",
    "list_sample_txt = glob.glob('*.txt')\n",
    "list_sample_txt = [f for f in list_sample_txt if f[0:4] == 'peri']\n",
    "list_sample_txt = list_sample_txt[5:10]\n",
    "list_sample_txt"
   ]
  },
  {
   "cell_type": "code",
   "execution_count": 4,
   "metadata": {},
   "outputs": [],
   "source": [
    "def Txt_Lines(txt):\n",
    "    with open(txt, encoding = 'utf-8') as f:\n",
    "            content = f.read().split('\\n')\n",
    "    \n",
    "    lines = list()\n",
    "    \n",
    "    for line in content:\n",
    "        tmp = line.split(' ')\n",
    "        lines.append(tmp)\n",
    "    \n",
    "    return lines"
   ]
  },
  {
   "cell_type": "code",
   "execution_count": 5,
   "metadata": {},
   "outputs": [
    {
     "name": "stdout",
     "output_type": "stream",
     "text": [
      "period_sample_1865.txt modelled\n",
      "period_sample_1875.txt modelled\n",
      "period_sample_1885.txt modelled\n",
      "period_sample_1895.txt modelled\n",
      "period_sample_1905.txt modelled\n"
     ]
    }
   ],
   "source": [
    "for txt in list_sample_txt:\n",
    "    sentences = Txt_Lines(txt)\n",
    "    model = Word2Vec(sentences, size=150, window=12, iter = 5, min_count=100, workers=6)\n",
    "    model.train(sentences,total_examples=len(sentences), epochs=10)\n",
    "    model.wv.save_word2vec_format(txt[14:18] +\"_static_model.bin\", binary=True)\n",
    "    print(txt + ' modelled')"
   ]
  },
  {
   "cell_type": "code",
   "execution_count": 7,
   "metadata": {},
   "outputs": [
    {
     "name": "stderr",
     "output_type": "stream",
     "text": [
      "C:\\ProgramData\\Anaconda3\\lib\\site-packages\\ipykernel_launcher.py:1: DeprecationWarning: Call to deprecated `most_similar` (Method will be removed in 4.0.0, use self.wv.most_similar() instead).\n",
      "  \"\"\"Entry point for launching an IPython kernel.\n",
      "C:\\ProgramData\\Anaconda3\\lib\\site-packages\\gensim\\matutils.py:737: FutureWarning: Conversion of the second argument of issubdtype from `int` to `np.signedinteger` is deprecated. In future, it will be treated as `np.int32 == np.dtype(int).type`.\n",
      "  if np.issubdtype(vec.dtype, np.int):\n"
     ]
    },
    {
     "data": {
      "text/plain": [
       "[('duitschland', 0.5407097935676575),\n",
       " ('nederland', 0.5337533354759216),\n",
       " ('duitsohland', 0.5188031792640686),\n",
       " ('belgië', 0.5126810669898987),\n",
       " ('engeland', 0.5000225305557251),\n",
       " ('buitenlandsche', 0.49754172563552856),\n",
       " ('duitechland', 0.4850339889526367),\n",
       " ('duitsehland', 0.4811227023601532),\n",
       " ('duitschiand', 0.4749215543270111),\n",
       " ('amerika', 0.4608646035194397),\n",
       " ('binnenland', 0.45768994092941284),\n",
       " ('frankrijk', 0.4542026221752167),\n",
       " ('buiteni', 0.4495086073875427),\n",
       " ('land', 0.43977653980255127),\n",
       " ('zwitserland', 0.43865296244621277),\n",
       " ('duiteche', 0.43229857087135315),\n",
       " ('handelsverkeer', 0.4252898395061493),\n",
       " ('canada', 0.4195053279399872),\n",
       " ('rusland', 0.41424164175987244),\n",
       " ('europa', 0.4036165475845337)]"
      ]
     },
     "execution_count": 7,
     "metadata": {},
     "output_type": "execute_result"
    }
   ],
   "source": [
    "model.most_similar('buitenland',topn=20)"
   ]
  },
  {
   "cell_type": "code",
   "execution_count": 2,
   "metadata": {},
   "outputs": [
    {
     "data": {
      "text/plain": [
       "18"
      ]
     },
     "execution_count": 2,
     "metadata": {},
     "output_type": "execute_result"
    }
   ],
   "source": [
    "os.chdir(\"D://Scriptie//Data//lines//cleaned\")\n",
    "list_mod = glob.glob('*_static_model.bin')\n",
    "len(list_mod)"
   ]
  },
  {
   "cell_type": "code",
   "execution_count": 3,
   "metadata": {},
   "outputs": [],
   "source": [
    "def smart_procrustes_align_gensim(base_embed, other_embed, words=None):\n",
    "\t# patch by Richard So [https://twitter.com/richardjeanso) (thanks!) to update this code for new version of gensim\n",
    "\tbase_embed.init_sims()\n",
    "\tother_embed.init_sims()\n",
    "\n",
    "\t# make sure vocabulary and indices are aligned\n",
    "\tin_base_embed, in_other_embed = intersection_align_gensim(base_embed, other_embed, words=words)\n",
    "\n",
    "\t# get the embedding matrices\n",
    "\tbase_vecs = in_base_embed.syn0norm\n",
    "\tother_vecs = in_other_embed.syn0norm\n",
    "\n",
    "\t# just a matrix dot product with numpy\n",
    "\tm = other_vecs.T.dot(base_vecs) \n",
    "\t# SVD method from numpy\n",
    "\tu, _, v = np.linalg.svd(m)\n",
    "\t# another matrix operation\n",
    "\tortho = u.dot(v) \n",
    "\t# Replace original array with modified one\n",
    "\t# i.e. multiplying the embedding matrix (syn0norm)by \"ortho\"\n",
    "\tother_embed.syn0norm = other_embed.syn0 = (other_embed.syn0norm).dot(ortho)\n",
    "\treturn other_embed"
   ]
  },
  {
   "cell_type": "code",
   "execution_count": 4,
   "metadata": {},
   "outputs": [],
   "source": [
    "def intersection_align_gensim(m1,m2, words=None):\n",
    "\t# Get the vocab for each model\n",
    "\tvocab_m1 = set(m1.vocab.keys())\n",
    "\tvocab_m2 = set(m2.vocab.keys())\n",
    "\n",
    "\t# Find the common vocabulary\n",
    "\tcommon_vocab = vocab_m1&vocab_m2\n",
    "\tif words: common_vocab&=set(words)\n",
    "\n",
    "\t# If no alignment necessary because vocab is identical...\n",
    "\tif not vocab_m1-common_vocab and not vocab_m2-common_vocab:\n",
    "\t\treturn (m1,m2)\n",
    "\n",
    "\t# Otherwise sort by frequency (summed for both)\n",
    "\tcommon_vocab = list(common_vocab)\n",
    "\tcommon_vocab.sort(key=lambda w: m1.vocab[w].count + m2.vocab[w].count,reverse=True)\n",
    "\n",
    "\t# Then for each model...\n",
    "\tfor m in [m1,m2]:\n",
    "\t\t# Replace old syn0norm array with new one (with common vocab)\n",
    "\t\tindices = [m.vocab[w].index for w in common_vocab]\n",
    "\t\told_arr = m.syn0norm\n",
    "\t\tnew_arr = np.array([old_arr[index] for index in indices])\n",
    "\t\tm.syn0norm = m.syn0 = new_arr\n",
    "\n",
    "\t\t# Replace old vocab dictionary with new one (with common vocab)\n",
    "\t\t# and old index2word with new one\n",
    "\t\tm.index2word = common_vocab\n",
    "\t\told_vocab = m.vocab\n",
    "\t\tnew_vocab = {}\n",
    "\t\tfor new_index,word in enumerate(common_vocab):\n",
    "\t\t\told_vocab_obj=old_vocab[word]\n",
    "\t\t\tnew_vocab[word] = gensim.models.word2vec.Vocab(index=new_index, count=old_vocab_obj.count)\n",
    "\t\tm.vocab = new_vocab\n",
    "\n",
    "\treturn (m1,m2)"
   ]
  },
  {
   "cell_type": "code",
   "execution_count": 6,
   "metadata": {},
   "outputs": [
    {
     "name": "stdout",
     "output_type": "stream",
     "text": [
      "model 0 loaded\n"
     ]
    },
    {
     "name": "stderr",
     "output_type": "stream",
     "text": [
      "C:\\ProgramData\\Anaconda3\\lib\\site-packages\\ipykernel_launcher.py:22: DeprecationWarning: Call to deprecated `syn0norm` (Attribute will be removed in 4.0.0, use self.wv.vectors_norm instead).\n",
      "C:\\ProgramData\\Anaconda3\\lib\\site-packages\\ipykernel_launcher.py:24: DeprecationWarning: Call to deprecated `syn0norm` (Attribute will be removed in 4.0.0, use self.wv.vectors_norm instead).\n",
      "C:\\ProgramData\\Anaconda3\\lib\\site-packages\\ipykernel_launcher.py:24: DeprecationWarning: Call to deprecated `syn0` (Attribute will be removed in 4.0.0, use self.wv.vectors instead).\n",
      "C:\\ProgramData\\Anaconda3\\lib\\site-packages\\ipykernel_launcher.py:10: DeprecationWarning: Call to deprecated `syn0norm` (Attribute will be removed in 4.0.0, use self.wv.vectors_norm instead).\n",
      "  # Remove the CWD from sys.path while we load stuff.\n",
      "C:\\ProgramData\\Anaconda3\\lib\\site-packages\\ipykernel_launcher.py:11: DeprecationWarning: Call to deprecated `syn0norm` (Attribute will be removed in 4.0.0, use self.wv.vectors_norm instead).\n",
      "  # This is added back by InteractiveShellApp.init_path()\n",
      "C:\\ProgramData\\Anaconda3\\lib\\site-packages\\ipykernel_launcher.py:21: DeprecationWarning: Call to deprecated `syn0norm` (Attribute will be removed in 4.0.0, use self.wv.vectors_norm instead).\n",
      "C:\\ProgramData\\Anaconda3\\lib\\site-packages\\ipykernel_launcher.py:21: DeprecationWarning: Call to deprecated `syn0` (Attribute will be removed in 4.0.0, use self.wv.vectors instead).\n",
      "C:\\ProgramData\\Anaconda3\\lib\\site-packages\\ipykernel_launcher.py:9: DeprecationWarning: Call to deprecated `wv` (Attribute will be removed in 4.0.0, use self instead).\n",
      "  if __name__ == '__main__':\n",
      "C:\\ProgramData\\Anaconda3\\lib\\site-packages\\ipykernel_launcher.py:10: DeprecationWarning: Call to deprecated `wv` (Attribute will be removed in 4.0.0, use self instead).\n",
      "  # Remove the CWD from sys.path while we load stuff.\n"
     ]
    },
    {
     "name": "stdout",
     "output_type": "stream",
     "text": [
      "aligned, on to the next\n",
      "aligned, on to the next\n",
      "aligned, on to the next\n",
      "aligned, on to the next\n",
      "aligned, on to the next\n",
      "aligned, on to the next\n",
      "aligned, on to the next\n",
      "aligned, on to the next\n",
      "aligned, on to the next\n",
      "aligned, on to the next\n",
      "aligned, on to the next\n",
      "aligned, on to the next\n",
      "aligned, on to the next\n",
      "aligned, on to the next\n",
      "aligned, on to the next\n",
      "aligned, on to the next\n",
      "aligned, on to the next\n"
     ]
    }
   ],
   "source": [
    "for num,txt in enumerate(list_mod):\n",
    "    if num == 0:\n",
    "        mod_prev = KeyedVectors.load_word2vec_format(txt, binary = True)\n",
    "        print('model ' + str(num) + ' loaded')\n",
    "    if num > 0:\n",
    "        mod_next = KeyedVectors.load_word2vec_format(txt, binary = True)\n",
    "        smart_procrustes_align_gensim(mod_prev, mod_next, words=None)\n",
    "        \n",
    "        mod_prev.wv.save_word2vec_format(list_mod[num-1][0:4] + '_static_aligned.bin', binary=True)\n",
    "        mod_next.wv.save_word2vec_format(txt[0:4] + '_static_aligned.bin', binary=True)\n",
    "        \n",
    "        mod_prev = mod_next\n",
    "        print('aligned, on to the next')"
   ]
  },
  {
   "cell_type": "code",
   "execution_count": null,
   "metadata": {},
   "outputs": [],
   "source": []
  }
 ],
 "metadata": {
  "kernelspec": {
   "display_name": "Python 3",
   "language": "python",
   "name": "python3"
  },
  "language_info": {
   "codemirror_mode": {
    "name": "ipython",
    "version": 3
   },
   "file_extension": ".py",
   "mimetype": "text/x-python",
   "name": "python",
   "nbconvert_exporter": "python",
   "pygments_lexer": "ipython3",
   "version": "3.6.5"
  }
 },
 "nbformat": 4,
 "nbformat_minor": 2
}
