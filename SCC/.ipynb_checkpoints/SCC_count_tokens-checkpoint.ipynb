{
 "cells": [
  {
   "cell_type": "code",
   "execution_count": 1,
   "metadata": {},
   "outputs": [
    {
     "ename": "ImportError",
     "evalue": "No module named 'pandas'",
     "output_type": "error",
     "traceback": [
      "\u001b[0;31m---------------------------------------------------------------------------\u001b[0m",
      "\u001b[0;31mImportError\u001b[0m                               Traceback (most recent call last)",
      "\u001b[0;32m<ipython-input-1-be4288fe88ec>\u001b[0m in \u001b[0;36m<module>\u001b[0;34m\u001b[0m\n\u001b[1;32m      1\u001b[0m \u001b[0;32mimport\u001b[0m \u001b[0mos\u001b[0m\u001b[0;34m\u001b[0m\u001b[0m\n\u001b[1;32m      2\u001b[0m \u001b[0;32mimport\u001b[0m \u001b[0mglob\u001b[0m\u001b[0;34m\u001b[0m\u001b[0m\n\u001b[0;32m----> 3\u001b[0;31m \u001b[0;32mimport\u001b[0m \u001b[0mpandas\u001b[0m \u001b[0;32mas\u001b[0m \u001b[0mpd\u001b[0m\u001b[0;34m\u001b[0m\u001b[0m\n\u001b[0m",
      "\u001b[0;31mImportError\u001b[0m: No module named 'pandas'"
     ]
    }
   ],
   "source": [
    "import os\n",
    "import glob\n",
    "import pandas as pd"
   ]
  },
  {
   "cell_type": "code",
   "execution_count": 2,
   "metadata": {},
   "outputs": [],
   "source": [
    "os.chdir('/home/ruben/Documents/Scriptie/Data/lines')"
   ]
  },
  {
   "cell_type": "code",
   "execution_count": 24,
   "metadata": {},
   "outputs": [],
   "source": [
    "list_txt = glob.glob('*.txt')\n",
    "list_years = [str(y) for y in list(range(1815,1915))]"
   ]
  },
  {
   "cell_type": "code",
   "execution_count": 31,
   "metadata": {},
   "outputs": [],
   "source": [
    "dict_counts = dict()\n",
    "\n",
    "for year in list_years:\n",
    "    counter_year = 0\n",
    "    \n",
    "    tmp_list = [l for l in list_txt if year in l]\n",
    "    tmp_list = [l for l in tmp_list if l[11:15] == year]\n",
    "    \n",
    "    for file in tmp_list:\n",
    "        with open(file) as f:\n",
    "            content = f.readlines()\n",
    "            for line in content:\n",
    "                counter_year = counter_year + len(line.split())\n",
    "    tmp = {int(year):counter_year}\n",
    "    dict_counts.update(tmp)"
   ]
  },
  {
   "cell_type": "code",
   "execution_count": 35,
   "metadata": {},
   "outputs": [],
   "source": [
    "df = pd.DataFrame(list(dict_counts.keys()))\n",
    "df['tokens'] = list(dict_counts.values())\n",
    "df.columns = ['year', 'tokens']\n",
    "df.to_csv('tokens_year.csv', index = False)"
   ]
  },
  {
   "cell_type": "markdown",
   "metadata": {},
   "source": [
    "**Count Tokens/Newspaper/Year**"
   ]
  },
  {
   "cell_type": "code",
   "execution_count": null,
   "metadata": {},
   "outputs": [],
   "source": [
    "list_txt = glob.glob('*.txt')\n",
    "list_npp = list(set([l[0:4] for l in list_txt]))\n",
    "\n",
    "counts_npp_year = pd.DataFrame()\n",
    "\n",
    "\n",
    "for npp in list_npp:\n",
    "    list_npp = [l for l in list_txt if l[0:4] == npp]\n",
    "    \n",
    "    for year in list(set([int(l[6:10]) for l in list_txt]))\n",
    "        list_npp_year = [l for l in list_npp if int(l[6:10]) == year]\n",
    "        \n",
    "        counter_npp_year = 0\n",
    "        for file in list_npp_year:\n",
    "            with open(file) as f:\n",
    "                    content = f.readlines()\n",
    "                    for line in content:\n",
    "                        counter_npp_year = counter_npp_year + len(line.split())\n",
    "        \n",
    "        counter_npp_year = pd.DataFrame(counter_npp_year)\n",
    "        counter_npp_year['npp'] = npp\n",
    "        counter_npp_year['year'] = year\n",
    "        \n",
    "        counts_npp_year = counts_npp_year.append(counter_npp_year)"
   ]
  },
  {
   "cell_type": "code",
   "execution_count": null,
   "metadata": {},
   "outputs": [],
   "source": [
    "counts_npp_year.columns = ['token_count', 'npp', 'year']\n",
    "counts_npp_year['token_count'] = counts_npp_year['token_count'].astype(float)\n",
    "counts_npp_year = counts_npp_year.groupby(['npp','year']).agg('sum')\n",
    "counts_npp_year = counts_npp_year.stack().reset_index().drop('level_2', axis = 1)\n",
    "counts_npp_year.columns = ['token_count', 'npp', 'year']\n",
    "counts_npp_year = counts_npp_year.dropna()\n",
    "counts_npp_year = counts_npp_year.pivot(index='npp', columns='year', values='token_count')\n",
    "counts_npp_year = counts_npp_year.fillna(0)"
   ]
  },
  {
   "cell_type": "code",
   "execution_count": null,
   "metadata": {},
   "outputs": [],
   "source": [
    "counts_npp_year.to_csv('tokens_npp_year.csv')"
   ]
  }
 ],
 "metadata": {
  "kernelspec": {
   "display_name": "Python 3",
   "language": "python",
   "name": "python3"
  },
  "language_info": {
   "codemirror_mode": {
    "name": "ipython",
    "version": 3
   },
   "file_extension": ".py",
   "mimetype": "text/x-python",
   "name": "python",
   "nbconvert_exporter": "python",
   "pygments_lexer": "ipython3",
   "version": "3.6.5"
  }
 },
 "nbformat": 4,
 "nbformat_minor": 2
}
