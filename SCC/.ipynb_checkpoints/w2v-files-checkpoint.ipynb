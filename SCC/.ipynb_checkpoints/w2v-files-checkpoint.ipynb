{
 "cells": [
  {
   "cell_type": "code",
   "execution_count": 10,
   "metadata": {},
   "outputs": [],
   "source": [
    "from nltk.tokenize import sent_tokenize\n",
    "from gensim.models import Word2Vec\n",
    "import nltk\n",
    "from nltk.tokenize import sent_tokenize\n",
    "from nltk.corpus import stopwords\n",
    "import glob\n",
    "import os\n",
    "from os import path\n",
    "import string\n",
    "import numpy\n",
    "import re\n",
    "from __future__ import absolute_import, division, print_function\n",
    "import pandas as pd\n",
    "import multiprocessing\n",
    "import gensim\n",
    "import editdistance"
   ]
  },
  {
   "cell_type": "code",
   "execution_count": 2,
   "metadata": {},
   "outputs": [
    {
     "name": "stderr",
     "output_type": "stream",
     "text": [
      "C:\\ProgramData\\Anaconda3\\lib\\site-packages\\IPython\\core\\interactiveshell.py:2785: DtypeWarning: Columns (1,2) have mixed types. Specify dtype option on import or set low_memory=False.\n",
      "  interactivity=interactivity, compiler=compiler, result=result)\n"
     ]
    }
   ],
   "source": [
    "os.chdir(\"C://Users//Ruben//Documents//Scriptie//Data//unigrams//output//years\")\n",
    "df_unigrams = pd.read_csv('total-unigrams.csv')\n",
    "\n",
    "## Define ED function\n",
    "def GetCloseED(master_df, search_term, len_restr):\n",
    "    output_list = list()\n",
    "    \n",
    "    subset_df = master_df[master_df.ngram.str[0] == search_term[0]]\n",
    "    \n",
    "    for word in list(subset_df.ngram):\n",
    "        ed = editdistance.eval(search_term, word)\n",
    "        if ed < 3:\n",
    "            output_list.append(word)\n",
    "    if len_restr == \"yes\":\n",
    "        output_list = [e for e in output_list if len(e) == len(search_term)]\n",
    "    return output_list\n",
    "\n",
    "def CleanLine(list_of_words, error_list, correct_term):\n",
    "    \n",
    "    list_words = list_of_words\n",
    "\n",
    "    if any(x in list_words for x in error_list) == True:\n",
    "        \n",
    "        error_pos = [w for w in list_words if w in error_list]\n",
    "        \n",
    "        for error in error_pos:\n",
    "            list_words[list_words.index(error)] = correct_term\n",
    "    \n",
    "    return list_words\n",
    "\n"
   ]
  },
  {
   "cell_type": "code",
   "execution_count": 44,
   "metadata": {},
   "outputs": [],
   "source": [
    "os.chdir(\"C:/Users/Ruben/Documents/Scriptie/Data/lines\")\n",
    "files = glob.glob('*.txt')\n"
   ]
  },
  {
   "cell_type": "code",
   "execution_count": 5,
   "metadata": {},
   "outputs": [],
   "source": [
    "alt_buit = GetCloseED(df_unigrams, 'buitenlandsche', 'yes')\n",
    "alt_int = GetCloseED(df_unigrams, 'internationale', 'yes')\n",
    "alt_binn = GetCloseED(df_unigrams, 'binnenlandsche', 'yes')\n",
    "alt_inl = GetCloseED(df_unigrams, 'inlandsche', 'yes')\n",
    "alt_vaderl = GetCloseED(df_unigrams, 'vaderlandsche', 'yes')\n",
    "alt_hol = GetCloseED(df_unigrams, 'hollandsche', 'yes')\n",
    "alt_ned = GetCloseED(df_unigrams, 'nederlandsche', 'yes')"
   ]
  },
  {
   "cell_type": "code",
   "execution_count": 45,
   "metadata": {},
   "outputs": [],
   "source": [
    "with open(files[1], encoding = 'utf-8') as f:\n",
    "    content = f.readlines()\n",
    "        \n",
    "    for line in content:\n",
    "        line_s = line.split()\n",
    "    \n",
    "        output = line_s\n",
    "        sentences.append(output)"
   ]
  },
  {
   "cell_type": "code",
   "execution_count": 41,
   "metadata": {},
   "outputs": [
    {
     "ename": "FileNotFoundError",
     "evalue": "[Errno 2] No such file or directory: '1'",
     "output_type": "error",
     "traceback": [
      "\u001b[1;31m---------------------------------------------------------------------------\u001b[0m",
      "\u001b[1;31mFileNotFoundError\u001b[0m                         Traceback (most recent call last)",
      "\u001b[1;32m<ipython-input-41-1f9a7f39e251>\u001b[0m in \u001b[0;36m<module>\u001b[1;34m()\u001b[0m\n\u001b[0;32m      2\u001b[0m \u001b[1;33m\u001b[0m\u001b[0m\n\u001b[0;32m      3\u001b[0m \u001b[1;32mfor\u001b[0m \u001b[0mfile\u001b[0m \u001b[1;32min\u001b[0m \u001b[0mfiles\u001b[0m\u001b[1;33m:\u001b[0m\u001b[1;33m\u001b[0m\u001b[0m\n\u001b[1;32m----> 4\u001b[1;33m     \u001b[1;32mwith\u001b[0m \u001b[0mopen\u001b[0m\u001b[1;33m(\u001b[0m\u001b[0mfile\u001b[0m\u001b[1;33m,\u001b[0m \u001b[0mencoding\u001b[0m \u001b[1;33m=\u001b[0m \u001b[1;34m'utf-8'\u001b[0m\u001b[1;33m)\u001b[0m \u001b[1;32mas\u001b[0m \u001b[0mf\u001b[0m\u001b[1;33m:\u001b[0m\u001b[1;33m\u001b[0m\u001b[0m\n\u001b[0m\u001b[0;32m      5\u001b[0m         \u001b[0mcontent\u001b[0m \u001b[1;33m=\u001b[0m \u001b[0mf\u001b[0m\u001b[1;33m.\u001b[0m\u001b[0mreadlines\u001b[0m\u001b[1;33m(\u001b[0m\u001b[1;33m)\u001b[0m\u001b[1;33m\u001b[0m\u001b[0m\n\u001b[0;32m      6\u001b[0m \u001b[1;33m\u001b[0m\u001b[0m\n",
      "\u001b[1;31mFileNotFoundError\u001b[0m: [Errno 2] No such file or directory: '1'"
     ]
    }
   ],
   "source": [
    "sentences = list()\n",
    "\n",
    "for file in files:\n",
    "    with open(file, encoding = 'utf-8') as f:\n",
    "        content = f.readlines()\n",
    "        \n",
    "        for line in content:\n",
    "            line_s = line.split()\n",
    "    \n",
    "            output = line_s\n",
    "            sentences.append(output)"
   ]
  },
  {
   "cell_type": "code",
   "execution_count": 46,
   "metadata": {},
   "outputs": [
    {
     "data": {
      "text/plain": [
       "(23076971, 40437250)"
      ]
     },
     "execution_count": 46,
     "metadata": {},
     "output_type": "execute_result"
    }
   ],
   "source": [
    "model = Word2Vec(sentences, size=150, window=10, iter = 12, min_count=50, workers=3)\n",
    "model.train(sentences,total_examples=len(sentences),epochs=10)"
   ]
  },
  {
   "cell_type": "code",
   "execution_count": 34,
   "metadata": {},
   "outputs": [
    {
     "name": "stdout",
     "output_type": "stream",
     "text": [
      "frankrgk\n",
      "frankryk\n",
      "frankiijk\n",
      "frankrqk\n",
      "frankrjjk\n",
      "fiankrijk\n",
      "erankrijk\n",
      "frankrijks\n",
      "fraukrijk\n",
      "frankrijk»\n",
      "frankrijken\n",
      "frankrpk\n",
      "irankrijk\n",
      "frankrük\n",
      "frankriik\n",
      "frankrjk\n",
      "fransche\n",
      "franschen\n",
      "fransehe\n"
     ]
    },
    {
     "name": "stderr",
     "output_type": "stream",
     "text": [
      "C:\\ProgramData\\Anaconda3\\lib\\site-packages\\ipykernel_launcher.py:1: DeprecationWarning: Call to deprecated `most_similar` (Method will be removed in 4.0.0, use self.wv.most_similar() instead).\n",
      "  \"\"\"Entry point for launching an IPython kernel.\n",
      "C:\\ProgramData\\Anaconda3\\lib\\site-packages\\gensim\\matutils.py:737: FutureWarning: Conversion of the second argument of issubdtype from `int` to `np.signedinteger` is deprecated. In future, it will be treated as `np.int32 == np.dtype(int).type`.\n",
      "  if np.issubdtype(vec.dtype, np.int):\n"
     ]
    }
   ],
   "source": [
    "for word in list(pd.DataFrame(model.most_similar('frankrijk', topn=100)).iloc[:,0]):\n",
    "    ed = editdistance.eval('frankrijk', word)\n",
    "    ed2 = editdistance.eval('fransche', word)\n",
    "    if ed < 3 or ed2 < 3:\n",
    "        print(word)\n"
   ]
  },
  {
   "cell_type": "code",
   "execution_count": 50,
   "metadata": {},
   "outputs": [
    {
     "name": "stderr",
     "output_type": "stream",
     "text": [
      "C:\\ProgramData\\Anaconda3\\lib\\site-packages\\ipykernel_launcher.py:1: DeprecationWarning: Call to deprecated `most_similar` (Method will be removed in 4.0.0, use self.wv.most_similar() instead).\n",
      "  \"\"\"Entry point for launching an IPython kernel.\n",
      "C:\\ProgramData\\Anaconda3\\lib\\site-packages\\gensim\\matutils.py:737: FutureWarning: Conversion of the second argument of issubdtype from `int` to `np.signedinteger` is deprecated. In future, it will be treated as `np.int32 == np.dtype(int).type`.\n",
      "  if np.issubdtype(vec.dtype, np.int):\n"
     ]
    },
    {
     "data": {
      "text/plain": [
       "[('buitenlandsche', 0.6276341676712036),\n",
       " ('gemengde', 0.44686993956565857),\n",
       " ('directeurgeneraal', 0.44418561458587646),\n",
       " ('minifter', 0.43507474660873413),\n",
       " ('eeredienst', 0.4203784167766571),\n",
       " ('financien', 0.4133942425251007),\n",
       " ('justitie', 0.4110229015350342),\n",
       " ('minister', 0.38214588165283203),\n",
       " ('staatsraad', 0.37249597907066345),\n",
       " ('limburg', 0.3702529966831207),\n",
       " ('zwolle', 0.3631322383880615),\n",
       " ('missive', 0.36256152391433716),\n",
       " ('juftitie', 0.35707753896713257),\n",
       " ('misfive', 0.35392704606056213),\n",
       " ('state', 0.35319313406944275),\n",
       " ('stuttgardt', 0.35025012493133545),\n",
       " ('utrecht', 0.33926692605018616),\n",
       " ('13', 0.33131635189056396),\n",
       " ('minifterie', 0.3279907703399658),\n",
       " ('oö', 0.3261694312095642),\n",
       " ('licenten', 0.3257238566875458),\n",
       " ('voordragt', 0.3221539556980133),\n",
       " ('hanover', 0.31350472569465637),\n",
       " ('ministerie', 0.3126331865787506),\n",
       " ('betreffende', 0.3114985525608063),\n",
       " ('ingekomen', 0.3105461001396179),\n",
       " ('vermelde', 0.3086577355861664),\n",
       " ('vriesland', 0.30699238181114197),\n",
       " ('excellentie', 0.3065996468067169),\n",
       " ('19', 0.30582109093666077)]"
      ]
     },
     "execution_count": 50,
     "metadata": {},
     "output_type": "execute_result"
    }
   ],
   "source": [
    "model.most_similar(\"binninlandsche\", topn=30)"
   ]
  },
  {
   "cell_type": "code",
   "execution_count": null,
   "metadata": {},
   "outputs": [],
   "source": [
    "model.wv.save_word2vec_format(\"model-nationale.bin\", binary=True)"
   ]
  }
 ],
 "metadata": {
  "kernelspec": {
   "display_name": "Python 3",
   "language": "python",
   "name": "python3"
  },
  "language_info": {
   "codemirror_mode": {
    "name": "ipython",
    "version": 3
   },
   "file_extension": ".py",
   "mimetype": "text/x-python",
   "name": "python",
   "nbconvert_exporter": "python",
   "pygments_lexer": "ipython3",
   "version": "3.6.5"
  }
 },
 "nbformat": 4,
 "nbformat_minor": 2
}
