{
 "cells": [
  {
   "cell_type": "code",
   "execution_count": 1,
   "metadata": {},
   "outputs": [],
   "source": [
    "import csv\n",
    "import os\n",
    "import glob\n",
    "import pandas as pd\n",
    "import nltk\n",
    "import string\n",
    "import re\n",
    "from nltk import ngrams\n",
    "import multiprocessing\n",
    "import time\n",
    "import numpy as np"
   ]
  },
  {
   "cell_type": "code",
   "execution_count": 2,
   "metadata": {},
   "outputs": [],
   "source": [
    "os.chdir(\"C://Users//Ruben//Documents//Scriptie//Data//cngwf\")\n",
    "list_csv = glob.glob(\"*.csv\")"
   ]
  },
  {
   "cell_type": "code",
   "execution_count": 3,
   "metadata": {},
   "outputs": [
    {
     "data": {
      "text/plain": [
       "9"
      ]
     },
     "execution_count": 3,
     "metadata": {},
     "output_type": "execute_result"
    }
   ],
   "source": [
    "names_npp = list(set([s[0:4] for s in list_csv]))\n",
    "len(names_npp)"
   ]
  },
  {
   "cell_type": "code",
   "execution_count": null,
   "metadata": {},
   "outputs": [
    {
     "name": "stdout",
     "output_type": "stream",
     "text": [
      "1074\n"
     ]
    }
   ],
   "source": [
    "# Create Bigram Files Per Newspaper\n",
    "\n",
    "for name in names_npp:\n",
    "    \n",
    "    list_files_npp = [s for s in list_csv if name in s]\n",
    "    print(len(list_files_npp))\n",
    "    ngrams_npp = pd.concat( [ pd.read_csv(f) for f in list_files_npp ] )\n",
    "    \n",
    "    ngrams_npp[\"year\"] = ngrams_npp[\"year\"].astype(str)\n",
    "    ngrams_npp['year'] = ngrams_npp.year.str[0:4]\n",
    "    \n",
    "    if (len(list_files_npp) < 500):\n",
    "        filename = name + \"_special_bigrams.csv\"\n",
    "        ngrams_npp['year'] = ngrams_npp['year'].astype(int)\n",
    "        ngrams_npp = pd.pivot_table(ngrams_npp, values='count', index=['ngram'], columns=['year'], aggfunc=np.sum)\n",
    "    else:\n",
    "        filename = name + \"_bigrams.csv\"\n",
    "    \n",
    "    os.chdir(\"C://Users//Ruben//Documents//Scriptie//Data//cngwf//output\")\n",
    "    ngrams_npp.to_csv(filename)\n",
    "    os.chdir(\"C://Users//Ruben//Documents//Scriptie//Data//cngwf\")\n",
    "    print('one unigram combination iteration finished for: ' + name)"
   ]
  },
  {
   "cell_type": "code",
   "execution_count": 4,
   "metadata": {
    "collapsed": true
   },
   "outputs": [
    {
     "name": "stdout",
     "output_type": "stream",
     "text": [
      "algh_unigrams.csv    imported\n",
      "arnc_unigrams.csv    imported\n",
      "brdc_unigrams.csv    imported\n",
      "delc_unigrams.csv    imported\n",
      "dzhg_unigrams.csv    imported\n",
      "hagc_unigrams.csv    imported\n",
      "leco_unigrams.csv    imported\n",
      "leyc_unigrams.csv    imported\n",
      "mico_unigrams.csv    imported\n",
      "nesc_unigrams.csv    imported\n",
      "nroc_unigrams.csv    imported\n",
      "nvdd_unigrams.csv    imported\n",
      "ophc_unigrams.csv    imported\n",
      "prda_unigrams.csv    imported\n",
      "prnb_unigrams.csv    imported\n",
      "prov_unigrams.csv    imported\n",
      "roco_unigrams.csv    imported\n",
      "roni_unigrams.csv    imported\n",
      "stan_unigrams.csv    imported\n",
      "tico_unigrams.csv    imported\n",
      "tijd_unigrams.csv    imported\n"
     ]
    },
    {
     "name": "stderr",
     "output_type": "stream",
     "text": [
      "C:\\ProgramData\\Anaconda3\\lib\\site-packages\\ipykernel_launcher.py:11: FutureWarning: Sorting because non-concatenation axis is not aligned. A future version\n",
      "of pandas will change to not sort by default.\n",
      "\n",
      "To accept the future behavior, pass 'sort=True'.\n",
      "\n",
      "To retain the current behavior and silence the warning, pass sort=False\n",
      "\n",
      "  # This is added back by InteractiveShellApp.init_path()\n"
     ]
    },
    {
     "ename": "NameError",
     "evalue": "name 'ngrams_npp' is not defined",
     "output_type": "error",
     "traceback": [
      "\u001b[1;31m---------------------------------------------------------------------------\u001b[0m",
      "\u001b[1;31mNameError\u001b[0m                                 Traceback (most recent call last)",
      "\u001b[1;32m<ipython-input-4-4882c399b619>\u001b[0m in \u001b[0;36m<module>\u001b[1;34m()\u001b[0m\n\u001b[0;32m     10\u001b[0m \u001b[1;33m\u001b[0m\u001b[0m\n\u001b[0;32m     11\u001b[0m \u001b[0mframe\u001b[0m \u001b[1;33m=\u001b[0m \u001b[0mpd\u001b[0m\u001b[1;33m.\u001b[0m\u001b[0mconcat\u001b[0m\u001b[1;33m(\u001b[0m\u001b[0mlist_\u001b[0m\u001b[1;33m,\u001b[0m \u001b[0maxis\u001b[0m \u001b[1;33m=\u001b[0m \u001b[1;36m0\u001b[0m\u001b[1;33m,\u001b[0m \u001b[0mignore_index\u001b[0m \u001b[1;33m=\u001b[0m \u001b[1;32mTrue\u001b[0m\u001b[1;33m)\u001b[0m\u001b[1;33m\u001b[0m\u001b[0m\n\u001b[1;32m---> 12\u001b[1;33m \u001b[0mngrams_npp\u001b[0m\u001b[1;33m.\u001b[0m\u001b[0mto_csv\u001b[0m\u001b[1;33m(\u001b[0m\u001b[1;34m'total_unigrams.csv'\u001b[0m\u001b[1;33m)\u001b[0m\u001b[1;33m\u001b[0m\u001b[0m\n\u001b[0m",
      "\u001b[1;31mNameError\u001b[0m: name 'ngrams_npp' is not defined"
     ]
    }
   ],
   "source": [
    "os.chdir(\"C://Users//Ruben//Documents//Scriptie//Data//cngwf//output\")\n",
    "list_csv = glob.glob(\"*.csv\")\n",
    "\n",
    "list_ = []\n",
    "\n",
    "for file_ in list_csv:\n",
    "    df = pd.read_csv(file_,index_col=None, header=0)\n",
    "    list_.append(df)\n",
    "    print(file_ + \"    imported\")\n",
    "\n",
    "frame = pd.concat(list_, axis = 0, ignore_index = True)\n"
   ]
  },
  {
   "cell_type": "code",
   "execution_count": null,
   "metadata": {},
   "outputs": [],
   "source": [
    "frame.to_csv('total_unigrams.csv')\n"
   ]
  },
  {
   "cell_type": "code",
   "execution_count": null,
   "metadata": {},
   "outputs": [],
   "source": []
  }
 ],
 "metadata": {
  "kernelspec": {
   "display_name": "Python 3",
   "language": "python",
   "name": "python3"
  },
  "language_info": {
   "codemirror_mode": {
    "name": "ipython",
    "version": 3
   },
   "file_extension": ".py",
   "mimetype": "text/x-python",
   "name": "python",
   "nbconvert_exporter": "python",
   "pygments_lexer": "ipython3",
   "version": "3.6.5"
  }
 },
 "nbformat": 4,
 "nbformat_minor": 2
}
