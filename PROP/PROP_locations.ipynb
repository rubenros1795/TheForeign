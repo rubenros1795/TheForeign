{
 "cells": [
  {
   "cell_type": "code",
   "execution_count": 1,
   "metadata": {},
   "outputs": [
    {
     "name": "stderr",
     "output_type": "stream",
     "text": [
      "C:\\ProgramData\\Anaconda3\\lib\\site-packages\\gensim\\utils.py:1212: UserWarning: detected Windows; aliasing chunkize to chunkize_serial\n",
      "  warnings.warn(\"detected Windows; aliasing chunkize to chunkize_serial\")\n"
     ]
    }
   ],
   "source": [
    "from nltk.tokenize import sent_tokenize\n",
    "from gensim.models import Word2Vec\n",
    "import nltk\n",
    "from nltk.tokenize import sent_tokenize\n",
    "from nltk.corpus import stopwords\n",
    "import glob\n",
    "import os\n",
    "from os import path\n",
    "import string\n",
    "import numpy\n",
    "import re\n",
    "from __future__ import absolute_import, division, print_function\n",
    "import pandas as pd\n",
    "import multiprocessing\n",
    "import gensim\n",
    "import random\n",
    "from tqdm import tqdm\n",
    "import pandas as pd\n",
    "from gensim.models import KeyedVectors\n",
    "from numpy import array\n",
    "import matplotlib.pyplot as plt\n",
    "import numpy as np\n",
    "from collections import Counter"
   ]
  },
  {
   "cell_type": "markdown",
   "metadata": {},
   "source": [
    "Import models to detect spelling alternatives"
   ]
  },
  {
   "cell_type": "code",
   "execution_count": null,
   "metadata": {},
   "outputs": [],
   "source": [
    "nations_list = ['engeland', 'amerika', 'canada', 'spanje', 'china', 'frankrijk','rusland','marokko' , 'duitsehland' ,'duitsohland','zuidafrika', 'japan','frankryk', 'duitschland', 'belgie', 'ierland', 'perzie', 'portugal', 'italië', 'pruisfchen', 'pruissen']\n",
    "cities_list = ['londen', 'lorden','tiflis', 'washington','helsingfors','bakoe','petersburg', 'new york', 'madrid','parys', 'parijs', 'rome', 'moskou','warschau']\n",
    "meta_list = dict()"
   ]
  },
  {
   "cell_type": "code",
   "execution_count": 3,
   "metadata": {},
   "outputs": [],
   "source": [
    "os.chdir(\"D://Scriptie//Data//models//static\")"
   ]
  },
  {
   "cell_type": "code",
   "execution_count": 10,
   "metadata": {},
   "outputs": [],
   "source": [
    "list_models = glob.glob('*model.bin')\n",
    "\n",
    "for m in list_models:\n",
    "    m_ = KeyedVectors.load_word2vec_format(list_models[0], binary = True)\n"
   ]
  },
  {
   "cell_type": "code",
   "execution_count": 17,
   "metadata": {},
   "outputs": [
    {
     "name": "stderr",
     "output_type": "stream",
     "text": [
      "C:\\ProgramData\\Anaconda3\\lib\\site-packages\\gensim\\matutils.py:737: FutureWarning: Conversion of the second argument of issubdtype from `int` to `np.signedinteger` is deprecated. In future, it will be treated as `np.int32 == np.dtype(int).type`.\n",
      "  if np.issubdtype(vec.dtype, np.int):\n"
     ]
    },
    {
     "data": {
      "text/plain": [
       "[('warschau', 0.7967435121536255),\n",
       " ('petersburg', 0.7344478964805603),\n",
       " ('lodz', 0.7299051284790039),\n",
       " ('bakoe', 0.7211025357246399),\n",
       " ('helsingfors', 0.7121407985687256),\n",
       " ('tiflis', 0.7020827531814575),\n",
       " ('kiew', 0.672735869884491),\n",
       " ('stpetersburg', 0.6123262643814087),\n",
       " ('odessa', 0.611154317855835),\n",
       " ('kaukasus', 0.603832483291626),\n",
       " ('revolutionaire', 0.5901491641998291),\n",
       " ('revolutionairen', 0.5849637389183044),\n",
       " ('barcelona', 0.5813467502593994),\n",
       " ('sebastopol', 0.5801302790641785),\n",
       " ('teheran', 0.5790446996688843),\n",
       " ('narbonne', 0.5766619443893433),\n",
       " ('revolutionnaire', 0.5754972696304321),\n",
       " ('batoem', 0.5732383728027344),\n",
       " ('kozakken', 0.5699904561042786),\n",
       " ('boedapest', 0.5687218904495239)]"
      ]
     },
     "execution_count": 17,
     "metadata": {},
     "output_type": "execute_result"
    }
   ],
   "source": [
    "m_.most_similar('moskou', topn=20)"
   ]
  },
  {
   "cell_type": "code",
   "execution_count": 5,
   "metadata": {},
   "outputs": [],
   "source": [
    "os.chdir(\"C://Users//Ruben//Documents//Scriptie//Data//kwic_dfs\")"
   ]
  },
  {
   "cell_type": "code",
   "execution_count": null,
   "metadata": {},
   "outputs": [],
   "source": []
  }
 ],
 "metadata": {
  "kernelspec": {
   "display_name": "Python 3",
   "language": "python",
   "name": "python3"
  },
  "language_info": {
   "codemirror_mode": {
    "name": "ipython",
    "version": 3
   },
   "file_extension": ".py",
   "mimetype": "text/x-python",
   "name": "python",
   "nbconvert_exporter": "python",
   "pygments_lexer": "ipython3",
   "version": "3.6.5"
  }
 },
 "nbformat": 4,
 "nbformat_minor": 2
}
