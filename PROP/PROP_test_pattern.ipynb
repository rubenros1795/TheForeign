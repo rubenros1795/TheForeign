{
 "cells": [
  {
   "cell_type": "code",
   "execution_count": 27,
   "metadata": {},
   "outputs": [],
   "source": [
    "from pattern.nl import sentiment\n",
    "from pattern.nl import parse, split\n",
    "import pandas as pd\n",
    "import glob\n",
    "import os\n",
    "from pattern.nl import tenses, PAST, FUTURE,PL\n",
    "from collections import Counter"
   ]
  },
  {
   "cell_type": "code",
   "execution_count": 7,
   "metadata": {},
   "outputs": [],
   "source": [
    "os.chdir(\"C://Users//Ruben//Documents//Scriptie//Data//kwic_dfs\")"
   ]
  },
  {
   "cell_type": "code",
   "execution_count": 49,
   "metadata": {},
   "outputs": [],
   "source": [
    "df = pd.read_csv('buitenland_all_fuzzy_24.csv')\n",
    "#df = df.sample(n=200)\n",
    "#df = df.reset_index(drop=True)"
   ]
  },
  {
   "cell_type": "code",
   "execution_count": 65,
   "metadata": {},
   "outputs": [
    {
     "name": "stdout",
     "output_type": "stream",
     "text": [
      "1840 | 13.142257951765119\n",
      "1841 | 15.295143937191044\n",
      "1842 | 13.171057019006335\n",
      "1843 | 13.5\n",
      "1844 | 16.62330905306972\n",
      "1845 | 17.517496912309593\n",
      "1846 | 15.310427968655818\n",
      "1847 | 17.085822068531908\n",
      "1848 | 14.660168598524765\n",
      "1849 | 13.76792352628784\n",
      "1850 | 15.281842473597148\n",
      "1851 | 15.545632151828077\n",
      "1852 | 16.905384213277575\n",
      "1853 | 14.122638650368724\n",
      "1854 | 14.17346630401934\n",
      "1855 | 14.228942522050984\n",
      "1856 | 16.360700322964476\n",
      "1857 | 13.471145564168822\n",
      "1858 | 13.918339724791338\n",
      "1859 | 15.594567737661476\n",
      "1860 | 13.968659150535348\n",
      "1861 | 15.095388034821264\n",
      "1862 | 15.842148603281181\n",
      "1863 | 15.43726235741445\n",
      "1864 | 15.15338263489455\n",
      "1865 | 13.64693375855425\n",
      "1866 | 14.915254237288137\n",
      "1867 | 14.711119905025722\n",
      "1868 | 12.86300968025814\n",
      "1869 | 13.347763347763347\n",
      "1870 | 10.139484978540771\n",
      "1871 | 11.3390525923163\n",
      "1872 | 12.295476419634262\n",
      "1873 | 10.054884742041713\n",
      "1874 | 9.9008\n",
      "1875 | 9.692931633835459\n",
      "1876 | 10.692691903259727\n",
      "1877 | 10.96155044556615\n",
      "1878 | 10.08383791336749\n",
      "1879 | 11.081510323274758\n",
      "1880 | 12.259731868841866\n",
      "1881 | 11.704205929671339\n",
      "1882 | 12.29183590576767\n",
      "1883 | 12.122549885219849\n",
      "1884 | 10.543920135851387\n",
      "1885 | 11.244005315768186\n",
      "1886 | 12.440779084049833\n",
      "1887 | 11.530491415038483\n",
      "1888 | 12.353968773883611\n",
      "1889 | 11.902746425884123\n",
      "1890 | 12.778209405420228\n",
      "1891 | 11.86583366564757\n",
      "1892 | 14.568262596696634\n",
      "1893 | 12.238381040320098\n",
      "1894 | 10.74444217825821\n",
      "1895 | 12.491268178065663\n",
      "1896 | 12.1247892074199\n",
      "1897 | 12.623541466961955\n",
      "1898 | 12.694589142151697\n",
      "1899 | 12.27710031251915\n",
      "1900 | 12.15203426124197\n",
      "1901 | 12.311863993662788\n",
      "1902 | 11.772925196594528\n",
      "1903 | 12.408969644530968\n",
      "1904 | 12.642036634585532\n",
      "1905 | 13.332740371786889\n",
      "1906 | 13.388797822657967\n",
      "1907 | 9.694424085245531\n",
      "1908 | 10.956481800436329\n",
      "1909 | 10.860151559885837\n",
      "1910 | 10.801504140611797\n",
      "1911 | 13.157635952404368\n",
      "1912 | 11.683448289038767\n",
      "1913 | 12.633134808503238\n",
      "1914 | 0\n"
     ]
    }
   ],
   "source": [
    "for year in range(1840,1915):\n",
    "    \n",
    "    dft = df[df.year == year]\n",
    "    dft['kwic'].apply(str)\n",
    "    sentences = [sentence for sentence in list(dft.kwic)]\n",
    "    sentences= [s for s in sentences if str(s) != 'nan']\n",
    "    sentences = [sentence.split(' ') for sentence in sentences]\n",
    "    words = [item for sublist in sentences for item in sublist]\n",
    "    \n",
    "    word_counts = dict(Counter(words))\n",
    "    \n",
    "    count = 0\n",
    "    \n",
    "    if \"zal\" in list(word_counts.keys()):\n",
    "        value_zal = [v for k,v in word_counts.items() if k == \"zal\"][0]\n",
    "        count += value_zal\n",
    "        \n",
    "    if \"zullen\" in list(word_counts.keys()):\n",
    "        value_zullen = [v for k,v in word_counts.items() if k == \"zullen\"][0]\n",
    "        count += value_zullen\n",
    "        \n",
    "    if count > 0:\n",
    "        count = count / len(list(dft.kwic)) * 100\n",
    "    \n",
    "    print(str(year) + \" | \" + str(count))"
   ]
  },
  {
   "cell_type": "code",
   "execution_count": 24,
   "metadata": {},
   "outputs": [
    {
     "data": {
      "text/plain": [
       "[('past', None, 'plural', 'indicative', 'imperfective'),\n",
       " ('past', 1, 'plural', 'indicative', 'imperfective'),\n",
       " ('past', 2, 'plural', 'indicative', 'imperfective'),\n",
       " ('past', 3, 'plural', 'indicative', 'imperfective')]"
      ]
     },
     "execution_count": 24,
     "metadata": {},
     "output_type": "execute_result"
    }
   ],
   "source": [
    "tenses('wij zullen optreden')"
   ]
  },
  {
   "cell_type": "code",
   "execution_count": null,
   "metadata": {},
   "outputs": [],
   "source": []
  },
  {
   "cell_type": "code",
   "execution_count": 4,
   "metadata": {},
   "outputs": [
    {
     "data": {
      "text/plain": [
       "[[['Buitenlandsche', 'NNP', 'B-NP', 'O', 'NP-SBJ-1'],\n",
       "  ['mogendheden', 'NNS', 'I-NP', 'O', 'NP-SBJ-1'],\n",
       "  ['hebben', 'MD', 'B-VP', 'O', 'VP-1'],\n",
       "  ['het', 'DT', 'B-NP', 'O', 'NP-OBJ-1'],\n",
       "  ['gemund', 'NN', 'I-NP', 'O', 'NP-OBJ-1'],\n",
       "  ['op', 'IN', 'B-PP', 'B-PNP', 'O'],\n",
       "  ['ons', 'PRP$', 'B-NP', 'I-PNP', 'O'],\n",
       "  ['vaderland', 'NN', 'I-NP', 'I-PNP', 'O'],\n",
       "  ['terwijl', 'PRP', 'I-NP', 'I-PNP', 'O'],\n",
       "  ['in', 'IN', 'B-PP', 'B-PNP', 'O'],\n",
       "  ['het', 'DT', 'B-NP', 'I-PNP', 'O'],\n",
       "  ['buitenland', 'NN', 'I-NP', 'I-PNP', 'O'],\n",
       "  ['de', 'DT', 'B-NP', 'I-PNP', 'NP-SBJ-2'],\n",
       "  ['oorlog', 'NN', 'I-NP', 'I-PNP', 'NP-SBJ-2'],\n",
       "  ['woedt', 'VBZ', 'B-VP', 'O', 'VP-2']]]"
      ]
     },
     "execution_count": 4,
     "metadata": {},
     "output_type": "execute_result"
    }
   ],
   "source": [
    "parse('Buitenlandsche mogendheden hebben het gemund op ons vaderland terwijl in het buitenland de oorlog woedt', relations=True).split()"
   ]
  },
  {
   "cell_type": "code",
   "execution_count": 23,
   "metadata": {},
   "outputs": [],
   "source": [
    "from pattern.nl import parse, split\n",
    "s = parsetree('Buitenlandsche mogendheden hebben het gemund op ons vaderland terwijl in het buitenland de oorlog woedt', relations=True, lemmata=True)\n"
   ]
  },
  {
   "cell_type": "code",
   "execution_count": 13,
   "metadata": {},
   "outputs": [],
   "source": [
    "s = parse('Buitenlandsche mogendheden hebben het gemund op ons vaderland terwijl in het buitenland de oorlog woedt')\n"
   ]
  },
  {
   "cell_type": "code",
   "execution_count": 24,
   "metadata": {},
   "outputs": [
    {
     "name": "stdout",
     "output_type": "stream",
     "text": [
      "NP [('Buitenlandsche', 'NNP'), ('mogendheden', 'NNS')]\n",
      "VP [('hebben', 'MD')]\n",
      "NP [('het', 'DT'), ('gemund', 'NN')]\n",
      "PP [('op', 'IN')]\n",
      "NP [('ons', 'PRP$'), ('vaderland', 'NN'), ('terwijl', 'PRP')]\n",
      "PP [('in', 'IN')]\n",
      "NP [('het', 'DT'), ('buitenland', 'NN')]\n",
      "NP [('de', 'DT'), ('oorlog', 'NN')]\n",
      "VP [('woedt', 'VBZ')]\n"
     ]
    }
   ],
   "source": [
    "for sentence in s:\n",
    "    for chunk in sentence.chunks:\n",
    "         print(chunk.type, [(w.string, w.type) for w in chunk.words])\n",
    " "
   ]
  },
  {
   "cell_type": "code",
   "execution_count": 19,
   "metadata": {},
   "outputs": [
    {
     "ename": "AttributeError",
     "evalue": "'Text' object has no attribute 'chunks'",
     "output_type": "error",
     "traceback": [
      "\u001b[1;31m---------------------------------------------------------------------------\u001b[0m",
      "\u001b[1;31mAttributeError\u001b[0m                            Traceback (most recent call last)",
      "\u001b[1;32m<ipython-input-19-40f536317b4c>\u001b[0m in \u001b[0;36m<module>\u001b[1;34m()\u001b[0m\n\u001b[1;32m----> 1\u001b[1;33m \u001b[0msplit\u001b[0m\u001b[1;33m(\u001b[0m\u001b[0ms\u001b[0m\u001b[1;33m)\u001b[0m\u001b[1;33m.\u001b[0m\u001b[0mchunks\u001b[0m\u001b[1;33m\u001b[0m\u001b[0m\n\u001b[0m",
      "\u001b[1;31mAttributeError\u001b[0m: 'Text' object has no attribute 'chunks'"
     ]
    }
   ],
   "source": [
    "split(s).chunks"
   ]
  },
  {
   "cell_type": "code",
   "execution_count": null,
   "metadata": {},
   "outputs": [],
   "source": []
  }
 ],
 "metadata": {
  "kernelspec": {
   "display_name": "Python 3",
   "language": "python",
   "name": "python3"
  },
  "language_info": {
   "codemirror_mode": {
    "name": "ipython",
    "version": 3
   },
   "file_extension": ".py",
   "mimetype": "text/x-python",
   "name": "python",
   "nbconvert_exporter": "python",
   "pygments_lexer": "ipython3",
   "version": "3.6.5"
  }
 },
 "nbformat": 4,
 "nbformat_minor": 2
}
