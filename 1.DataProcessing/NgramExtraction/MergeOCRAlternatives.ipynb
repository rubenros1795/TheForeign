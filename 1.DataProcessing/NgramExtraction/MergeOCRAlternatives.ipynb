{
 "cells": [
  {
   "cell_type": "code",
   "execution_count": 29,
   "metadata": {},
   "outputs": [],
   "source": [
    "import glob\n",
    "import os\n",
    "from os import path\n",
    "import string\n",
    "import numpy as np\n",
    "import re\n",
    "import pandas as pd\n",
    "import multiprocessing\n",
    "import gensim\n",
    "import editdistance"
   ]
  },
  {
   "cell_type": "code",
   "execution_count": 4,
   "metadata": {},
   "outputs": [
    {
     "name": "stderr",
     "output_type": "stream",
     "text": [
      "C:\\ProgramData\\Anaconda3\\lib\\site-packages\\IPython\\core\\interactiveshell.py:2785: DtypeWarning: Columns (1,2) have mixed types. Specify dtype option on import or set low_memory=False.\n",
      "  interactivity=interactivity, compiler=compiler, result=result)\n"
     ]
    }
   ],
   "source": [
    "os.chdir(\"C://Users//Ruben//Documents//Scriptie//Data//unigrams//output//years\")\n",
    "df_unigrams = pd.read_csv('total-unigrams.csv')\n",
    "os.chdir(\"C:/Users/Ruben/Documents/Scriptie/Data/lines\")"
   ]
  },
  {
   "cell_type": "code",
   "execution_count": 64,
   "metadata": {},
   "outputs": [],
   "source": [
    "## Define ED function\n",
    "def CreateRepDict(master_df, list_correct_terms):\n",
    "    output_list = list()\n",
    "    master_list = list(set(master_df.ngram))\n",
    "    \n",
    "    for term in list_correct_terms:\n",
    "    \n",
    "        for word in master_list:\n",
    "            ed = editdistance.eval(term, word)\n",
    "            \n",
    "            if ed < 3 and len(word) == len(term) and word != term:\n",
    "                tmp = [word, term]\n",
    "                output_list.append(tmp)\n",
    "                    \n",
    "    return output_list"
   ]
  },
  {
   "cell_type": "code",
   "execution_count": 65,
   "metadata": {},
   "outputs": [],
   "source": [
    "correction_dict = CreateRepDict(df_unigrams, ['buitenlandsche', 'internationale', 'binnenlandsche', 'inlandsche', 'vaderlandsche', 'hollandsche', 'nederlandsche', 'buitenland', 'binnenland'])"
   ]
  },
  {
   "cell_type": "code",
   "execution_count": 46,
   "metadata": {},
   "outputs": [],
   "source": [
    "# Save\n",
    "os.chdir(\"C://Users//Ruben//Documents//GitHub//TheForeign//SCC//output-data\")\n",
    "np.save('correction_dict.npy', correction_dict) "
   ]
  },
  {
   "cell_type": "code",
   "execution_count": 47,
   "metadata": {},
   "outputs": [],
   "source": [
    "# Load\n",
    "correction_dict = np.load('correction_dict.npy').item()"
   ]
  },
  {
   "cell_type": "code",
   "execution_count": 66,
   "metadata": {},
   "outputs": [
    {
     "data": {
      "text/plain": [
       "[['baitenlandeche', 'buitenlandsche'],\n"
      ]
     },
     "execution_count": 66,
     "metadata": {},
     "output_type": "execute_result"
    }
   ],
   "source": [
    "correction_dict"
   ]
  },
  {
   ],
   "source": [
    "os.chdir(\"C:/Users/Ruben/Documents/Scriptie/Data/lines\")\n",
    "with open('1817_lines.txt', encoding = 'utf-8') as infile, open('1817_lines_clean.txt', 'w', encoding = 'utf-8') as outfile:\n",
    "    for line in infile:\n",
    "        for old, new in correction_dict:\n",
    "            line = line.replace(old, new)\n",
    "            print('correction performed')\n",
    "        outfile.write(line)"
   ]
  },
  {
   "cell_type": "code",
   "execution_count": 55,
   "metadata": {},
   "outputs": [],
   "source": [
    "df_cor = pd.DataFrame(list(correction_dict.keys()))\n",
    "df_cor['corr'] = list(correction_dict.values())"
   ]
  },
  {
   "cell_type": "code",
   "execution_count": 69,
   "metadata": {},
   "outputs": [
    {
     "name": "stdout",
     "output_type": "stream",
     "text": [
      "baitenlandeche\n",
      "üuitenlandsche\n",
      "bultenlandtche\n",
      "buitenlaxdsche\n",
      "bditenlandschu\n",
      "buitenlandpche\n",
      "lmitenlandsche\n",
      "ouitenlandscbe\n",
      "bultenlandscht\n",
      "büitellandsche\n"
     ]
    }
   ],
   "source": [
    "for old, new in correction_dict[0:10]:\n",
    "    print(old)"
   ]
  },
  {
   "cell_type": "code",
   "execution_count": null,
   "metadata": {},
   "outputs": [],
   "source": []
  }
 ],
 "metadata": {
  "kernelspec": {
   "display_name": "Python 3",
   "language": "python",
   "name": "python3"
  },
  "language_info": {
   "codemirror_mode": {
    "name": "ipython",
    "version": 3
   },
   "file_extension": ".py",
   "mimetype": "text/x-python",
   "name": "python",
   "nbconvert_exporter": "python",
   "pygments_lexer": "ipython3",
   "version": "3.6.5"
  }
 },
 "nbformat": 4,
 "nbformat_minor": 2
}
