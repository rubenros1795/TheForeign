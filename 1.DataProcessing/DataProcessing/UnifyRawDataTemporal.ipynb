{
 "cells": [
  {
   "cell_type": "code",
   "execution_count": 1,
   "metadata": {},
   "outputs": [],
   "source": [
    "import csv\n",
    "import os\n",
    "import glob\n",
    "import pandas as pd\n",
    "import nltk\n",
    "import string\n",
    "import re\n",
    "from nltk import ngrams\n",
    "import multiprocessing\n",
    "import time\n",
    "import numpy as np\n",
    "from math import floor"
   ]
  },
  {
   "cell_type": "markdown",
   "metadata": {},
   "source": [
    "**Create Yearly .CSV per Newspaper**\n",
    "\n",
    "The newspapers are sometimes ngramized per month or day. The script below merges them per year. "
   ]
  },
  {
   "cell_type": "code",
   "execution_count": 2,
   "metadata": {},
   "outputs": [],
   "source": [
    "os.chdir(\"C://Users//Ruben//Documents//Scriptie//Data//cngwf2//output\")"
   ]
  },
  {
   "cell_type": "code",
   "execution_count": 3,
   "metadata": {},
   "outputs": [],
   "source": [
    "list_files = glob.glob('*.csv')\n",
    "list_names = list(set([f[0:4] for f in list_files]))\n",
    "list_years = list(set([int(f.split(\"_\")[2][0:4]) for f in list_files]))"
   ]
  },
  {
   "cell_type": "code",
   "execution_count": 4,
   "metadata": {},
   "outputs": [
    {
     "name": "stdout",
     "output_type": "stream",
     "text": [
      "1895_bigrams.csv written\n",
      "1896_bigrams.csv written\n",
      "1897_bigrams.csv written\n",
      "1898_bigrams.csv written\n",
      "1899_bigrams.csv written\n",
      "1900_bigrams.csv written\n",
      "1901_bigrams.csv written\n",
      "1902_bigrams.csv written\n",
      "1903_bigrams.csv written\n",
      "1904_bigrams.csv written\n",
      "1905_bigrams.csv written\n",
      "1906_bigrams.csv written\n",
      "1907_bigrams.csv written\n",
      "1908_bigrams.csv written\n",
      "1909_bigrams.csv written\n",
      "1910_bigrams.csv written\n",
      "1911_bigrams.csv written\n",
      "1912_bigrams.csv written\n",
      "1913_bigrams.csv written\n",
      "1914_bigrams.csv written\n"
     ]
    }
   ],
   "source": [
    "for year in list(set([int(f.split(\"_\")[2][0:4]) for f in list_files])):\n",
    "    \n",
    "    #if year <= 1894:\n",
    "    #    continue\n",
    "    \n",
    "    #else:\n",
    "    \n",
    "        list_files_year = [x for x in list_files if int(x.split(\"_\")[2][0:4]) == year]\n",
    "\n",
    "        df_year_name = pd.DataFrame(columns = ['ngram', 'year', 'count'])\n",
    "\n",
    "        for file in list_files_year:\n",
    "            df = pd.read_csv(file)        \n",
    "            df = df.groupby(['ngram','year']).agg('sum')\n",
    "            df = df.stack().reset_index().drop('level_2', axis = 1)\n",
    "            df.columns = ['ngram', 'year', 'count']\n",
    "            df_year_name = df_year_name.append(df)\n",
    "\n",
    "        df_year_name['year'] = df_year_name['year'].astype(str)\n",
    "        df_year_name['year'] = df_year_name['year'].str.slice(0,4)\n",
    "        df_year_name = df_year_name.groupby(['ngram','year']).agg('sum')\n",
    "        df_year_name = df_year_name.stack().reset_index().drop('level_2', axis = 1)\n",
    "        df_year_name.columns = ['ngram', 'year', 'count']\n",
    "\n",
    "        os.chdir(\"C://Users//Ruben//Documents//Scriptie//Data//cngwf2//output\")\n",
    "        filename = str(year) + '_bigrams.csv'\n",
    "        df_year_name.to_csv(filename, index = False)\n",
    "        os.chdir(\"C://Users//Ruben//Documents//Scriptie//Data//cngwf2\")\n",
    "        print(filename + \" written\")\n"
   ]
  },
  {
   "cell_type": "code",
   "execution_count": 3,
   "metadata": {},
   "outputs": [
    {
     "name": "stderr",
     "output_type": "stream",
     "text": [
      "C:\\ProgramData\\Anaconda3\\lib\\site-packages\\IPython\\core\\interactiveshell.py:2785: DtypeWarning: Columns (1,2) have mixed types. Specify dtype option on import or set low_memory=False.\n",
      "  interactivity=interactivity, compiler=compiler, result=result)\n"
     ]
    }
   ],
   "source": [
    "df = pd.read_csv('total-bigrams.csv')"
   ]
  },
  {
   "cell_type": "code",
   "execution_count": null,
   "metadata": {},
   "outputs": [],
   "source": []
  }
 ],
 "metadata": {
  "kernelspec": {
   "display_name": "Python 3",
   "language": "python",
   "name": "python3"
  },
  "language_info": {
   "codemirror_mode": {
    "name": "ipython",
    "version": 3
   },
   "file_extension": ".py",
   "mimetype": "text/x-python",
   "name": "python",
   "nbconvert_exporter": "python",
   "pygments_lexer": "ipython3",
   "version": "3.6.5"
  }
 },
 "nbformat": 4,
 "nbformat_minor": 2
}
